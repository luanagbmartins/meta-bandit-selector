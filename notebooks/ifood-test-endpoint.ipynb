{
 "cells": [
  {
   "cell_type": "code",
   "execution_count": 23,
   "metadata": {},
   "outputs": [],
   "source": [
    "import pandas as pd\n",
    "import requests\n",
    "import json\n",
    "import pandas as pd\n",
    "import matplotlib.pyplot as plt\n",
    "import numpy as np"
   ]
  },
  {
   "cell_type": "code",
   "execution_count": 24,
   "metadata": {
    "scrolled": true
   },
   "outputs": [
    {
     "output_type": "execute_result",
     "data": {
      "text/plain": "                             session_id                              order_id  \\\n0  0cc7036c-e040-4151-98b4-2603e3e2b970  6abe6bb0-0d4e-4e98-b99f-495701d40889   \n1  12d1f374-8931-4a9e-8092-a8a9919425b8  aed0e69b-69fe-4e47-b85f-41a13d48d7df   \n\n                             account_id                           merchant_id  \\\n0  820c4c8d-4ab4-471f-b869-5fddf4c92de8  043523bc-f00f-4405-a6ee-da9f90072694   \n1  11d1f4a9-17a6-4be0-a9c0-ffe7fab66ed3  77778688-5f06-474c-baf9-e9af88c3fc9d   \n\n                                           merc_list  \\\n0  [58e347fa-591a-4327-b6a4-22c1ba9f2f3c, bd23cb8...   \n1  [ad0405ae-dbf3-4e02-9813-9905c0f81c45, 8837403...   \n\n                                          merc_score  \\\n0  [4.333330154418945, 3.9920499324798584, 4.0, 4...   \n1  [4.647349834442139, 4.5, 4.647349834442139, 4....   \n\n                                        delivery_fee  \\\n0  [8.0, 10.0, 11.99, 11.99, 6.5, 0.0, 7.0, 6.99,...   \n1  [0.0, 0.0, 0.0, 9.0, 0.0, 11.99, 0.0, 40.0, 12...   \n\n                                       delivery_time  \\\n0  [60.0, 65.0, 23.0, 36.0, 40.0, 20.0, 60.0, 15....   \n1  [13.0, 28.0, 14.0, 20.0, 33.0, 43.0, 33.0, 45....   \n\n                                            distance  score_size  \\\n0  [3.08, 6.35, 5.03, 6.66, 3.79, 5.57, 3.15, 2.1...          73   \n1  [0.49, 2.5, 0.49, 1.22, 0.98, 6.88, 2.34, 12.3...          45   \n\n           shift order_date_local   user_lat  user_long  \n0   weekend dawn       2020-03-09 -23.494074 -46.615925  \n1  weekday snack       2020-03-10 -23.542443 -46.567025  ",
      "text/html": "<div>\n<style scoped>\n    .dataframe tbody tr th:only-of-type {\n        vertical-align: middle;\n    }\n\n    .dataframe tbody tr th {\n        vertical-align: top;\n    }\n\n    .dataframe thead th {\n        text-align: right;\n    }\n</style>\n<table border=\"1\" class=\"dataframe\">\n  <thead>\n    <tr style=\"text-align: right;\">\n      <th></th>\n      <th>session_id</th>\n      <th>order_id</th>\n      <th>account_id</th>\n      <th>merchant_id</th>\n      <th>merc_list</th>\n      <th>merc_score</th>\n      <th>delivery_fee</th>\n      <th>delivery_time</th>\n      <th>distance</th>\n      <th>score_size</th>\n      <th>shift</th>\n      <th>order_date_local</th>\n      <th>user_lat</th>\n      <th>user_long</th>\n    </tr>\n  </thead>\n  <tbody>\n    <tr>\n      <th>0</th>\n      <td>0cc7036c-e040-4151-98b4-2603e3e2b970</td>\n      <td>6abe6bb0-0d4e-4e98-b99f-495701d40889</td>\n      <td>820c4c8d-4ab4-471f-b869-5fddf4c92de8</td>\n      <td>043523bc-f00f-4405-a6ee-da9f90072694</td>\n      <td>[58e347fa-591a-4327-b6a4-22c1ba9f2f3c, bd23cb8...</td>\n      <td>[4.333330154418945, 3.9920499324798584, 4.0, 4...</td>\n      <td>[8.0, 10.0, 11.99, 11.99, 6.5, 0.0, 7.0, 6.99,...</td>\n      <td>[60.0, 65.0, 23.0, 36.0, 40.0, 20.0, 60.0, 15....</td>\n      <td>[3.08, 6.35, 5.03, 6.66, 3.79, 5.57, 3.15, 2.1...</td>\n      <td>73</td>\n      <td>weekend dawn</td>\n      <td>2020-03-09</td>\n      <td>-23.494074</td>\n      <td>-46.615925</td>\n    </tr>\n    <tr>\n      <th>1</th>\n      <td>12d1f374-8931-4a9e-8092-a8a9919425b8</td>\n      <td>aed0e69b-69fe-4e47-b85f-41a13d48d7df</td>\n      <td>11d1f4a9-17a6-4be0-a9c0-ffe7fab66ed3</td>\n      <td>77778688-5f06-474c-baf9-e9af88c3fc9d</td>\n      <td>[ad0405ae-dbf3-4e02-9813-9905c0f81c45, 8837403...</td>\n      <td>[4.647349834442139, 4.5, 4.647349834442139, 4....</td>\n      <td>[0.0, 0.0, 0.0, 9.0, 0.0, 11.99, 0.0, 40.0, 12...</td>\n      <td>[13.0, 28.0, 14.0, 20.0, 33.0, 43.0, 33.0, 45....</td>\n      <td>[0.49, 2.5, 0.49, 1.22, 0.98, 6.88, 2.34, 12.3...</td>\n      <td>45</td>\n      <td>weekday snack</td>\n      <td>2020-03-10</td>\n      <td>-23.542443</td>\n      <td>-46.567025</td>\n    </tr>\n  </tbody>\n</table>\n</div>"
     },
     "metadata": {},
     "execution_count": 24
    }
   ],
   "source": [
    "df_val = pd.read_parquet(\"../../deep-reco-gym/output/new_ifood/new_ifood_dataset/validation/\")\n",
    "df_val.head(2)"
   ]
  },
  {
   "cell_type": "code",
   "execution_count": 25,
   "metadata": {},
   "outputs": [
    {
     "output_type": "execute_result",
     "data": {
      "text/plain": "   weekday breakfast  weekday dawn  weekday dinner  weekday lunch  \\\n0                  0             0               0              0   \n1                  0             0               0              0   \n2                  0             0               0              1   \n3                  0             0               1              0   \n4                  0             0               0              0   \n\n   weekday snack  weekend dawn  weekend dinner  weekend lunch  \n0              0             1               0              0  \n1              1             0               0              0  \n2              0             0               0              0  \n3              0             0               0              0  \n4              0             0               1              0  ",
      "text/html": "<div>\n<style scoped>\n    .dataframe tbody tr th:only-of-type {\n        vertical-align: middle;\n    }\n\n    .dataframe tbody tr th {\n        vertical-align: top;\n    }\n\n    .dataframe thead th {\n        text-align: right;\n    }\n</style>\n<table border=\"1\" class=\"dataframe\">\n  <thead>\n    <tr style=\"text-align: right;\">\n      <th></th>\n      <th>weekday breakfast</th>\n      <th>weekday dawn</th>\n      <th>weekday dinner</th>\n      <th>weekday lunch</th>\n      <th>weekday snack</th>\n      <th>weekend dawn</th>\n      <th>weekend dinner</th>\n      <th>weekend lunch</th>\n    </tr>\n  </thead>\n  <tbody>\n    <tr>\n      <th>0</th>\n      <td>0</td>\n      <td>0</td>\n      <td>0</td>\n      <td>0</td>\n      <td>0</td>\n      <td>1</td>\n      <td>0</td>\n      <td>0</td>\n    </tr>\n    <tr>\n      <th>1</th>\n      <td>0</td>\n      <td>0</td>\n      <td>0</td>\n      <td>0</td>\n      <td>1</td>\n      <td>0</td>\n      <td>0</td>\n      <td>0</td>\n    </tr>\n    <tr>\n      <th>2</th>\n      <td>0</td>\n      <td>0</td>\n      <td>0</td>\n      <td>1</td>\n      <td>0</td>\n      <td>0</td>\n      <td>0</td>\n      <td>0</td>\n    </tr>\n    <tr>\n      <th>3</th>\n      <td>0</td>\n      <td>0</td>\n      <td>1</td>\n      <td>0</td>\n      <td>0</td>\n      <td>0</td>\n      <td>0</td>\n      <td>0</td>\n    </tr>\n    <tr>\n      <th>4</th>\n      <td>0</td>\n      <td>0</td>\n      <td>0</td>\n      <td>0</td>\n      <td>0</td>\n      <td>0</td>\n      <td>1</td>\n      <td>0</td>\n    </tr>\n  </tbody>\n</table>\n</div>"
     },
     "metadata": {},
     "execution_count": 25
    }
   ],
   "source": [
    "df_context = pd.get_dummies(df_val['shift'])\n",
    "df_context.head()"
   ]
  },
  {
   "cell_type": "code",
   "execution_count": 26,
   "metadata": {},
   "outputs": [],
   "source": [
    "payload  = {\"user\": \"2af23152-f69a-4369-961d-de6d99eda425\", \"items\": [\"bc10350a-e506-46bb-b18c-31b4b08be359\", \"910ac22d-d16f-40cf-a91f-859b5620dcf0\", \"2af23152-f69a-4369-961d-de6d99eda425\"]}\n"
   ]
  },
  {
   "cell_type": "code",
   "execution_count": 27,
   "metadata": {},
   "outputs": [],
   "source": [
    "def recommender(payload):\n",
    "    # curl -i \\\n",
    "    #   --header \"Content-Type: application/json\" \\\n",
    "    #   --request POST \\\n",
    "    #   --data '{\"user\": \"anything\", \"items\": [\"a6aa3afc-30c4-4e64-aad5-b1a6db104245\", \"fb42869a-088d-4b98-941f-aa15ca464128\", \"6a462430-96cc-424d-9f03-7c85bbdb9b1d\"]}' \\\n",
    "    #   http://localhost:5000/rank\n",
    "\n",
    "    r = requests.post(endpoint, data = json.dumps(payload), headers={\"Content-Type\": \"application/json\"} )\n",
    "    r.text   \n",
    "    return json.loads(r.text)"
   ]
  },
  {
   "cell_type": "code",
   "execution_count": 28,
   "metadata": {
    "scrolled": true
   },
   "outputs": [],
   "source": [
    "row     = df_val.iloc[0]\n",
    "context = df_context.iloc[0]\n",
    "\n",
    "\n",
    "payload  = {\"context\": context.to_dict(), \n",
    "            \"input\": {\"user\": row.account_id, \"items\": list(row.merc_list)}} \n",
    "#payload"
   ]
  },
  {
   "cell_type": "code",
   "execution_count": 37,
   "metadata": {},
   "outputs": [
    {
     "output_type": "execute_result",
     "data": {
      "text/plain": "                                session_id  \\\n6585  3a3dab3d-f400-429c-aee7-a5f5ea14ffa4   \n2404  41b5c729-ae8e-470d-bf71-aba2ea50b30b   \n\n                                  order_id  \\\n6585  5db908d5-b9cd-4097-a465-aecbf80c5c6c   \n2404  e1d56663-a40f-4697-8f0e-412c9d0b9216   \n\n                                account_id  \\\n6585  ffe77582-bf0f-45d3-a0d0-146a327cc4c4   \n2404  5f9db5bf-a692-4986-bb18-1f013b385e81   \n\n                               merchant_id  \\\n6585  fe538f26-2eac-449e-a987-236c8ff20066   \n2404  d6a470f6-aea6-43d6-85d3-73d577f8d1e7   \n\n                                              merc_list  \\\n6585  [56267013-b7b2-4ea9-9aef-d237b5a3c1bc, 8c599d4...   \n2404  [c7f95a7f-fcc9-4926-ae4c-535c99d7364b, ba4e4f1...   \n\n                                             merc_score  \\\n6585  [4.0, 4.556359767913818, 4.556359767913818, 4....   \n2404  [4.776400089263916, 5.0, 0.0, 2.0, 4.808450222...   \n\n                                           delivery_fee  \\\n6585  [5.99, 7.99, 7.99, 0.0, 12.0, 12.99, 0.0, 7.99...   \n2404  [12.0, 7.0, 11.99, 11.99, 12.9, 7.99, 5.99, 6....   \n\n                                          delivery_time  \\\n6585  [32.0, 29.0, 25.0, 12.0, 40.0, 35.0, 28.0, 25....   \n2404  [65.0, 60.0, 68.0, 65.0, 59.0, 53.0, 17.0, 43....   \n\n                                               distance  score_size  \\\n6585  [3.6, 2.04, 2.01, 0.92, 4.63, 5.21, 2.79, 1.92...          95   \n2404  [4.1, 3.13, 6.76, 6.47, 2.64, 2.89, 1.82, 2.79...         103   \n\n               shift order_date_local   user_lat  user_long  \n6585  weekday dinner       2020-03-11 -23.541706 -46.644948  \n2404  weekend dinner       2020-03-13 -23.540081 -46.635020  ",
      "text/html": "<div>\n<style scoped>\n    .dataframe tbody tr th:only-of-type {\n        vertical-align: middle;\n    }\n\n    .dataframe tbody tr th {\n        vertical-align: top;\n    }\n\n    .dataframe thead th {\n        text-align: right;\n    }\n</style>\n<table border=\"1\" class=\"dataframe\">\n  <thead>\n    <tr style=\"text-align: right;\">\n      <th></th>\n      <th>session_id</th>\n      <th>order_id</th>\n      <th>account_id</th>\n      <th>merchant_id</th>\n      <th>merc_list</th>\n      <th>merc_score</th>\n      <th>delivery_fee</th>\n      <th>delivery_time</th>\n      <th>distance</th>\n      <th>score_size</th>\n      <th>shift</th>\n      <th>order_date_local</th>\n      <th>user_lat</th>\n      <th>user_long</th>\n    </tr>\n  </thead>\n  <tbody>\n    <tr>\n      <th>6585</th>\n      <td>3a3dab3d-f400-429c-aee7-a5f5ea14ffa4</td>\n      <td>5db908d5-b9cd-4097-a465-aecbf80c5c6c</td>\n      <td>ffe77582-bf0f-45d3-a0d0-146a327cc4c4</td>\n      <td>fe538f26-2eac-449e-a987-236c8ff20066</td>\n      <td>[56267013-b7b2-4ea9-9aef-d237b5a3c1bc, 8c599d4...</td>\n      <td>[4.0, 4.556359767913818, 4.556359767913818, 4....</td>\n      <td>[5.99, 7.99, 7.99, 0.0, 12.0, 12.99, 0.0, 7.99...</td>\n      <td>[32.0, 29.0, 25.0, 12.0, 40.0, 35.0, 28.0, 25....</td>\n      <td>[3.6, 2.04, 2.01, 0.92, 4.63, 5.21, 2.79, 1.92...</td>\n      <td>95</td>\n      <td>weekday dinner</td>\n      <td>2020-03-11</td>\n      <td>-23.541706</td>\n      <td>-46.644948</td>\n    </tr>\n    <tr>\n      <th>2404</th>\n      <td>41b5c729-ae8e-470d-bf71-aba2ea50b30b</td>\n      <td>e1d56663-a40f-4697-8f0e-412c9d0b9216</td>\n      <td>5f9db5bf-a692-4986-bb18-1f013b385e81</td>\n      <td>d6a470f6-aea6-43d6-85d3-73d577f8d1e7</td>\n      <td>[c7f95a7f-fcc9-4926-ae4c-535c99d7364b, ba4e4f1...</td>\n      <td>[4.776400089263916, 5.0, 0.0, 2.0, 4.808450222...</td>\n      <td>[12.0, 7.0, 11.99, 11.99, 12.9, 7.99, 5.99, 6....</td>\n      <td>[65.0, 60.0, 68.0, 65.0, 59.0, 53.0, 17.0, 43....</td>\n      <td>[4.1, 3.13, 6.76, 6.47, 2.64, 2.89, 1.82, 2.79...</td>\n      <td>103</td>\n      <td>weekend dinner</td>\n      <td>2020-03-13</td>\n      <td>-23.540081</td>\n      <td>-46.635020</td>\n    </tr>\n  </tbody>\n</table>\n</div>"
     },
     "metadata": {},
     "execution_count": 37
    }
   ],
   "source": [
    "sample = df_val.sample(2)\n",
    "sample.head(2)"
   ]
  },
  {
   "cell_type": "code",
   "execution_count": 40,
   "metadata": {
    "tags": [
     "outputPrepend",
     "outputPrepend",
     "outputPrepend",
     "outputPrepend",
     "outputPrepend",
     "outputPrepend",
     "outputPrepend",
     "outputPrepend",
     "outputPrepend",
     "outputPrepend",
     "outputPrepend",
     "outputPrepend",
     "outputPrepend",
     "outputPrepend",
     "outputPrepend",
     "outputPrepend",
     "outputPrepend",
     "outputPrepend",
     "outputPrepend",
     "outputPrepend",
     "outputPrepend",
     "outputPrepend",
     "outputPrepend",
     "outputPrepend",
     "outputPrepend",
     "outputPrepend",
     "outputPrepend",
     "outputPrepend",
     "outputPrepend",
     "outputPrepend",
     "outputPrepend",
     "outputPrepend",
     "outputPrepend",
     "outputPrepend",
     "outputPrepend",
     "outputPrepend",
     "outputPrepend",
     "outputPrepend",
     "outputPrepend",
     "outputPrepend",
     "outputPrepend",
     "outputPrepend",
     "outputPrepend",
     "outputPrepend",
     "outputPrepend",
     "outputPrepend",
     "outputPrepend",
     "outputPrepend",
     "outputPrepend",
     "outputPrepend",
     "outputPrepend",
     "outputPrepend",
     "outputPrepend",
     "outputPrepend",
     "outputPrepend",
     "outputPrepend",
     "outputPrepend",
     "outputPrepend",
     "outputPrepend",
     "outputPrepend",
     "outputPrepend",
     "outputPrepend",
     "outputPrepend",
     "outputPrepend"
    ]
   },
   "outputs": [
    {
     "output_type": "stream",
     "name": "stdout",
     "text": "{\"result\": {\"items\": [\"af421d60-8920-4031-9a9c-410817a890fb\", \"7d5191bd-90ea-489e-b577-3a7b0841c87d\", \"7d5191bd-90ea-489e-b577-3a7b0841c87d\", \"f96ceb8d-6f16-41a2-bad9-54edd1723b9d\", \"f96ceb8d-6f16-41a2-bad9-54edd1723b9d\", \"f96ceb8d-6f16-41a2-bad9-54edd1723b9d\", \"f96ceb8d-6f16-41a2-bad9-54edd1723b9d\", \"f96ceb8d-6f16-41a2-bad9-54edd1723b9d\", \"dbe9a8bb-6a08-46b9-996c-a37291e37698\", \"dbe9a8bb-6a08-46b9-996c-a37291e37698\", \"cba47261-2bb3-41b0-b95f-5b57aede865a\", \"cba47261-2bb3-41b0-b95f-5b57aede865a\", \"ca49e500-d9bf-4859-a904-2177718eb03d\", \"ca49e500-d9bf-4859-a904-2177718eb03d\", \"ca49e500-d9bf-4859-a904-2177718eb03d\", \"ca49e500-d9bf-4859-a904-2177718eb03d\", \"c8e3b624-92b8-492f-b0dd-3626f0b0203e\", \"c8e3b624-92b8-492f-b0dd-3626f0b0203e\", \"c7f95a7f-fcc9-4926-ae4c-535c99d7364b\", \"c7f95a7f-fcc9-4926-ae4c-535c99d7364b\", \"b548c5f7-a9b0-4e5f-bb11-0b98214d12c1\", \"b548c5f7-a9b0-4e5f-bb11-0b98214d12c1\", \"b548c5f7-a9b0-4e5f-bb11-0b98214d12c1\", \"a00ff063-84a8-4eb7-8b77-918de56a16ac\", \"a00ff063-84a8-4eb7-8b77-918de56a16ac\", \"94aaf166-84cc-4ebf-a35d-d223be34d01f\", \"94aaf166-84cc-4ebf-a35d-d223be34d01f\", \"8c599d42-84e7-488e-a4b6-ae762edb1bdb\", \"8c599d42-84e7-488e-a4b6-ae762edb1bdb\", \"8c599d42-84e7-488e-a4b6-ae762edb1bdb\", \"8c599d42-84e7-488e-a4b6-ae762edb1bdb\", \"81b4ba82-e4d2-4fe1-8700-5116b1a97b98\", \"81b4ba82-e4d2-4fe1-8700-5116b1a97b98\", \"81b4ba82-e4d2-4fe1-8700-5116b1a97b98\", \"81b4ba82-e4d2-4fe1-8700-5116b1a97b98\", \"81b4ba82-e4d2-4fe1-8700-5116b1a97b98\", \"71374dcc-e972-4dec-b735-b09469891e60\", \"6e4d1d51-d864-444b-9866-e63c2853e578\", \"56267013-b7b2-4ea9-9aef-d237b5a3c1bc\", \"56267013-b7b2-4ea9-9aef-d237b5a3c1bc\", \"56267013-b7b2-4ea9-9aef-d237b5a3c1bc\", \"49c13948-f7fc-461a-b00a-9453989f9d66\", \"49c13948-f7fc-461a-b00a-9453989f9d66\", \"21b0a12c-e81a-4d3e-a2fd-cc3af72b504f\", \"21b0a12c-e81a-4d3e-a2fd-cc3af72b504f\", \"0b34d827-e08e-4a94-ac05-7d43939aeb2f\", \"0b34d827-e08e-4a94-ac05-7d43939aeb2f\", \"8e3520ff-5a70-4dcb-85b5-3e2d329244f0\", \"8e3520ff-5a70-4dcb-85b5-3e2d329244f0\", \"2431e9f3-4494-4506-8ea2-cbc4f604e247\", \"2431e9f3-4494-4506-8ea2-cbc4f604e247\", \"2431e9f3-4494-4506-8ea2-cbc4f604e247\", \"2431e9f3-4494-4506-8ea2-cbc4f604e247\", \"2431e9f3-4494-4506-8ea2-cbc4f604e247\", \"d080f814-e4a9-400b-aa60-9c10ee7af1ee\", \"d080f814-e4a9-400b-aa60-9c10ee7af1ee\", \"35506228-c70d-4a45-adb2-4ea9d90fee0c\", \"35506228-c70d-4a45-adb2-4ea9d90fee0c\", \"35506228-c70d-4a45-adb2-4ea9d90fee0c\", \"29f56c86-e2cb-4e81-a91d-8366bfccd1fc\", \"29f56c86-e2cb-4e81-a91d-8366bfccd1fc\", \"29f56c86-e2cb-4e81-a91d-8366bfccd1fc\", \"76cfccb8-cccc-4978-bb42-57a0362c7068\", \"76cfccb8-cccc-4978-bb42-57a0362c7068\", \"76cfccb8-cccc-4978-bb42-57a0362c7068\", \"6bddae64-a73d-4b99-bd63-98218f9423d8\", \"6bddae64-a73d-4b99-bd63-98218f9423d8\", \"6bddae64-a73d-4b99-bd63-98218f9423d8\", \"cede358a-ea4b-4aa6-8bdc-753b2fb18bb7\", \"cede358a-ea4b-4aa6-8bdc-753b2fb18bb7\", \"cede358a-ea4b-4aa6-8bdc-753b2fb18bb7\", \"cede358a-ea4b-4aa6-8bdc-753b2fb18bb7\", \"ba370f1d-ec96-41e3-affa-699e09e92360\", \"ba370f1d-ec96-41e3-affa-699e09e92360\", \"16fb4ec8-27c6-4103-9866-a1f795869864\", \"16fb4ec8-27c6-4103-9866-a1f795869864\", \"16fb4ec8-27c6-4103-9866-a1f795869864\", \"16fb4ec8-27c6-4103-9866-a1f795869864\", \"16fb4ec8-27c6-4103-9866-a1f795869864\", \"5f0f3ffa-ff37-4705-a943-3c2d8220e90b\", \"5f0f3ffa-ff37-4705-a943-3c2d8220e90b\", \"ecfe7e9b-bdcc-4bdb-b919-833ad0c63675\", \"ecfe7e9b-bdcc-4bdb-b919-833ad0c63675\", \"ecfe7e9b-bdcc-4bdb-b919-833ad0c63675\", \"ecfe7e9b-bdcc-4bdb-b919-833ad0c63675\", \"886d3c31-fa51-4fb7-bce3-7bfb302a9e51\", \"abda5f09-0204-40a4-8ed9-4b8c3b7f2198\", \"abda5f09-0204-40a4-8ed9-4b8c3b7f2198\", \"abda5f09-0204-40a4-8ed9-4b8c3b7f2198\", \"d8d62560-1652-4824-a49f-3e519540e5a6\", \"d8d62560-1652-4824-a49f-3e519540e5a6\", \"dc74eff5-bd43-4075-b1cb-1c0ec1c4c5ce\", \"dc74eff5-bd43-4075-b1cb-1c0ec1c4c5ce\", \"630f49cb-05e1-47ca-87b1-aff112119657\", \"630f49cb-05e1-47ca-87b1-aff112119657\"], \"scores\": [0.0, 0.0, 0.0, -4.515657424926758, -3.575745105743408, -2.171626091003418, 0.0, -0.7339158058166504, -3.5873496532440186, -0.7339158058166504, -6.664414882659912, 0.0, 0.0, -3.575745105743408, -9.349607467651367, 0.0, 0.0, 0.0, 3.215939521789551, -7.408632278442383, 0.0, 0.0, 0.0, 0.0, 0.0, -1.672687292098999, 0.0, -1.6142785549163818, -6.664414882659912, 0.0, 0.0, 0.0, -3.5873496532440186, 0.0, 0.0, -1.5456907749176025, -5.3062334060668945, 0.0, 0.0, 0.0, 0.0, -4.515657424926758, -1.5456907749176025, -1.672687292098999, 0.0, -2.171626091003418, 0.0, -1.672687292098999, -0.6657707691192627, 0.0, 0.2462523877620697, 0.0, -5.749851226806641, 0.0, 0.0, -3.5873496532440186, 0.0, 0.0, 0.0, -0.6657707691192627, 0.0, -1.5456907749176025, 0.0, 0.0, -5.749851226806641, -3.7380218505859375, -1.6142785549163818, -1.9121812582015991, -1.9121812582015991, 0.0, -0.6657707691192627, 0.0, -2.171626091003418, -3.5873496532440186, -5.749851226806641, -0.6657707691192627, 0.0, -1.9121812582015991, -3.5873496532440186, 0.0, -4.515657424926758, -0.06788945198059082, 0.0, 0.0, 0.2462523877620697, 0.0, -9.349607467651367, -7.408632278442383, -2.171626091003418, -4.515657424926758, -3.7380218505859375, 0.0, -0.06788945198059082, -0.6657707691192627, -1.6142785549163818]}, \"bandit\": {\"arm\": \"cvae\"}}\n{\"result\": {\"items\": [\"6bddae64-a73d-4b99-bd63-98218f9423d8\", \"2431e9f3-4494-4506-8ea2-cbc4f604e247\", \"525768a6-9432-4c38-b79f-07ca74e8730f\", \"71374dcc-e972-4dec-b735-b09469891e60\", \"f59d5894-c6a2-4ddd-ba45-a9e3f4d8a4cc\", \"4e57dd83-19a1-4a05-a34c-4d22bc4772c1\", \"5b860137-b6b7-4701-b2e4-2ab2efcc0f3f\", \"ecfe7e9b-bdcc-4bdb-b919-833ad0c63675\", \"595f29c3-3264-4e74-8089-cec0421420fb\", \"dbe9a8bb-6a08-46b9-996c-a37291e37698\", \"d8d62560-1652-4824-a49f-3e519540e5a6\", \"de0718ee-c1c3-489b-bb42-00fbb2ee1860\", \"56267013-b7b2-4ea9-9aef-d237b5a3c1bc\", \"d080f814-e4a9-400b-aa60-9c10ee7af1ee\", \"2431e9f3-4494-4506-8ea2-cbc4f604e247\", \"c681d6c0-b355-4049-a78d-4704f8ed4564\", \"886d3c31-fa51-4fb7-bce3-7bfb302a9e51\", \"ee687c44-a39c-438a-a7b5-6be8231c6c7e\", \"b1c231bf-31b3-4b06-9574-69e3474449b7\", \"0b34d827-e08e-4a94-ac05-7d43939aeb2f\", \"c2726852-339c-4a9d-9423-a23ab1c209ea\", \"8e2d2ac3-0383-4d8a-9618-aabdde9e7f97\", \"b551ea73-f349-4bfa-b18e-a9f8fdb011f5\", \"e0b4a8c8-dcf3-4feb-9411-303e410cd883\", \"7d00a462-425c-416a-8d75-958d2cc52a21\", \"452987ad-362c-4f36-803c-396c8484f426\", \"87bb108b-1a6e-4369-8516-3fbf20c0038c\", \"31052d7e-37cb-47d3-a5a2-af70962ebce1\", \"749fa27e-d1f8-4274-a2e8-186ef3e1dbbe\", \"9a842fbb-a3ae-4828-bd4e-c8fcfe711de3\", \"6a56019e-7c8d-4e5f-a456-f534dd2b6ecd\", \"87bb108b-1a6e-4369-8516-3fbf20c0038c\", \"ba0787ea-65d9-47be-b77f-9d9e1680927f\", \"c7f95a7f-fcc9-4926-ae4c-535c99d7364b\", \"b696446c-60fa-4c0c-833f-5ce020fdc78c\", \"2c7898c9-ed78-4838-ad9c-b03c32221cbd\", \"28af3426-602a-494e-a92c-b2996184b24a\", \"cede358a-ea4b-4aa6-8bdc-753b2fb18bb7\", \"e9d4b93f-8d64-456d-9043-f4a05bd6b78a\", \"f34186af-ac6b-44a7-8319-d53aab067372\", \"28f1947d-6e17-4af1-ba80-7aff74f1656d\", \"02ef544c-57af-4663-a834-179050149e82\", \"7d09802a-9036-4050-a5e7-07e223130df5\", \"8803f548-cc3a-4918-a3a5-1e99787e3fe4\", \"575e71f7-a90c-4c55-bb2c-7f71d5e94e24\", \"cede358a-ea4b-4aa6-8bdc-753b2fb18bb7\", \"abda5f09-0204-40a4-8ed9-4b8c3b7f2198\", \"d080f814-e4a9-400b-aa60-9c10ee7af1ee\", \"83a49143-0e9d-4d61-9f1d-5bcbada41ae4\", \"16fb4ec8-27c6-4103-9866-a1f795869864\", \"b664a881-2cca-491b-b358-5c86728d4b10\", \"76cfccb8-cccc-4978-bb42-57a0362c7068\", \"363aa83a-06fb-4ba2-83d4-d2b37abedbc8\", \"71374dcc-e972-4dec-b735-b09469891e60\", \"f96ceb8d-6f16-41a2-bad9-54edd1723b9d\", \"ba4e4f12-40a0-48ca-a250-ef6cf0edf5ce\", \"5852aff2-b26c-48ad-a914-e4620a024e05\", \"94aaf166-84cc-4ebf-a35d-d223be34d01f\", \"9dd72a24-f3b9-4fbf-876f-40ea378eb6ce\", \"05d50a6b-979d-45de-9ac1-62277b47049c\", \"ac24d0b0-2367-4424-ac4e-c4e90f871c18\", \"72f73d2c-2984-41d4-a6d2-d02b0a264f80\", \"18ab46e7-d10b-4ed2-86c9-55bd5e08c517\", \"35e575d6-3070-4978-9f7c-968b1dd0647e\", \"1e3dbec3-59f9-4030-9f76-8532c9fbca53\", \"437e0b74-991b-4616-9c20-b426e51c5d81\", \"c6fd4471-843f-480f-a93a-997277996f6d\", \"d945d977-0022-4e57-8dcd-cc7b8f5e18bc\", \"919b401b-0f8d-4a92-ba50-da61deaec192\", \"c6213312-34d1-43e9-96e7-0b22045c610d\", \"ff5efbe7-7a01-4beb-b87c-71848adbc82f\", \"8c599d42-84e7-488e-a4b6-ae762edb1bdb\", \"af421d60-8920-4031-9a9c-410817a890fb\", \"02675521-bacb-4530-9d5f-ce92f4695f6f\", \"7d5191bd-90ea-489e-b577-3a7b0841c87d\", \"2b2d9910-afcf-43ff-804e-3b6a7f33dcd8\", \"84de0ad5-7f55-4bf5-933b-e1b59466ba4a\", \"b7ad98a6-3008-4a2e-a3a6-7ce63aee9c60\", \"a00ff063-84a8-4eb7-8b77-918de56a16ac\", \"2a48799d-8206-4655-8e4b-4cdeb06482f3\", \"29f56c86-e2cb-4e81-a91d-8366bfccd1fc\", \"669c1b27-75ef-4c0e-8787-d4def2df6794\", \"217858a9-1314-4517-9974-458311ac6a89\", \"af421d60-8920-4031-9a9c-410817a890fb\", \"a22eff6f-6182-4a83-834a-af2ad561917d\", \"bf4a58bc-2f6c-4eef-a41f-b725329dc4be\", \"29f56c86-e2cb-4e81-a91d-8366bfccd1fc\", \"17edd211-0a62-496c-914f-977c7d416c33\", \"833a980a-302a-4baa-a269-216f19158732\", \"b664a881-2cca-491b-b358-5c86728d4b10\", \"dbcefca5-5f33-4ab3-a900-5c3571e99201\", \"67d64512-45be-4f70-ae44-1a43b5e4eb00\", \"dc64eb13-be98-43b9-9261-57446851b318\", \"9d76c4f3-ad52-4099-8da1-7f85fb72dcb2\", \"d8751d7e-d419-4bd9-b857-d2825cc04469\", \"dc74eff5-bd43-4075-b1cb-1c0ec1c4c5ce\", \"b4d9993c-1958-46d5-92f0-c6e22668065a\", \"f676541b-c537-406c-ad14-843aa81aa8ea\", \"d654a2eb-d23e-4ad8-9a1e-e534d4ccb380\", \"6e4d1d51-d864-444b-9866-e63c2853e578\", \"6d087e90-4c46-496f-b244-da3bb4f7bf7a\", \"35e575d6-3070-4978-9f7c-968b1dd0647e\", \"5210fb6b-77ec-4f70-b540-2bdc2004fd8f\"]}, \"bandit\": {\"arm\": \"random\"}}\n"
    }
   ],
   "source": [
    "endpoint = 'http://localhost:5000/predict'\n",
    "\n",
    "results = []\n",
    "scores  = []\n",
    "\n",
    "for i, row in sample.iterrows():\n",
    "    context  = df_context.iloc[i]\n",
    "    payload  = {\"context\": context.to_dict(), \n",
    "                \"input\": {\"user\": row.account_id,     \"items\": list(row.merc_list)}} \n",
    "\n",
    "    r = requests.post(endpoint, data = json.dumps(payload), \n",
    "                        headers={\"Content-Type\": \"application/json\"} )\n",
    "    \n",
    "    print(r.text)\n",
    "    result = r.text   \n",
    "    results.append(result)"
   ]
  },
  {
   "cell_type": "code",
   "execution_count": 41,
   "metadata": {},
   "outputs": [],
   "source": [
    "# plt.plot(pd.DataFrame(total_zero)[0].rolling(1000).mean())\n",
    "# #scores"
   ]
  },
  {
   "cell_type": "code",
   "execution_count": null,
   "metadata": {},
   "outputs": [],
   "source": []
  },
  {
   "cell_type": "code",
   "execution_count": null,
   "metadata": {},
   "outputs": [],
   "source": []
  },
  {
   "cell_type": "code",
   "execution_count": null,
   "metadata": {},
   "outputs": [],
   "source": []
  }
 ],
 "metadata": {
  "kernelspec": {
   "display_name": "Python 3",
   "language": "python",
   "name": "python3"
  },
  "language_info": {
   "codemirror_mode": {
    "name": "ipython",
    "version": 3
   },
   "file_extension": ".py",
   "mimetype": "text/x-python",
   "name": "python",
   "nbconvert_exporter": "python",
   "pygments_lexer": "ipython3",
   "version": "3.7.5-final"
  },
  "toc": {
   "base_numbering": 1,
   "nav_menu": {},
   "number_sections": true,
   "sideBar": true,
   "skip_h1_title": false,
   "title_cell": "Table of Contents",
   "title_sidebar": "Contents",
   "toc_cell": false,
   "toc_position": {},
   "toc_section_display": true,
   "toc_window_display": false
  }
 },
 "nbformat": 4,
 "nbformat_minor": 4
}