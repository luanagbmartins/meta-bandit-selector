{
 "cells": [
  {
   "cell_type": "markdown",
   "metadata": {},
   "source": [
    "## Preprocessing the Data\n",
    "\n",
    "This notebook shows how we preprocess the data from the Yahoo Dataset. \n",
    "\n",
    "The python code in this notebook is in the file `preprocessing.py` thus it can be easily importend when needed.\n",
    "\n",
    "We also do not encapsulate the code in any function so we can show it working step by step. In the file to be imported, the code is properly encapsulated in single python function."
   ]
  },
  {
   "cell_type": "markdown",
   "metadata": {},
   "source": [
    "**Importing Libraries**"
   ]
  },
  {
   "cell_type": "code",
   "execution_count": 1,
   "metadata": {},
   "outputs": [],
   "source": [
    "import pandas as pd\n",
    "import numpy as np"
   ]
  },
  {
   "cell_type": "markdown",
   "metadata": {},
   "source": [
    "Open the file with interactions in reading mode"
   ]
  },
  {
   "cell_type": "code",
   "execution_count": 2,
   "metadata": {},
   "outputs": [],
   "source": [
    "file = open(\"Sample\", \"r\")"
   ]
  },
  {
   "cell_type": "markdown",
   "metadata": {},
   "source": [
    "Each line in the Yahoo dataset has the following format:\n",
    "\n",
    "```1317513580 id-563582 0 |user 1 5 12 18 20 |id-552077 |id-555224 |id-555528 |id-559744 |id-559855 |id-560290 |id-560518 |id-560620 |id-563115 |id-563582 |id-563643 |id-563787 |id-563846 |id-563938 |id-564335 |id-564418 |id-564604 |id-565364 |id-565479 |id-565515 |id-565533 |id-565561 |id-565589 |id-565648 |id-565747 |id-565822```\n",
    "\n",
    "As their README file states, the fields delimited by spaces are: \n",
    "> \n",
    "> * timestamp: e.g., 1317513291\n",
    "> * displayed_article_id: e.g., id-560620\n",
    "> * user_click (0 for no-click and 1 for click): e.g., 0\n",
    "> * string \"|user\" indicates the start of user features\n",
    "> * features are 136-dimensional binary vectors; the IDs of nonzero features are listed after the string \"|user\"\n",
    "> * The pool of available articles for recommendation for each user visit is the set of articles that appear in that line of data.  All user IDs (bcookies in our data) are replaced by a common string \"user\".\n",
    "> \n",
    "> Note that each user is associated with a 136-dimensional binary feature vector.\n",
    "Features IDs take integer values in {1,2,...,136}.  Feature #1 is the constant\n",
    "(always 1) feature, and features #2-136 correspond to other user information\n",
    "such as age, gender, and behavior-targeting features, etc.  Some user features\n",
    "are not present, since not all users logged in to Yahoo! when they visited the\n",
    "front page.\n",
    "\n"
   ]
  },
  {
   "cell_type": "markdown",
   "metadata": {},
   "source": [
    "Creating the Dataframe to place our iteractions"
   ]
  },
  {
   "cell_type": "code",
   "execution_count": 3,
   "metadata": {},
   "outputs": [],
   "source": [
    "df = pd.DataFrame(columns=['Timestamp', 'Clicked_Article', 'Click', 'User_Features', 'Article_List'])"
   ]
  },
  {
   "cell_type": "markdown",
   "metadata": {},
   "source": [
    "### Reading line by line\n",
    "\n",
    "In order to read the data, we first remove some lements from the line to make the process more straightforward.\n",
    "\n",
    "For each line, we read the data and sotre it. In the end of the line, we append the data to the DataFrame.\n"
   ]
  },
  {
   "cell_type": "code",
   "execution_count": 4,
   "metadata": {},
   "outputs": [],
   "source": [
    "for line in file:\n",
    "#     Removing 'not data' parts of the line string\n",
    "    line = line.replace('id-', '')\n",
    "    line = line.replace('\\n', '')\n",
    "    line = line.replace('user', '')\n",
    "    line = line.replace('|', '')\n",
    "    line = line.replace('  ', ' ')\n",
    "\n",
    "    aux_str = ''\n",
    "    info = 0 # 0 = time; 1 = clicked_article; 2 = click; 3 = user_features; 4 = articles_list\n",
    "    features = np.zeros(136, dtype=np.bool)\n",
    "    articles_list = []\n",
    "    for i in line:\n",
    "        if i == ' ':\n",
    "            if info == 0:\n",
    "                timestamp = int(aux_str)\n",
    "                aux_str = ''\n",
    "                info+=1\n",
    "            elif info == 1:\n",
    "                clicked_article = int(aux_str)\n",
    "                aux_str = ''\n",
    "                info+=1\n",
    "            elif info == 2:\n",
    "                click = int(aux_str)\n",
    "                aux_str = ''\n",
    "                info+=1\n",
    "            elif info == 3:\n",
    "                try:\n",
    "                    features[int(aux_str)-1] = 1\n",
    "                    aux_str = ''\n",
    "                except:\n",
    "                    articles_list.append(int(aux_str))\n",
    "                    aux_str = ''\n",
    "                    info+=1\n",
    "            elif info == 4:\n",
    "                articles_list.append(int(aux_str))\n",
    "                aux_str = ''\n",
    "        else:\n",
    "            aux_str+=i\n",
    "\n",
    "    articles_list.append(int(aux_str))\n",
    "    aux_str = ''\n",
    "    df = df.append({'Timestamp': timestamp, 'Clicked_Article': clicked_article, 'Click': click, 'User_Features': features, 'Article_List': np.asarray(articles_list)}, ignore_index=True)\n",
    "\n",
    "file.close()"
   ]
  },
  {
   "cell_type": "markdown",
   "metadata": {},
   "source": [
    "Now, we have our dataframe with the columns | Timestamp | Clicked_Article | Click | User_Features | Article_List |"
   ]
  },
  {
   "cell_type": "code",
   "execution_count": 5,
   "metadata": {
    "scrolled": true
   },
   "outputs": [
    {
     "data": {
      "text/html": [
       "<div>\n",
       "<style scoped>\n",
       "    .dataframe tbody tr th:only-of-type {\n",
       "        vertical-align: middle;\n",
       "    }\n",
       "\n",
       "    .dataframe tbody tr th {\n",
       "        vertical-align: top;\n",
       "    }\n",
       "\n",
       "    .dataframe thead th {\n",
       "        text-align: right;\n",
       "    }\n",
       "</style>\n",
       "<table border=\"1\" class=\"dataframe\">\n",
       "  <thead>\n",
       "    <tr style=\"text-align: right;\">\n",
       "      <th></th>\n",
       "      <th>Timestamp</th>\n",
       "      <th>Clicked_Article</th>\n",
       "      <th>Click</th>\n",
       "      <th>User_Features</th>\n",
       "      <th>Article_List</th>\n",
       "    </tr>\n",
       "  </thead>\n",
       "  <tbody>\n",
       "    <tr>\n",
       "      <td>0</td>\n",
       "      <td>1317513291</td>\n",
       "      <td>560620</td>\n",
       "      <td>0</td>\n",
       "      <td>[True, False, False, False, False, False, Fals...</td>\n",
       "      <td>[552077, 555224, 555528, 559744, 559855, 56029...</td>\n",
       "    </tr>\n",
       "    <tr>\n",
       "      <td>1</td>\n",
       "      <td>1317513291</td>\n",
       "      <td>565648</td>\n",
       "      <td>0</td>\n",
       "      <td>[True, False, False, False, False, False, Fals...</td>\n",
       "      <td>[552077, 555224, 555528, 559744, 559855, 56029...</td>\n",
       "    </tr>\n",
       "    <tr>\n",
       "      <td>2</td>\n",
       "      <td>1317513291</td>\n",
       "      <td>563115</td>\n",
       "      <td>0</td>\n",
       "      <td>[True, False, False, False, False, False, Fals...</td>\n",
       "      <td>[552077, 555224, 555528, 559744, 559855, 56029...</td>\n",
       "    </tr>\n",
       "    <tr>\n",
       "      <td>3</td>\n",
       "      <td>1317513292</td>\n",
       "      <td>552077</td>\n",
       "      <td>0</td>\n",
       "      <td>[True, False, False, False, False, False, True...</td>\n",
       "      <td>[552077, 555224, 555528, 559744, 559855, 56029...</td>\n",
       "    </tr>\n",
       "    <tr>\n",
       "      <td>4</td>\n",
       "      <td>1317513292</td>\n",
       "      <td>564335</td>\n",
       "      <td>0</td>\n",
       "      <td>[True, False, False, False, False, False, Fals...</td>\n",
       "      <td>[552077, 555224, 555528, 559744, 559855, 56029...</td>\n",
       "    </tr>\n",
       "  </tbody>\n",
       "</table>\n",
       "</div>"
      ],
      "text/plain": [
       "    Timestamp Clicked_Article Click  \\\n",
       "0  1317513291          560620     0   \n",
       "1  1317513291          565648     0   \n",
       "2  1317513291          563115     0   \n",
       "3  1317513292          552077     0   \n",
       "4  1317513292          564335     0   \n",
       "\n",
       "                                       User_Features  \\\n",
       "0  [True, False, False, False, False, False, Fals...   \n",
       "1  [True, False, False, False, False, False, Fals...   \n",
       "2  [True, False, False, False, False, False, Fals...   \n",
       "3  [True, False, False, False, False, False, True...   \n",
       "4  [True, False, False, False, False, False, Fals...   \n",
       "\n",
       "                                        Article_List  \n",
       "0  [552077, 555224, 555528, 559744, 559855, 56029...  \n",
       "1  [552077, 555224, 555528, 559744, 559855, 56029...  \n",
       "2  [552077, 555224, 555528, 559744, 559855, 56029...  \n",
       "3  [552077, 555224, 555528, 559744, 559855, 56029...  \n",
       "4  [552077, 555224, 555528, 559744, 559855, 56029...  "
      ]
     },
     "execution_count": 5,
     "metadata": {},
     "output_type": "execute_result"
    }
   ],
   "source": [
    "df.head(5)"
   ]
  },
  {
   "cell_type": "code",
   "execution_count": null,
   "metadata": {},
   "outputs": [],
   "source": []
  }
 ],
 "metadata": {
  "kernelspec": {
   "display_name": "Python 3",
   "language": "python",
   "name": "python3"
  },
  "language_info": {
   "codemirror_mode": {
    "name": "ipython",
    "version": 3
   },
   "file_extension": ".py",
   "mimetype": "text/x-python",
   "name": "python",
   "nbconvert_exporter": "python",
   "pygments_lexer": "ipython3",
   "version": "3.6.7"
  }
 },
 "nbformat": 4,
 "nbformat_minor": 4
}
