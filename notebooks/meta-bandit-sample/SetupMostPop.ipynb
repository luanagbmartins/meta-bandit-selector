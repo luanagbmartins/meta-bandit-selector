{
 "cells": [
  {
   "cell_type": "markdown",
   "metadata": {},
   "source": [
    "## Setup Most Popular Recommender\n",
    "\n",
    "For the Most popular Recommender we will need two main things:\n",
    "* An **Index Map** to map an item_id into an index (e.g. 1, 2, 7, 45, etc.)\n",
    "* The **Item Scores** to define which items are, in fact, the most popular ones\n",
    "\n",
    "In this notebook we will set up those two. However, the actual recommendation happens in `most_popular.py` that will answer to the BentoML api when requested.\n"
   ]
  },
  {
   "cell_type": "markdown",
   "metadata": {},
   "source": [
    "### Importing Libraries"
   ]
  },
  {
   "cell_type": "code",
   "execution_count": 1,
   "metadata": {},
   "outputs": [],
   "source": [
    "import pandas as pd\n",
    "import numpy as np\n",
    "from most_popular import MostPopularRecommender\n",
    "from preprocessing import preprocess"
   ]
  },
  {
   "cell_type": "markdown",
   "metadata": {},
   "source": [
    "### Acquire preprocessed Data"
   ]
  },
  {
   "cell_type": "code",
   "execution_count": 2,
   "metadata": {},
   "outputs": [],
   "source": [
    "df = preprocess(\"Sample\")"
   ]
  },
  {
   "cell_type": "code",
   "execution_count": 11,
   "metadata": {},
   "outputs": [
    {
     "data": {
      "text/html": [
       "<div>\n",
       "<style scoped>\n",
       "    .dataframe tbody tr th:only-of-type {\n",
       "        vertical-align: middle;\n",
       "    }\n",
       "\n",
       "    .dataframe tbody tr th {\n",
       "        vertical-align: top;\n",
       "    }\n",
       "\n",
       "    .dataframe thead th {\n",
       "        text-align: right;\n",
       "    }\n",
       "</style>\n",
       "<table border=\"1\" class=\"dataframe\">\n",
       "  <thead>\n",
       "    <tr style=\"text-align: right;\">\n",
       "      <th></th>\n",
       "      <th>Timestamp</th>\n",
       "      <th>Clicked_Article</th>\n",
       "      <th>Click</th>\n",
       "      <th>User_Features</th>\n",
       "      <th>Article_List</th>\n",
       "    </tr>\n",
       "  </thead>\n",
       "  <tbody>\n",
       "    <tr>\n",
       "      <td>0</td>\n",
       "      <td>1317513291</td>\n",
       "      <td>560620</td>\n",
       "      <td>0</td>\n",
       "      <td>[True, False, False, False, False, False, Fals...</td>\n",
       "      <td>[552077, 555224, 555528, 559744, 559855, 56029...</td>\n",
       "    </tr>\n",
       "    <tr>\n",
       "      <td>1</td>\n",
       "      <td>1317513291</td>\n",
       "      <td>565648</td>\n",
       "      <td>0</td>\n",
       "      <td>[True, False, False, False, False, False, Fals...</td>\n",
       "      <td>[552077, 555224, 555528, 559744, 559855, 56029...</td>\n",
       "    </tr>\n",
       "    <tr>\n",
       "      <td>2</td>\n",
       "      <td>1317513291</td>\n",
       "      <td>563115</td>\n",
       "      <td>0</td>\n",
       "      <td>[True, False, False, False, False, False, Fals...</td>\n",
       "      <td>[552077, 555224, 555528, 559744, 559855, 56029...</td>\n",
       "    </tr>\n",
       "    <tr>\n",
       "      <td>3</td>\n",
       "      <td>1317513292</td>\n",
       "      <td>552077</td>\n",
       "      <td>0</td>\n",
       "      <td>[True, False, False, False, False, False, True...</td>\n",
       "      <td>[552077, 555224, 555528, 559744, 559855, 56029...</td>\n",
       "    </tr>\n",
       "    <tr>\n",
       "      <td>4</td>\n",
       "      <td>1317513292</td>\n",
       "      <td>564335</td>\n",
       "      <td>0</td>\n",
       "      <td>[True, False, False, False, False, False, Fals...</td>\n",
       "      <td>[552077, 555224, 555528, 559744, 559855, 56029...</td>\n",
       "    </tr>\n",
       "    <tr>\n",
       "      <td>5</td>\n",
       "      <td>1317513292</td>\n",
       "      <td>565589</td>\n",
       "      <td>0</td>\n",
       "      <td>[True, False, False, False, True, False, False...</td>\n",
       "      <td>[552077, 555224, 555528, 559744, 559855, 56029...</td>\n",
       "    </tr>\n",
       "  </tbody>\n",
       "</table>\n",
       "</div>"
      ],
      "text/plain": [
       "    Timestamp Clicked_Article Click  \\\n",
       "0  1317513291          560620     0   \n",
       "1  1317513291          565648     0   \n",
       "2  1317513291          563115     0   \n",
       "3  1317513292          552077     0   \n",
       "4  1317513292          564335     0   \n",
       "5  1317513292          565589     0   \n",
       "\n",
       "                                       User_Features  \\\n",
       "0  [True, False, False, False, False, False, Fals...   \n",
       "1  [True, False, False, False, False, False, Fals...   \n",
       "2  [True, False, False, False, False, False, Fals...   \n",
       "3  [True, False, False, False, False, False, True...   \n",
       "4  [True, False, False, False, False, False, Fals...   \n",
       "5  [True, False, False, False, True, False, False...   \n",
       "\n",
       "                                        Article_List  \n",
       "0  [552077, 555224, 555528, 559744, 559855, 56029...  \n",
       "1  [552077, 555224, 555528, 559744, 559855, 56029...  \n",
       "2  [552077, 555224, 555528, 559744, 559855, 56029...  \n",
       "3  [552077, 555224, 555528, 559744, 559855, 56029...  \n",
       "4  [552077, 555224, 555528, 559744, 559855, 56029...  \n",
       "5  [552077, 555224, 555528, 559744, 559855, 56029...  "
      ]
     },
     "execution_count": 11,
     "metadata": {},
     "output_type": "execute_result"
    }
   ],
   "source": [
    "df.head(6)"
   ]
  },
  {
   "cell_type": "markdown",
   "metadata": {},
   "source": [
    "### Index Map\n",
    "\n",
    "First, we get all articles in a list"
   ]
  },
  {
   "cell_type": "code",
   "execution_count": 3,
   "metadata": {},
   "outputs": [],
   "source": [
    "articles = df['Clicked_Article'].unique()"
   ]
  },
  {
   "cell_type": "markdown",
   "metadata": {},
   "source": [
    "Then, we iterate over them creating a dictionary for the index map."
   ]
  },
  {
   "cell_type": "code",
   "execution_count": 4,
   "metadata": {},
   "outputs": [],
   "source": [
    "index_map = {}\n",
    "idx = 1 # idx starts at 1 so that 0 is used for when the article is not found in the index map\n",
    "for art in articles:\n",
    "    index_map[str(art)] = idx\n",
    "    idx+=1"
   ]
  },
  {
   "cell_type": "markdown",
   "metadata": {},
   "source": [
    "### Item Score"
   ]
  },
  {
   "cell_type": "markdown",
   "metadata": {},
   "source": [
    "For each article, we count how many times it has been clicked."
   ]
  },
  {
   "cell_type": "code",
   "execution_count": 5,
   "metadata": {},
   "outputs": [
    {
     "data": {
      "text/plain": [
       "Clicked_Article\n",
       "565747    27\n",
       "565515    26\n",
       "565822    25\n",
       "555224    24\n",
       "563115    23\n",
       "dtype: int64"
      ]
     },
     "execution_count": 5,
     "metadata": {},
     "output_type": "execute_result"
    }
   ],
   "source": [
    "popular = df.loc[(df['Click']==1)].groupby('Clicked_Article').size().sort_values(ascending=False)\n",
    "popular.head(5)"
   ]
  },
  {
   "cell_type": "markdown",
   "metadata": {},
   "source": [
    "Now, using the Index Map, we associate each index with a value."
   ]
  },
  {
   "cell_type": "code",
   "execution_count": 6,
   "metadata": {},
   "outputs": [],
   "source": [
    "item_score = {'0': -1} \n",
    "#since 0 is used for when the article was not found in the index map, here it'll have the lowest value\n",
    "for art in articles:\n",
    "    item_score[str(index_map[str(art)])] = popular[art]"
   ]
  },
  {
   "cell_type": "markdown",
   "metadata": {},
   "source": [
    "### Saving Dictionaries\n",
    "\n",
    "In order to pass our **Index Map** and **Item Score** dictionaries to the model, we use BentoML. Thus, our recommender will load those dictionaries in order to make its recommendations.\n",
    "\n",
    "The `pack()` function takes care of saving our dictionaries."
   ]
  },
  {
   "cell_type": "code",
   "execution_count": 7,
   "metadata": {},
   "outputs": [],
   "source": [
    "model = MostPopularRecommender()"
   ]
  },
  {
   "cell_type": "code",
   "execution_count": 8,
   "metadata": {},
   "outputs": [
    {
     "data": {
      "text/plain": [
       "<most_popular.MostPopularRecommender at 0x7fa44f4cb898>"
      ]
     },
     "execution_count": 8,
     "metadata": {},
     "output_type": "execute_result"
    }
   ],
   "source": [
    "model.pack(\"item_score\", item_score)"
   ]
  },
  {
   "cell_type": "code",
   "execution_count": 9,
   "metadata": {},
   "outputs": [
    {
     "data": {
      "text/plain": [
       "<most_popular.MostPopularRecommender at 0x7fa44f4cb898>"
      ]
     },
     "execution_count": 9,
     "metadata": {},
     "output_type": "execute_result"
    }
   ],
   "source": [
    "model.pack(\"index_map\", index_map)"
   ]
  },
  {
   "cell_type": "markdown",
   "metadata": {},
   "source": [
    "After packing what our recommender will need, we can test it with a small sample"
   ]
  },
  {
   "cell_type": "code",
   "execution_count": 10,
   "metadata": {},
   "outputs": [
    {
     "data": {
      "text/plain": [
       "[565822,\n",
       " 565648,\n",
       " 565589,\n",
       " 565364,\n",
       " 564335,\n",
       " 563938,\n",
       " 563787,\n",
       " 563643,\n",
       " 563115,\n",
       " 560620,\n",
       " 560518,\n",
       " 560290,\n",
       " 559855,\n",
       " 555528,\n",
       " 552077]"
      ]
     },
     "execution_count": 10,
     "metadata": {},
     "output_type": "execute_result"
    }
   ],
   "source": [
    "model.rank({'Timestamp': 123456789, 'Clicked_Article': 565822, 'Click': 1, 'User_Features': np.asarray([True,False,False,False,True]), 'Article_List': np.asarray([565648, 563115, 552077, 564335, 565589, 563938, 560290, 563643, 560620, 565822, 563787, 555528, 565364, 559855, 560518])})"
   ]
  },
  {
   "cell_type": "code",
   "execution_count": null,
   "metadata": {},
   "outputs": [],
   "source": []
  }
 ],
 "metadata": {
  "kernelspec": {
   "display_name": "Python 3",
   "language": "python",
   "name": "python3"
  },
  "language_info": {
   "codemirror_mode": {
    "name": "ipython",
    "version": 3
   },
   "file_extension": ".py",
   "mimetype": "text/x-python",
   "name": "python",
   "nbconvert_exporter": "python",
   "pygments_lexer": "ipython3",
   "version": "3.6.7"
  }
 },
 "nbformat": 4,
 "nbformat_minor": 4
}
