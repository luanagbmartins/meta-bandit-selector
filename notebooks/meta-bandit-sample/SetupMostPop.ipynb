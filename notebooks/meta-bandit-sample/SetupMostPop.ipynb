{
 "cells": [
  {
   "cell_type": "markdown",
   "metadata": {},
   "source": [
    "## Setup Most Popular Recommender\n",
    "\n",
    "For the Most popular Recommender we will need two main things:\n",
    "* An **Index Map** to map an item_id into an index (e.g. 1, 2, 7, 45, etc.)\n",
    "* The **Item Scores** to define which items are, in fact, the most popular ones\n",
    "\n",
    "In this notebook we will set up those two. However, the actual recommendation happens in `most_popular.py` that will answer to the BentoML api when requested.\n"
   ]
  },
  {
   "cell_type": "markdown",
   "metadata": {},
   "source": [
    "### Importing Libraries"
   ]
  },
  {
   "cell_type": "code",
   "execution_count": 1,
   "metadata": {
    "tags": []
   },
   "outputs": [
    {
     "output_type": "stream",
     "name": "stdout",
     "text": "[2020-07-06 14:05:19,464] WARNING - bentoml.handlers.* will be deprecated after BentoML 1.0, use bentoml.adapters.* instead\n[2020-07-06 14:05:19,465] WARNING - JsonHandler will be deprecated after BentoML 1.0, use JsonInput instead\n"
    }
   ],
   "source": [
    "import pandas as pd\n",
    "import numpy as np\n",
    "from most_popular import MostPopularRecommender\n",
    "from preprocessing import preprocess, read_sample\n",
    "import ast\n"
   ]
  },
  {
   "cell_type": "markdown",
   "metadata": {},
   "source": [
    "### Acquire preprocessed Data"
   ]
  },
  {
   "cell_type": "code",
   "execution_count": 2,
   "metadata": {},
   "outputs": [
    {
     "output_type": "execute_result",
     "data": {
      "text/plain": "   Unnamed: 0   Timestamp  Clicked_Article  Click  \\\n0           7  1317513293           563938      1   \n1          13  1317513293           564335      1   \n2          39  1317513295           564335      1   \n3         144  1317513299           565747      1   \n4         176  1317513300           563115      1   \n\n                                       User_Features  \\\n0  [1 0 0 0 0 0 0 0 0 0 0 0 1 1 0 0 1 1 1 0 0 0 1...   \n1  [1 0 0 0 0 0 1 0 0 0 1 0 1 1 1 1 1 1 1 0 1 1 1...   \n2  [1 0 0 0 0 0 0 1 0 0 0 1 1 1 1 1 1 1 1 1 1 1 1...   \n3  [1 0 0 0 0 0 1 0 0 0 0 1 1 1 1 1 1 1 1 0 1 1 1...   \n4  [1 0 0 0 0 0 0 0 1 0 0 1 1 1 1 1 1 1 1 0 1 1 1...   \n\n                                        Article_List  \n0  [552077 555224 555528 559744 559855 560290 560...  \n1  [552077 555224 555528 559744 559855 560290 560...  \n2  [552077 555224 555528 559744 559855 560290 560...  \n3  [552077 555224 555528 559744 559855 560290 560...  \n4  [552077 555224 555528 559744 559855 560290 560...  ",
      "text/html": "<div>\n<style scoped>\n    .dataframe tbody tr th:only-of-type {\n        vertical-align: middle;\n    }\n\n    .dataframe tbody tr th {\n        vertical-align: top;\n    }\n\n    .dataframe thead th {\n        text-align: right;\n    }\n</style>\n<table border=\"1\" class=\"dataframe\">\n  <thead>\n    <tr style=\"text-align: right;\">\n      <th></th>\n      <th>Unnamed: 0</th>\n      <th>Timestamp</th>\n      <th>Clicked_Article</th>\n      <th>Click</th>\n      <th>User_Features</th>\n      <th>Article_List</th>\n    </tr>\n  </thead>\n  <tbody>\n    <tr>\n      <td>0</td>\n      <td>7</td>\n      <td>1317513293</td>\n      <td>563938</td>\n      <td>1</td>\n      <td>[1 0 0 0 0 0 0 0 0 0 0 0 1 1 0 0 1 1 1 0 0 0 1...</td>\n      <td>[552077 555224 555528 559744 559855 560290 560...</td>\n    </tr>\n    <tr>\n      <td>1</td>\n      <td>13</td>\n      <td>1317513293</td>\n      <td>564335</td>\n      <td>1</td>\n      <td>[1 0 0 0 0 0 1 0 0 0 1 0 1 1 1 1 1 1 1 0 1 1 1...</td>\n      <td>[552077 555224 555528 559744 559855 560290 560...</td>\n    </tr>\n    <tr>\n      <td>2</td>\n      <td>39</td>\n      <td>1317513295</td>\n      <td>564335</td>\n      <td>1</td>\n      <td>[1 0 0 0 0 0 0 1 0 0 0 1 1 1 1 1 1 1 1 1 1 1 1...</td>\n      <td>[552077 555224 555528 559744 559855 560290 560...</td>\n    </tr>\n    <tr>\n      <td>3</td>\n      <td>144</td>\n      <td>1317513299</td>\n      <td>565747</td>\n      <td>1</td>\n      <td>[1 0 0 0 0 0 1 0 0 0 0 1 1 1 1 1 1 1 1 0 1 1 1...</td>\n      <td>[552077 555224 555528 559744 559855 560290 560...</td>\n    </tr>\n    <tr>\n      <td>4</td>\n      <td>176</td>\n      <td>1317513300</td>\n      <td>563115</td>\n      <td>1</td>\n      <td>[1 0 0 0 0 0 0 0 1 0 0 1 1 1 1 1 1 1 1 0 1 1 1...</td>\n      <td>[552077 555224 555528 559744 559855 560290 560...</td>\n    </tr>\n  </tbody>\n</table>\n</div>"
     },
     "metadata": {},
     "execution_count": 2
    }
   ],
   "source": [
    "df = read_sample(\"/media/backup/datasets/yahoo/yahoo_dataset_clicked.csv\", p=1)\n",
    "df.head()"
   ]
  },
  {
   "cell_type": "code",
   "execution_count": 3,
   "metadata": {},
   "outputs": [],
   "source": [
    "import re\n",
    "def literal_eval(element):\n",
    "    if isinstance(element, str):\n",
    "        return ast.literal_eval(re.sub('\\s+',',',element))\n",
    "    return element\n",
    "\n",
    "df['User_Features'] = df['User_Features'].apply(literal_eval)\n",
    "df['Article_List'] = df['Article_List'].apply(literal_eval)"
   ]
  },
  {
   "cell_type": "code",
   "execution_count": 4,
   "metadata": {},
   "outputs": [
    {
     "output_type": "execute_result",
     "data": {
      "text/plain": "   Unnamed: 0   Timestamp  Clicked_Article  Click  \\\n0           7  1317513293           563938      1   \n1          13  1317513293           564335      1   \n2          39  1317513295           564335      1   \n3         144  1317513299           565747      1   \n4         176  1317513300           563115      1   \n\n                                       User_Features  \\\n0  [1, 0, 0, 0, 0, 0, 0, 0, 0, 0, 0, 0, 1, 1, 0, ...   \n1  [1, 0, 0, 0, 0, 0, 1, 0, 0, 0, 1, 0, 1, 1, 1, ...   \n2  [1, 0, 0, 0, 0, 0, 0, 1, 0, 0, 0, 1, 1, 1, 1, ...   \n3  [1, 0, 0, 0, 0, 0, 1, 0, 0, 0, 0, 1, 1, 1, 1, ...   \n4  [1, 0, 0, 0, 0, 0, 0, 0, 1, 0, 0, 1, 1, 1, 1, ...   \n\n                                        Article_List  \n0  [552077, 555224, 555528, 559744, 559855, 56029...  \n1  [552077, 555224, 555528, 559744, 559855, 56029...  \n2  [552077, 555224, 555528, 559744, 559855, 56029...  \n3  [552077, 555224, 555528, 559744, 559855, 56029...  \n4  [552077, 555224, 555528, 559744, 559855, 56029...  ",
      "text/html": "<div>\n<style scoped>\n    .dataframe tbody tr th:only-of-type {\n        vertical-align: middle;\n    }\n\n    .dataframe tbody tr th {\n        vertical-align: top;\n    }\n\n    .dataframe thead th {\n        text-align: right;\n    }\n</style>\n<table border=\"1\" class=\"dataframe\">\n  <thead>\n    <tr style=\"text-align: right;\">\n      <th></th>\n      <th>Unnamed: 0</th>\n      <th>Timestamp</th>\n      <th>Clicked_Article</th>\n      <th>Click</th>\n      <th>User_Features</th>\n      <th>Article_List</th>\n    </tr>\n  </thead>\n  <tbody>\n    <tr>\n      <td>0</td>\n      <td>7</td>\n      <td>1317513293</td>\n      <td>563938</td>\n      <td>1</td>\n      <td>[1, 0, 0, 0, 0, 0, 0, 0, 0, 0, 0, 0, 1, 1, 0, ...</td>\n      <td>[552077, 555224, 555528, 559744, 559855, 56029...</td>\n    </tr>\n    <tr>\n      <td>1</td>\n      <td>13</td>\n      <td>1317513293</td>\n      <td>564335</td>\n      <td>1</td>\n      <td>[1, 0, 0, 0, 0, 0, 1, 0, 0, 0, 1, 0, 1, 1, 1, ...</td>\n      <td>[552077, 555224, 555528, 559744, 559855, 56029...</td>\n    </tr>\n    <tr>\n      <td>2</td>\n      <td>39</td>\n      <td>1317513295</td>\n      <td>564335</td>\n      <td>1</td>\n      <td>[1, 0, 0, 0, 0, 0, 0, 1, 0, 0, 0, 1, 1, 1, 1, ...</td>\n      <td>[552077, 555224, 555528, 559744, 559855, 56029...</td>\n    </tr>\n    <tr>\n      <td>3</td>\n      <td>144</td>\n      <td>1317513299</td>\n      <td>565747</td>\n      <td>1</td>\n      <td>[1, 0, 0, 0, 0, 0, 1, 0, 0, 0, 0, 1, 1, 1, 1, ...</td>\n      <td>[552077, 555224, 555528, 559744, 559855, 56029...</td>\n    </tr>\n    <tr>\n      <td>4</td>\n      <td>176</td>\n      <td>1317513300</td>\n      <td>563115</td>\n      <td>1</td>\n      <td>[1, 0, 0, 0, 0, 0, 0, 0, 1, 0, 0, 1, 1, 1, 1, ...</td>\n      <td>[552077, 555224, 555528, 559744, 559855, 56029...</td>\n    </tr>\n  </tbody>\n</table>\n</div>"
     },
     "metadata": {},
     "execution_count": 4
    }
   ],
   "source": [
    "df.head()"
   ]
  },
  {
   "cell_type": "markdown",
   "metadata": {},
   "source": [
    "### Index Map\n",
    "\n",
    "First, we get all articles in a list"
   ]
  },
  {
   "cell_type": "code",
   "execution_count": 5,
   "metadata": {},
   "outputs": [],
   "source": [
    "articles = df['Clicked_Article'].unique()"
   ]
  },
  {
   "cell_type": "markdown",
   "metadata": {},
   "source": [
    "Then, we iterate over them creating a dictionary for the index map."
   ]
  },
  {
   "cell_type": "code",
   "execution_count": 6,
   "metadata": {},
   "outputs": [],
   "source": [
    "index_map = {}\n",
    "idx = 1 # idx starts at 1 so that 0 is used for when the article is not found in the index map\n",
    "for art in articles:\n",
    "    index_map[art] = idx\n",
    "    idx+=1\n",
    "# index_map"
   ]
  },
  {
   "cell_type": "code",
   "execution_count": 39,
   "metadata": {},
   "outputs": [
    {
     "output_type": "execute_result",
     "data": {
      "text/plain": "{563938: 1,\n 564335: 2,\n 565747: 3,\n 563115: 4,\n 565533: 5,\n 563787: 6,\n 563582: 7,\n 565589: 8,\n 563643: 9,\n 565648: 10,\n 560518: 11,\n 564418: 12,\n 565364: 13,\n 560290: 14,\n 564604: 15,\n 559744: 16,\n 555224: 17,\n 565561: 18,\n 565822: 19,\n 565515: 20,\n 555528: 21,\n 563846: 22,\n 559855: 23,\n 560620: 24,\n 552077: 25,\n 565479: 26,\n 565930: 27,\n 566013: 28,\n 566022: 29,\n 566092: 30,\n 560805: 31,\n 564371: 32,\n 562265: 33,\n 565980: 34,\n 566431: 35,\n 566439: 36,\n 559833: 37,\n 566541: 38,\n 562374: 39,\n 566587: 40,\n 566478: 41,\n 566573: 42,\n 566602: 43,\n 562637: 44,\n 566631: 45,\n 566689: 46,\n 566726: 47,\n 566825: 48,\n 566838: 49,\n 566767: 50,\n 563204: 51,\n 566997: 52,\n 567110: 53,\n 567145: 54,\n 567169: 55,\n 567334: 56,\n 490956: 57,\n 563819: 58,\n 563642: 59,\n 566888: 60,\n 567079: 61,\n 567654: 62,\n 567768: 63,\n 560591: 64,\n 568030: 65,\n 568045: 66,\n 568217: 67,\n 568362: 68,\n 568439: 69,\n 568479: 70,\n 568445: 71,\n 568271: 72,\n 568524: 73,\n 568610: 74,\n 568538: 75,\n 568470: 76,\n 568669: 77,\n 568734: 78,\n 568901: 79,\n 568876: 80,\n 568710: 81,\n 568944: 82,\n 568957: 83,\n 568899: 84,\n 568827: 85,\n 568650: 86,\n 569049: 87,\n 560854: 88,\n 569062: 89,\n 564039: 90,\n 563519: 91,\n 569071: 92,\n 568735: 93,\n 569412: 94,\n 569386: 95,\n 569485: 96,\n 569905: 97,\n 570332: 98,\n 568131: 99,\n 569173: 100,\n 569001: 101,\n 570611: 102,\n 570650: 103,\n 569270: 104,\n 569507: 105,\n 570884: 106,\n 571052: 107,\n 570962: 108,\n 568890: 109,\n 569118: 110,\n 571264: 111,\n 571362: 112,\n 571193: 113,\n 568437: 114,\n 571505: 115,\n 571050: 116,\n 571375: 117,\n 571624: 118,\n 571469: 119,\n 571735: 120,\n 571470: 121,\n 571880: 122,\n 569469: 123,\n 571705: 124,\n 569417: 125,\n 571956: 126,\n 571679: 127,\n 572194: 128,\n 572207: 129,\n 570846: 130,\n 572112: 131,\n 572263: 132,\n 569065: 133,\n 564492: 134,\n 571948: 135,\n 569364: 136,\n 572262: 137,\n 569088: 138,\n 572644: 139,\n 572219: 140,\n 572846: 141,\n 572939: 142,\n 572582: 143,\n 572825: 144,\n 572797: 145,\n 573053: 146,\n 573039: 147,\n 573243: 148,\n 573268: 149,\n 573241: 150,\n 573195: 151,\n 573391: 152,\n 569479: 153,\n 574028: 154,\n 572076: 155,\n 572615: 156,\n 571449: 157,\n 573506: 158,\n 574244: 159,\n 571077: 160,\n 574296: 161,\n 573811: 162,\n 574160: 163,\n 574716: 164,\n 574512: 165,\n 574468: 166,\n 574842: 167,\n 574828: 168,\n 574905: 169,\n 575000: 170,\n 575115: 171,\n 575230: 172,\n 575220: 173,\n 575134: 174,\n 574980: 175,\n 574541: 176,\n 575072: 177,\n 575157: 178,\n 575438: 179,\n 572306: 180,\n 575196: 181,\n 575768: 182,\n 575912: 183,\n 574733: 184,\n 575934: 185,\n 572770: 186,\n 575769: 187,\n 576350: 188,\n 576247: 189,\n 576101: 190,\n 576143: 191,\n 574957: 192,\n 569350: 193,\n 576488: 194,\n 67124: 195,\n 576526: 196,\n 576942: 197,\n 575405: 198,\n 577182: 199,\n 576018: 200,\n 577340: 201,\n 576114: 202,\n 577446: 203,\n 577454: 204,\n 576923: 205,\n 577369: 206,\n 577816: 207,\n 577437: 208,\n 577876: 209,\n 576030: 210,\n 575574: 211,\n 577365: 212,\n 578144: 213,\n 574791: 214,\n 576958: 215,\n 578578: 216,\n 578704: 217,\n 578379: 218,\n 578967: 219,\n 578673: 220,\n 578942: 221,\n 579145: 222,\n 578922: 223,\n 579209: 224,\n 577169: 225,\n 579096: 226,\n 579418: 227,\n 571691: 228,\n 579692: 229,\n 579435: 230,\n 579666: 231,\n 579665: 232,\n 576453: 233,\n 572780: 234,\n 579837: 235,\n 580040: 236,\n 580290: 237,\n 571566: 238,\n 579718: 239,\n 580208: 240,\n 576414: 241,\n 576048: 242,\n 579840: 243,\n 581124: 244,\n 580804: 245,\n 581272: 246,\n 581020: 247,\n 580257: 248,\n 581506: 249,\n 581732: 250,\n 581974: 251,\n 582065: 252,\n 582200: 253,\n 582459: 254,\n 580167: 255,\n 582747: 256,\n 581953: 257,\n 578577: 258,\n 582949: 259,\n 583144: 260,\n 583412: 261,\n 583364: 262,\n 583585: 263,\n 580535: 264,\n 583545: 265,\n 583553: 266,\n 583713: 267,\n 583630: 268,\n 583691: 269,\n 582097: 270,\n 581428: 271,\n 580174: 272,\n 583861: 273,\n 580911: 274,\n 583970: 275,\n 584029: 276,\n 584028: 277,\n 580891: 278,\n 584057: 279,\n 584221: 280,\n 584199: 281,\n 581450: 282,\n 584506: 283,\n 584274: 284,\n 580638: 285,\n 584696: 286,\n 584443: 287,\n 581212: 288,\n 584712: 289,\n 585035: 290,\n 584898: 291,\n 585251: 292,\n 585212: 293,\n 581483: 294,\n 585458: 295,\n 585487: 296,\n 585495: 297,\n 585795: 298,\n 584453: 299,\n 586046: 300,\n 585224: 301,\n 586231: 302,\n 586406: 303,\n 583074: 304,\n 579677: 305,\n 586888: 306,\n 583812: 307,\n 584368: 308,\n 581414: 309,\n 555317: 310,\n 586975: 311,\n 586936: 312,\n 587027: 313,\n 587135: 314,\n 587136: 315,\n 583860: 316,\n 587213: 317,\n 584290: 318,\n 587060: 319,\n 587288: 320,\n 587295: 321,\n 587349: 322,\n 585034: 323,\n 587427: 324,\n 587385: 325,\n 587522: 326,\n 587598: 327,\n 576762: 328,\n 580489: 329,\n 579985: 330,\n 587493: 331,\n 564235: 332,\n 587956: 333,\n 583972: 334,\n 588082: 335,\n 588119: 336,\n 588171: 337,\n 583936: 338,\n 588233: 339,\n 588270: 340,\n 584998: 341,\n 585686: 342,\n 588379: 343,\n 588386: 344,\n 585184: 345,\n 588235: 346,\n 588486: 347,\n 588576: 348,\n 588593: 349,\n 588460: 350,\n 588738: 351,\n 588925: 352,\n 589084: 353,\n 581413: 354,\n 584027: 355,\n 584408: 356,\n 589393: 357,\n 589489: 358,\n 584145: 359,\n 589535: 360,\n 589672: 361,\n 589776: 362,\n 584825: 363,\n 590000: 364,\n 588382: 365,\n 576772: 366,\n 589906: 367,\n 589866: 368,\n 590109: 369,\n 590187: 370,\n 584552: 371,\n 590318: 372,\n 590344: 373,\n 590298: 374,\n 590390: 375,\n 590365: 376,\n 590669: 377,\n 590405: 378,\n 590823: 379,\n 590471: 380,\n 590806: 381,\n 590824: 382,\n 590761: 383,\n 591145: 384,\n 585006: 385,\n 590958: 386,\n 591319: 387,\n 591455: 388,\n 591177: 389,\n 591274: 390,\n 591692: 391,\n 591573: 392,\n 591728: 393,\n 592156: 394,\n 591813: 395,\n 591060: 396,\n 592124: 397,\n 592444: 398,\n 592922: 399,\n 592761: 400,\n 591039: 401,\n 590404: 402,\n 593288: 403,\n 591223: 404,\n 591432: 405,\n 590906: 406,\n 591912: 407,\n 593458: 408,\n 593589: 409,\n 593550: 410,\n 593800: 411,\n 593981: 412,\n 594038: 413,\n 591085: 414,\n 590857: 415,\n 593970: 416,\n 593713: 417,\n 594223: 418,\n 594211: 419,\n 594066: 420,\n 591423: 421,\n 594501: 422,\n 594771: 423,\n 595249: 424,\n 595102: 425,\n 594841: 426,\n 595021: 427,\n 595085: 428,\n 595203: 429,\n 594589: 430,\n 595413: 431,\n 594694: 432,\n 593986: 433,\n 594458: 434,\n 595843: 435,\n 595189: 436,\n 591266: 437,\n 596258: 438,\n 596081: 439,\n 595770: 440,\n 592245: 441,\n 596711: 442,\n 596612: 443,\n 596993: 444,\n 596774: 445,\n 597151: 446,\n 596936: 447,\n 597558: 448,\n 597342: 449,\n 592012: 450,\n 595534: 451,\n 598311: 452,\n 596805: 453,\n 598514: 454,\n 598504: 455,\n 598812: 456,\n 595334: 457,\n 596342: 458,\n 596536: 459,\n 598999: 460,\n 598857: 461,\n 599387: 462,\n 599117: 463,\n 599250: 464,\n 598966: 465,\n 599330: 466,\n 599389: 467,\n 599764: 468,\n 599952: 469,\n 599710: 470,\n 599874: 471,\n 600107: 472,\n 599637: 473,\n 599594: 474,\n 600065: 475,\n 594634: 476,\n 600418: 477,\n 600448: 478,\n 600162: 479,\n 600581: 480,\n 600195: 481,\n 600847: 482,\n 600779: 483,\n 600892: 484,\n 600956: 485,\n 601005: 486,\n 600274: 487,\n 601165: 488,\n 596437: 489,\n 599317: 490,\n 600995: 491,\n 595900: 492,\n 596110: 493,\n 601530: 494,\n 601515: 495,\n 601556: 496,\n 601828: 497,\n 601863: 498,\n 602173: 499,\n 602469: 500,\n 601314: 501,\n 600054: 502,\n 598643: 503,\n 603485: 504,\n 600657: 505,\n 603862: 506,\n 596531: 507,\n 603919: 508,\n 604230: 509,\n 604168: 510,\n 601075: 511,\n 604494: 512,\n 604495: 513,\n 604639: 514,\n 604699: 515,\n 599472: 516,\n 603380: 517,\n 604559: 518,\n 604721: 519,\n 604618: 520,\n 604681: 521,\n 605007: 522,\n 605065: 523,\n 604938: 524,\n 600430: 525,\n 605369: 526,\n 605247: 527,\n 605290: 528,\n 605378: 529,\n 605159: 530,\n 605344: 531,\n 599672: 532,\n 605518: 533,\n 599963: 534,\n 605787: 535,\n 605191: 536,\n 606122: 537,\n 605854: 538,\n 606178: 539,\n 606446: 540,\n 606110: 541,\n 606187: 542,\n 606577: 543,\n 606668: 544,\n 606680: 545,\n 606658: 546,\n 606689: 547,\n 607092: 548,\n 607161: 549,\n 606231: 550,\n 607446: 551,\n 607090: 552,\n 605961: 553,\n 605180: 554,\n 608323: 555,\n 608612: 556,\n 605392: 557,\n 608992: 558,\n 595141: 559,\n 609203: 560,\n 608804: 561,\n 609048: 562,\n 609306: 563,\n 609376: 564,\n 605672: 565,\n 609496: 566,\n 609474: 567,\n 609373: 568,\n 605759: 569,\n 609871: 570,\n 610266: 571,\n 610233: 572,\n 610464: 573,\n 609786: 574,\n 604964: 575,\n 610267: 576,\n 610780: 577,\n 606900: 578,\n 606812: 579,\n 606696: 580,\n 610635: 581,\n 610505: 582,\n 611142: 583,\n 611482: 584,\n 611479: 585,\n 611597: 586,\n 610484: 587,\n 611429: 588,\n 611729: 589,\n 611740: 590,\n 611864: 591,\n 611932: 592,\n 612272: 593,\n 611775: 594,\n 612994: 595,\n 606207: 596,\n 610351: 597,\n 613111: 598,\n 605423: 599,\n 596821: 600,\n 613242: 601,\n 613241: 602,\n 612461: 603,\n 613404: 604,\n 612506: 605,\n 611110: 606,\n 611078: 607,\n 611585: 608,\n 610758: 609,\n 606079: 610,\n 613449: 611,\n 613505: 612,\n 613689: 613,\n 613675: 614,\n 613546: 615,\n 613786: 616,\n 600025: 617,\n 613765: 618,\n 612378: 619,\n 613912: 620,\n 613856: 621,\n 614024: 622,\n 611851: 623,\n 614016: 624,\n 614010: 625,\n 614050: 626,\n 614153: 627,\n 614149: 628,\n 614126: 629,\n 614499: 630,\n 614506: 631,\n 614508: 632,\n 608633: 633,\n 606514: 634,\n 614695: 635,\n 614078: 636,\n 614718: 637,\n 614746: 638,\n 614798: 639,\n 615038: 640,\n 611774: 641,\n 610521: 642,\n 615053: 643,\n 615223: 644,\n 615207: 645,\n 611679: 646,\n 610503: 647,\n 615270: 648,\n 615333: 649,\n 615415: 650,\n 615454: 651,\n 615546: 652}"
     },
     "metadata": {},
     "execution_count": 39
    }
   ],
   "source": []
  },
  {
   "cell_type": "markdown",
   "metadata": {},
   "source": [
    "### Item Score"
   ]
  },
  {
   "cell_type": "markdown",
   "metadata": {},
   "source": [
    "For each article, we count how many times it has been clicked."
   ]
  },
  {
   "cell_type": "code",
   "execution_count": 7,
   "metadata": {},
   "outputs": [
    {
     "output_type": "execute_result",
     "data": {
      "text/plain": "Clicked_Article\n566587    7128\n579837    6862\n579435    6060\n567169    5509\n595770    5509\ndtype: int64"
     },
     "metadata": {},
     "execution_count": 7
    }
   ],
   "source": [
    "popular = df.loc[(df['Click']==1)].groupby('Clicked_Article').size().sort_values(ascending=False)\n",
    "popular.head(5)"
   ]
  },
  {
   "cell_type": "markdown",
   "metadata": {},
   "source": [
    "Now, using the Index Map, we associate each index with a value."
   ]
  },
  {
   "cell_type": "code",
   "execution_count": 8,
   "metadata": {},
   "outputs": [],
   "source": [
    "item_score = {0: -1} \n",
    "#since 0 is used for when the article was not found in the index map, here it'll have the lowest value\n",
    "for art in articles:\n",
    "    item_score[index_map[art]] = popular[art]"
   ]
  },
  {
   "cell_type": "markdown",
   "metadata": {},
   "source": [
    "### Saving Dictionaries\n",
    "\n",
    "In order to pass our **Index Map** and **Item Score** dictionaries to the model, we use BentoML. Thus, our recommender will load those dictionaries in order to make its recommendations.\n",
    "\n",
    "The `pack()` function takes care of saving our dictionaries."
   ]
  },
  {
   "cell_type": "code",
   "execution_count": 9,
   "metadata": {
    "tags": []
   },
   "outputs": [],
   "source": [
    "model = MostPopularRecommender()"
   ]
  },
  {
   "cell_type": "code",
   "execution_count": 10,
   "metadata": {},
   "outputs": [
    {
     "output_type": "execute_result",
     "data": {
      "text/plain": "<most_popular.MostPopularRecommender at 0x7f21f06ecfd0>"
     },
     "metadata": {},
     "execution_count": 10
    }
   ],
   "source": [
    "model.pack(\"item_score\", item_score)"
   ]
  },
  {
   "cell_type": "code",
   "execution_count": 11,
   "metadata": {},
   "outputs": [
    {
     "output_type": "execute_result",
     "data": {
      "text/plain": "<most_popular.MostPopularRecommender at 0x7f21f06ecfd0>"
     },
     "metadata": {},
     "execution_count": 11
    }
   ],
   "source": [
    "model.pack(\"index_map\", index_map)"
   ]
  },
  {
   "cell_type": "markdown",
   "metadata": {},
   "source": [
    "After packing what our recommender will need, we can test it with a small sample"
   ]
  },
  {
   "cell_type": "code",
   "execution_count": 12,
   "metadata": {},
   "outputs": [],
   "source": [
    "test_articles = [565648, 563115, 552077, 564335, 565589, 563938, 560290, 563643, 560620, 565822, 563787, 555528, 565364, 559855, 560518]"
   ]
  },
  {
   "cell_type": "code",
   "execution_count": 13,
   "metadata": {},
   "outputs": [
    {
     "output_type": "execute_result",
     "data": {
      "text/plain": "[565822,\n 563643,\n 563115,\n 565589,\n 559855,\n 565648,\n 560290,\n 555528,\n 564335,\n 560518,\n 565364,\n 563938,\n 560620,\n 552077,\n 563787]"
     },
     "metadata": {},
     "execution_count": 13
    }
   ],
   "source": [
    "model.rank({'Timestamp': 123456789, 'Clicked_Article': 565822, 'Click': 1, 'User_Features': np.asarray([True,False,False,False,True]), 'Article_List': np.asarray(test_articles)})"
   ]
  },
  {
   "cell_type": "markdown",
   "metadata": {},
   "source": [
    "To check if the prediction is correct, we can do it ourselves:\n",
    "\n",
    "First converting the ids into indexes"
   ]
  },
  {
   "cell_type": "code",
   "execution_count": 14,
   "metadata": {},
   "outputs": [
    {
     "output_type": "execute_result",
     "data": {
      "text/plain": "[10, 4, 25, 2, 8, 1, 14, 9, 24, 19, 6, 21, 13, 23, 11]"
     },
     "metadata": {},
     "execution_count": 14
    }
   ],
   "source": [
    "indexes = [index_map[art] for art in test_articles]\n",
    "indexes"
   ]
  },
  {
   "cell_type": "markdown",
   "metadata": {},
   "source": [
    "Then gather the scores for each index "
   ]
  },
  {
   "cell_type": "code",
   "execution_count": 15,
   "metadata": {},
   "outputs": [
    {
     "output_type": "execute_result",
     "data": {
      "text/plain": "[1161,\n 2140,\n 47,\n 606,\n 1782,\n 164,\n 1119,\n 3528,\n 143,\n 3868,\n 21,\n 1014,\n 457,\n 1232,\n 550]"
     },
     "metadata": {},
     "execution_count": 15
    }
   ],
   "source": [
    "scores = [item_score[idx] for idx in indexes]\n",
    "scores"
   ]
  },
  {
   "cell_type": "markdown",
   "metadata": {},
   "source": [
    "And finally sort them by the score"
   ]
  },
  {
   "cell_type": "code",
   "execution_count": 16,
   "metadata": {},
   "outputs": [
    {
     "output_type": "execute_result",
     "data": {
      "text/plain": "[(3868, 565822),\n (3528, 563643),\n (2140, 563115),\n (1782, 565589),\n (1232, 559855),\n (1161, 565648),\n (1119, 560290),\n (1014, 555528),\n (606, 564335),\n (550, 560518),\n (457, 565364),\n (164, 563938),\n (143, 560620),\n (47, 552077),\n (21, 563787)]"
     },
     "metadata": {},
     "execution_count": 16
    }
   ],
   "source": [
    "sorted(zip(scores, test_articles),reverse=True)"
   ]
  },
  {
   "cell_type": "code",
   "execution_count": 17,
   "metadata": {
    "tags": []
   },
   "outputs": [
    {
     "output_type": "stream",
     "name": "stdout",
     "text": "[2020-07-06 14:10:18,791] INFO - BentoService bundle 'MostPopularRecommender:1.0.20200706141003_DD900D' saved to: /home/marlesson/bentoml/repository/MostPopularRecommender/1.0.20200706141003_DD900D\n"
    },
    {
     "output_type": "execute_result",
     "data": {
      "text/plain": "'/home/marlesson/bentoml/repository/MostPopularRecommender/1.0.20200706141003_DD900D'"
     },
     "metadata": {},
     "execution_count": 17
    }
   ],
   "source": [
    "model.save()"
   ]
  },
  {
   "cell_type": "code",
   "execution_count": null,
   "metadata": {},
   "outputs": [],
   "source": []
  },
  {
   "cell_type": "code",
   "execution_count": null,
   "metadata": {},
   "outputs": [],
   "source": []
  }
 ],
 "metadata": {
  "kernelspec": {
   "display_name": "Python 3.7.3 64-bit ('base': conda)",
   "language": "python",
   "name": "python37364bitbaseconda71fa0390d2e947479e80d6476a063090"
  },
  "language_info": {
   "codemirror_mode": {
    "name": "ipython",
    "version": 3
   },
   "file_extension": ".py",
   "mimetype": "text/x-python",
   "name": "python",
   "nbconvert_exporter": "python",
   "pygments_lexer": "ipython3",
   "version": "3.7.3-final"
  }
 },
 "nbformat": 4,
 "nbformat_minor": 4
}