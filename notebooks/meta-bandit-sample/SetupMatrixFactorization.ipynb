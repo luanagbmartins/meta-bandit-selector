{
 "cells": [
  {
   "cell_type": "markdown",
   "metadata": {},
   "source": [
    "# Matrix Factorization\n",
    "\n",
    "The Matrix Factorization will require basically:\n",
    "\n",
    "* An **Index Map** to map an item_id into an index (e.g. 1, 2, 7, 45, etc.)\n",
    "* A **Matrix** with the predictions for items not yet visited\n",
    "\n",
    "Usually, in order to create the matrix for this recommender we would need the user_id or some equivalent information, so the matrix could be `users x items`. However, as you may have noticed from the dataset iteractions, the user_id is not available, but we do have an array of user features.\n",
    "\n",
    "To address this, we decided to use *clustering*. We create clusters from the users' features and use those for the matrix, making it `clusters x items`. This will add another element we'll need for recommending:\n",
    "\n",
    "* A **Clustering Algorithm** to map new user features to clusters\n",
    "\n",
    "In this notebook we will setup these elements. However, the actual recommendation happens in `matrix_fact.py` that will answer to the BentoML api when requested."
   ]
  },
  {
   "cell_type": "markdown",
   "metadata": {},
   "source": [
    "### Importing Libraries"
   ]
  },
  {
   "cell_type": "code",
   "execution_count": 1,
   "metadata": {
    "tags": []
   },
   "outputs": [
    {
     "output_type": "stream",
     "name": "stdout",
     "text": "[2020-07-06 14:19:05,586] WARNING - bentoml.handlers.* will be deprecated after BentoML 1.0, use bentoml.adapters.* instead\n[2020-07-06 14:19:05,587] WARNING - JsonHandler will be deprecated after BentoML 1.0, use JsonInput instead\n"
    }
   ],
   "source": [
    "import random\n",
    "import pandas as pd\n",
    "import numpy as np\n",
    "\n",
    "from sklearn.cluster import KMeans\n",
    "from scipy.sparse import csr_matrix\n",
    "from scipy.sparse.linalg import svds\n",
    "\n",
    "from preprocessing import preprocess, read_sample\n",
    "from matrix_fact import ClusteredMatrixFactRecommender"
   ]
  },
  {
   "cell_type": "markdown",
   "metadata": {},
   "source": [
    "### Acquire preprocessed Data"
   ]
  },
  {
   "cell_type": "code",
   "execution_count": 2,
   "metadata": {},
   "outputs": [
    {
     "output_type": "execute_result",
     "data": {
      "text/plain": "   Unnamed: 0   Timestamp  Clicked_Article  Click  \\\n0           7  1317513293           563938      1   \n1          13  1317513293           564335      1   \n2          39  1317513295           564335      1   \n3         144  1317513299           565747      1   \n4         176  1317513300           563115      1   \n\n                                       User_Features  \\\n0  [1 0 0 0 0 0 0 0 0 0 0 0 1 1 0 0 1 1 1 0 0 0 1...   \n1  [1 0 0 0 0 0 1 0 0 0 1 0 1 1 1 1 1 1 1 0 1 1 1...   \n2  [1 0 0 0 0 0 0 1 0 0 0 1 1 1 1 1 1 1 1 1 1 1 1...   \n3  [1 0 0 0 0 0 1 0 0 0 0 1 1 1 1 1 1 1 1 0 1 1 1...   \n4  [1 0 0 0 0 0 0 0 1 0 0 1 1 1 1 1 1 1 1 0 1 1 1...   \n\n                                        Article_List  \n0  [552077 555224 555528 559744 559855 560290 560...  \n1  [552077 555224 555528 559744 559855 560290 560...  \n2  [552077 555224 555528 559744 559855 560290 560...  \n3  [552077 555224 555528 559744 559855 560290 560...  \n4  [552077 555224 555528 559744 559855 560290 560...  ",
      "text/html": "<div>\n<style scoped>\n    .dataframe tbody tr th:only-of-type {\n        vertical-align: middle;\n    }\n\n    .dataframe tbody tr th {\n        vertical-align: top;\n    }\n\n    .dataframe thead th {\n        text-align: right;\n    }\n</style>\n<table border=\"1\" class=\"dataframe\">\n  <thead>\n    <tr style=\"text-align: right;\">\n      <th></th>\n      <th>Unnamed: 0</th>\n      <th>Timestamp</th>\n      <th>Clicked_Article</th>\n      <th>Click</th>\n      <th>User_Features</th>\n      <th>Article_List</th>\n    </tr>\n  </thead>\n  <tbody>\n    <tr>\n      <td>0</td>\n      <td>7</td>\n      <td>1317513293</td>\n      <td>563938</td>\n      <td>1</td>\n      <td>[1 0 0 0 0 0 0 0 0 0 0 0 1 1 0 0 1 1 1 0 0 0 1...</td>\n      <td>[552077 555224 555528 559744 559855 560290 560...</td>\n    </tr>\n    <tr>\n      <td>1</td>\n      <td>13</td>\n      <td>1317513293</td>\n      <td>564335</td>\n      <td>1</td>\n      <td>[1 0 0 0 0 0 1 0 0 0 1 0 1 1 1 1 1 1 1 0 1 1 1...</td>\n      <td>[552077 555224 555528 559744 559855 560290 560...</td>\n    </tr>\n    <tr>\n      <td>2</td>\n      <td>39</td>\n      <td>1317513295</td>\n      <td>564335</td>\n      <td>1</td>\n      <td>[1 0 0 0 0 0 0 1 0 0 0 1 1 1 1 1 1 1 1 1 1 1 1...</td>\n      <td>[552077 555224 555528 559744 559855 560290 560...</td>\n    </tr>\n    <tr>\n      <td>3</td>\n      <td>144</td>\n      <td>1317513299</td>\n      <td>565747</td>\n      <td>1</td>\n      <td>[1 0 0 0 0 0 1 0 0 0 0 1 1 1 1 1 1 1 1 0 1 1 1...</td>\n      <td>[552077 555224 555528 559744 559855 560290 560...</td>\n    </tr>\n    <tr>\n      <td>4</td>\n      <td>176</td>\n      <td>1317513300</td>\n      <td>563115</td>\n      <td>1</td>\n      <td>[1 0 0 0 0 0 0 0 1 0 0 1 1 1 1 1 1 1 1 0 1 1 1...</td>\n      <td>[552077 555224 555528 559744 559855 560290 560...</td>\n    </tr>\n  </tbody>\n</table>\n</div>"
     },
     "metadata": {},
     "execution_count": 2
    }
   ],
   "source": [
    "#df = preprocess(\"Sample\")\n",
    "df = read_sample(\"/media/backup/datasets/yahoo/yahoo_dataset_clicked.csv\", p=1)\n",
    "df.head()"
   ]
  },
  {
   "cell_type": "code",
   "execution_count": 4,
   "metadata": {},
   "outputs": [],
   "source": [
    "import re\n",
    "import ast\n",
    "def literal_eval(element):\n",
    "    if isinstance(element, str):\n",
    "        return ast.literal_eval(re.sub('\\s+',',',element))\n",
    "    return element\n",
    "\n",
    "df['User_Features'] = df['User_Features'].apply(literal_eval)\n",
    "df['Article_List'] = df['Article_List'].apply(literal_eval)"
   ]
  },
  {
   "cell_type": "markdown",
   "metadata": {},
   "source": [
    "## Clustering\n",
    "\n",
    "For the cluster, we will need the users' features"
   ]
  },
  {
   "cell_type": "code",
   "execution_count": 5,
   "metadata": {},
   "outputs": [
    {
     "output_type": "execute_result",
     "data": {
      "text/plain": "(1027832, 136)"
     },
     "metadata": {},
     "execution_count": 5
    }
   ],
   "source": [
    "users = np.asarray(df.loc[:,'User_Features']) # acquire only the features\n",
    "users = np.stack(users, axis=0) # stack them to make an array (iteractions, features)\n",
    "users.shape"
   ]
  },
  {
   "cell_type": "markdown",
   "metadata": {},
   "source": [
    "Now we can intialize the clustering algorithm, decide how many clusters we want and compute"
   ]
  },
  {
   "cell_type": "code",
   "execution_count": 9,
   "metadata": {},
   "outputs": [
    {
     "output_type": "execute_result",
     "data": {
      "text/plain": "2"
     },
     "metadata": {},
     "execution_count": 9
    }
   ],
   "source": [
    "1+1"
   ]
  },
  {
   "cell_type": "code",
   "execution_count": 10,
   "metadata": {},
   "outputs": [
    {
     "output_type": "execute_result",
     "data": {
      "text/plain": "KMeans(algorithm='auto', copy_x=True, init='k-means++', max_iter=300,\n       n_clusters=10, n_init=10, n_jobs=-1, precompute_distances='auto',\n       random_state=None, tol=0.0001, verbose=0)"
     },
     "metadata": {},
     "execution_count": 10
    }
   ],
   "source": [
    "kmeans = KMeans(n_clusters=10, n_jobs=-1)\n",
    "kmeans.fit(users)"
   ]
  },
  {
   "cell_type": "markdown",
   "metadata": {},
   "source": [
    "We can get some random samples and take a look into the clustering process"
   ]
  },
  {
   "cell_type": "code",
   "execution_count": 11,
   "metadata": {},
   "outputs": [
    {
     "output_type": "execute_result",
     "data": {
      "text/plain": "176152    [1, 0, 0, 0, 0, 0, 1, 0, 0, 0, 1, 0, 1, 1, 1, ...\n262303    [1, 0, 0, 0, 0, 0, 0, 0, 0, 0, 0, 0, 1, 1, 0, ...\n197729    [1, 0, 0, 0, 0, 0, 0, 0, 0, 0, 0, 0, 1, 1, 1, ...\n284846    [1, 0, 0, 0, 0, 0, 0, 1, 0, 0, 1, 0, 1, 1, 1, ...\n923152    [1, 0, 0, 0, 0, 0, 0, 0, 0, 0, 0, 0, 1, 1, 1, ...\nName: User_Features, dtype: object"
     },
     "metadata": {},
     "execution_count": 11
    }
   ],
   "source": [
    "samples = df.sample(5).loc[:,'User_Features']\n",
    "samples"
   ]
  },
  {
   "cell_type": "markdown",
   "metadata": {},
   "source": [
    "Stack the features again to make an array `(samples, features)`"
   ]
  },
  {
   "cell_type": "code",
   "execution_count": 12,
   "metadata": {},
   "outputs": [
    {
     "output_type": "execute_result",
     "data": {
      "text/plain": "(5, 136)"
     },
     "metadata": {},
     "execution_count": 12
    }
   ],
   "source": [
    "sample_features = np.stack(samples,axis=0)\n",
    "sample_features.shape"
   ]
  },
  {
   "cell_type": "markdown",
   "metadata": {},
   "source": [
    "Predict their clusters"
   ]
  },
  {
   "cell_type": "code",
   "execution_count": 13,
   "metadata": {},
   "outputs": [
    {
     "output_type": "execute_result",
     "data": {
      "text/plain": "array([7, 6, 9, 7, 4], dtype=int32)"
     },
     "metadata": {},
     "execution_count": 13
    }
   ],
   "source": [
    "kmeans.predict(sample_features)"
   ]
  },
  {
   "cell_type": "markdown",
   "metadata": {},
   "source": [
    "If you wish to check wether the predicted clusters are the same as the previously assigned clusters just run:"
   ]
  },
  {
   "cell_type": "code",
   "execution_count": 14,
   "metadata": {},
   "outputs": [
    {
     "output_type": "execute_result",
     "data": {
      "text/plain": "array([7, 6, 9, 7, 4], dtype=int32)"
     },
     "metadata": {},
     "execution_count": 14
    }
   ],
   "source": [
    "kmeans.labels_[samples.index]"
   ]
  },
  {
   "cell_type": "markdown",
   "metadata": {},
   "source": [
    "Now, we can look at the features to see what similarities and differences they share"
   ]
  },
  {
   "cell_type": "code",
   "execution_count": 15,
   "metadata": {
    "scrolled": true
   },
   "outputs": [
    {
     "output_type": "execute_result",
     "data": {
      "text/plain": "array([[1, 0, 0, 0, 0, 0, 1, 0, 0, 0, 1, 0, 1, 1, 1, 1, 1, 1, 0, 1, 1, 1,\n        1, 0, 0, 0, 1, 0, 0, 0, 0, 1, 0, 0, 0, 0, 0, 0, 0, 0, 0, 0, 0, 0,\n        0, 0, 1, 0, 0, 1, 0, 0, 0, 0, 0, 0, 1, 0, 0, 0, 0, 0, 0, 0, 0, 0,\n        0, 0, 0, 0, 0, 0, 0, 0, 0, 0, 0, 0, 0, 0, 0, 0, 0, 0, 0, 0, 0, 0,\n        0, 0, 0, 0, 0, 0, 0, 0, 0, 0, 0, 0, 0, 0, 0, 0, 0, 0, 0, 0, 0, 0,\n        0, 0, 0, 0, 0, 0, 0, 0, 0, 0, 0, 0, 0, 0, 0, 0, 0, 0, 0, 0, 0, 0,\n        0, 0, 0, 0],\n       [1, 0, 0, 0, 0, 0, 0, 0, 0, 0, 0, 0, 1, 1, 0, 0, 1, 1, 1, 1, 0, 0,\n        1, 0, 1, 0, 1, 0, 1, 1, 0, 0, 0, 0, 1, 0, 0, 0, 0, 0, 0, 0, 0, 0,\n        0, 0, 1, 0, 0, 0, 0, 0, 0, 0, 0, 0, 0, 0, 0, 0, 0, 0, 0, 0, 1, 0,\n        0, 0, 0, 0, 0, 0, 0, 0, 0, 0, 0, 0, 0, 0, 0, 0, 0, 0, 0, 0, 0, 0,\n        0, 0, 0, 0, 0, 0, 0, 0, 0, 0, 0, 0, 0, 0, 0, 0, 0, 0, 0, 0, 0, 0,\n        0, 0, 0, 0, 0, 0, 0, 0, 0, 0, 0, 0, 0, 0, 0, 0, 0, 0, 0, 0, 0, 0,\n        0, 0, 0, 0],\n       [1, 0, 0, 0, 0, 0, 0, 0, 0, 0, 0, 0, 1, 1, 1, 1, 1, 1, 1, 0, 0, 0,\n        1, 0, 0, 0, 1, 0, 0, 0, 0, 0, 1, 0, 0, 0, 0, 0, 0, 0, 0, 0, 1, 0,\n        1, 0, 0, 0, 0, 0, 0, 0, 0, 0, 0, 0, 0, 0, 0, 0, 0, 0, 0, 0, 0, 0,\n        0, 0, 0, 0, 0, 0, 0, 0, 1, 0, 0, 0, 0, 0, 0, 0, 0, 0, 0, 0, 0, 0,\n        0, 0, 0, 0, 0, 0, 0, 0, 0, 0, 0, 0, 0, 0, 0, 0, 0, 0, 0, 0, 0, 0,\n        0, 0, 0, 0, 0, 0, 0, 0, 0, 0, 0, 0, 0, 0, 0, 0, 0, 0, 0, 0, 0, 0,\n        0, 0, 0, 0],\n       [1, 0, 0, 0, 0, 0, 0, 1, 0, 0, 1, 0, 1, 1, 1, 1, 1, 1, 0, 0, 1, 1,\n        1, 1, 1, 0, 0, 0, 1, 0, 0, 0, 0, 0, 0, 0, 0, 0, 0, 0, 0, 0, 0, 0,\n        0, 0, 0, 0, 0, 0, 0, 0, 0, 0, 0, 0, 0, 0, 0, 0, 0, 0, 0, 0, 0, 0,\n        0, 0, 0, 0, 0, 0, 0, 0, 0, 0, 0, 0, 0, 0, 0, 0, 0, 0, 0, 0, 0, 0,\n        0, 0, 0, 0, 0, 0, 0, 0, 0, 0, 0, 0, 0, 0, 0, 0, 0, 0, 0, 0, 0, 0,\n        0, 0, 0, 0, 0, 0, 0, 0, 0, 0, 0, 0, 0, 0, 0, 0, 0, 0, 0, 0, 0, 0,\n        0, 0, 0, 0],\n       [1, 0, 0, 0, 0, 0, 0, 0, 0, 0, 0, 0, 1, 1, 1, 1, 1, 0, 0, 0, 0, 0,\n        0, 0, 0, 0, 0, 0, 0, 0, 0, 0, 0, 0, 0, 1, 0, 0, 1, 1, 0, 0, 0, 0,\n        0, 0, 0, 0, 0, 0, 0, 0, 0, 0, 0, 0, 0, 0, 0, 0, 0, 0, 0, 0, 0, 0,\n        0, 0, 0, 0, 0, 0, 0, 0, 0, 0, 0, 0, 0, 0, 0, 0, 0, 0, 0, 0, 0, 0,\n        0, 0, 0, 0, 0, 0, 0, 0, 0, 0, 0, 0, 0, 0, 0, 0, 0, 0, 0, 0, 0, 0,\n        0, 0, 0, 0, 0, 0, 0, 0, 0, 0, 0, 0, 0, 0, 0, 0, 0, 0, 0, 0, 0, 0,\n        0, 0, 0, 0]])"
     },
     "metadata": {},
     "execution_count": 15
    }
   ],
   "source": [
    "sample_features"
   ]
  },
  {
   "cell_type": "markdown",
   "metadata": {},
   "source": [
    "## Index Map\n",
    "\n",
    "First, we get all articles in a list"
   ]
  },
  {
   "cell_type": "code",
   "execution_count": 22,
   "metadata": {},
   "outputs": [
    {
     "output_type": "execute_result",
     "data": {
      "text/plain": "(652,)"
     },
     "metadata": {},
     "execution_count": 22
    }
   ],
   "source": [
    "articles = df['Clicked_Article'].unique()\n",
    "articles.shape"
   ]
  },
  {
   "cell_type": "code",
   "execution_count": 23,
   "metadata": {},
   "outputs": [
    {
     "output_type": "execute_result",
     "data": {
      "text/plain": "(1027832, 7)"
     },
     "metadata": {},
     "execution_count": 23
    }
   ],
   "source": []
  },
  {
   "cell_type": "markdown",
   "metadata": {},
   "source": [
    "Then, we iterate over them creating a dictionary for the index map."
   ]
  },
  {
   "cell_type": "code",
   "execution_count": 17,
   "metadata": {},
   "outputs": [],
   "source": [
    "index_map = {}\n",
    "idx = 1 # idx starts at 1 so that 0 is used for when the article is not found in the index map\n",
    "for art in articles:\n",
    "    index_map[art] = idx\n",
    "    idx+=1\n",
    "# index_map"
   ]
  },
  {
   "cell_type": "markdown",
   "metadata": {},
   "source": [
    "## Matrix\n",
    "\n",
    "Since our matrix will use indexes instead of the item_id we can replace them in the dataset"
   ]
  },
  {
   "cell_type": "code",
   "execution_count": 18,
   "metadata": {},
   "outputs": [
    {
     "output_type": "execute_result",
     "data": {
      "text/plain": "   Unnamed: 0   Timestamp  Clicked_Article  Click  \\\n0           7  1317513293                1      1   \n1          13  1317513293                2      1   \n2          39  1317513295                2      1   \n3         144  1317513299                3      1   \n4         176  1317513300                4      1   \n\n                                       User_Features  \\\n0  [1, 0, 0, 0, 0, 0, 0, 0, 0, 0, 0, 0, 1, 1, 0, ...   \n1  [1, 0, 0, 0, 0, 0, 1, 0, 0, 0, 1, 0, 1, 1, 1, ...   \n2  [1, 0, 0, 0, 0, 0, 0, 1, 0, 0, 0, 1, 1, 1, 1, ...   \n3  [1, 0, 0, 0, 0, 0, 1, 0, 0, 0, 0, 1, 1, 1, 1, ...   \n4  [1, 0, 0, 0, 0, 0, 0, 0, 1, 0, 0, 1, 1, 1, 1, ...   \n\n                                        Article_List  \n0  [552077, 555224, 555528, 559744, 559855, 56029...  \n1  [552077, 555224, 555528, 559744, 559855, 56029...  \n2  [552077, 555224, 555528, 559744, 559855, 56029...  \n3  [552077, 555224, 555528, 559744, 559855, 56029...  \n4  [552077, 555224, 555528, 559744, 559855, 56029...  ",
      "text/html": "<div>\n<style scoped>\n    .dataframe tbody tr th:only-of-type {\n        vertical-align: middle;\n    }\n\n    .dataframe tbody tr th {\n        vertical-align: top;\n    }\n\n    .dataframe thead th {\n        text-align: right;\n    }\n</style>\n<table border=\"1\" class=\"dataframe\">\n  <thead>\n    <tr style=\"text-align: right;\">\n      <th></th>\n      <th>Unnamed: 0</th>\n      <th>Timestamp</th>\n      <th>Clicked_Article</th>\n      <th>Click</th>\n      <th>User_Features</th>\n      <th>Article_List</th>\n    </tr>\n  </thead>\n  <tbody>\n    <tr>\n      <td>0</td>\n      <td>7</td>\n      <td>1317513293</td>\n      <td>1</td>\n      <td>1</td>\n      <td>[1, 0, 0, 0, 0, 0, 0, 0, 0, 0, 0, 0, 1, 1, 0, ...</td>\n      <td>[552077, 555224, 555528, 559744, 559855, 56029...</td>\n    </tr>\n    <tr>\n      <td>1</td>\n      <td>13</td>\n      <td>1317513293</td>\n      <td>2</td>\n      <td>1</td>\n      <td>[1, 0, 0, 0, 0, 0, 1, 0, 0, 0, 1, 0, 1, 1, 1, ...</td>\n      <td>[552077, 555224, 555528, 559744, 559855, 56029...</td>\n    </tr>\n    <tr>\n      <td>2</td>\n      <td>39</td>\n      <td>1317513295</td>\n      <td>2</td>\n      <td>1</td>\n      <td>[1, 0, 0, 0, 0, 0, 0, 1, 0, 0, 0, 1, 1, 1, 1, ...</td>\n      <td>[552077, 555224, 555528, 559744, 559855, 56029...</td>\n    </tr>\n    <tr>\n      <td>3</td>\n      <td>144</td>\n      <td>1317513299</td>\n      <td>3</td>\n      <td>1</td>\n      <td>[1, 0, 0, 0, 0, 0, 1, 0, 0, 0, 0, 1, 1, 1, 1, ...</td>\n      <td>[552077, 555224, 555528, 559744, 559855, 56029...</td>\n    </tr>\n    <tr>\n      <td>4</td>\n      <td>176</td>\n      <td>1317513300</td>\n      <td>4</td>\n      <td>1</td>\n      <td>[1, 0, 0, 0, 0, 0, 0, 0, 1, 0, 0, 1, 1, 1, 1, ...</td>\n      <td>[552077, 555224, 555528, 559744, 559855, 56029...</td>\n    </tr>\n  </tbody>\n</table>\n</div>"
     },
     "metadata": {},
     "execution_count": 18
    }
   ],
   "source": [
    "df['Clicked_Article'].replace(index_map, inplace=True)\n",
    "df.head(5)"
   ]
  },
  {
   "cell_type": "markdown",
   "metadata": {},
   "source": [
    "Also, since our clusters will be the other dimension in the matrix, we'll add them to the dataset. \n",
    "All this will make the matrix creation process more straightforward"
   ]
  },
  {
   "cell_type": "code",
   "execution_count": 19,
   "metadata": {},
   "outputs": [
    {
     "output_type": "execute_result",
     "data": {
      "text/plain": "   Unnamed: 0   Timestamp  Clicked_Article  Click  \\\n0           7  1317513293                1      1   \n1          13  1317513293                2      1   \n2          39  1317513295                2      1   \n3         144  1317513299                3      1   \n4         176  1317513300                4      1   \n\n                                       User_Features  \\\n0  [1, 0, 0, 0, 0, 0, 0, 0, 0, 0, 0, 0, 1, 1, 0, ...   \n1  [1, 0, 0, 0, 0, 0, 1, 0, 0, 0, 1, 0, 1, 1, 1, ...   \n2  [1, 0, 0, 0, 0, 0, 0, 1, 0, 0, 0, 1, 1, 1, 1, ...   \n3  [1, 0, 0, 0, 0, 0, 1, 0, 0, 0, 0, 1, 1, 1, 1, ...   \n4  [1, 0, 0, 0, 0, 0, 0, 0, 1, 0, 0, 1, 1, 1, 1, ...   \n\n                                        Article_List  Cluster  \n0  [552077, 555224, 555528, 559744, 559855, 56029...        6  \n1  [552077, 555224, 555528, 559744, 559855, 56029...        5  \n2  [552077, 555224, 555528, 559744, 559855, 56029...        3  \n3  [552077, 555224, 555528, 559744, 559855, 56029...        3  \n4  [552077, 555224, 555528, 559744, 559855, 56029...        5  ",
      "text/html": "<div>\n<style scoped>\n    .dataframe tbody tr th:only-of-type {\n        vertical-align: middle;\n    }\n\n    .dataframe tbody tr th {\n        vertical-align: top;\n    }\n\n    .dataframe thead th {\n        text-align: right;\n    }\n</style>\n<table border=\"1\" class=\"dataframe\">\n  <thead>\n    <tr style=\"text-align: right;\">\n      <th></th>\n      <th>Unnamed: 0</th>\n      <th>Timestamp</th>\n      <th>Clicked_Article</th>\n      <th>Click</th>\n      <th>User_Features</th>\n      <th>Article_List</th>\n      <th>Cluster</th>\n    </tr>\n  </thead>\n  <tbody>\n    <tr>\n      <td>0</td>\n      <td>7</td>\n      <td>1317513293</td>\n      <td>1</td>\n      <td>1</td>\n      <td>[1, 0, 0, 0, 0, 0, 0, 0, 0, 0, 0, 0, 1, 1, 0, ...</td>\n      <td>[552077, 555224, 555528, 559744, 559855, 56029...</td>\n      <td>6</td>\n    </tr>\n    <tr>\n      <td>1</td>\n      <td>13</td>\n      <td>1317513293</td>\n      <td>2</td>\n      <td>1</td>\n      <td>[1, 0, 0, 0, 0, 0, 1, 0, 0, 0, 1, 0, 1, 1, 1, ...</td>\n      <td>[552077, 555224, 555528, 559744, 559855, 56029...</td>\n      <td>5</td>\n    </tr>\n    <tr>\n      <td>2</td>\n      <td>39</td>\n      <td>1317513295</td>\n      <td>2</td>\n      <td>1</td>\n      <td>[1, 0, 0, 0, 0, 0, 0, 1, 0, 0, 0, 1, 1, 1, 1, ...</td>\n      <td>[552077, 555224, 555528, 559744, 559855, 56029...</td>\n      <td>3</td>\n    </tr>\n    <tr>\n      <td>3</td>\n      <td>144</td>\n      <td>1317513299</td>\n      <td>3</td>\n      <td>1</td>\n      <td>[1, 0, 0, 0, 0, 0, 1, 0, 0, 0, 0, 1, 1, 1, 1, ...</td>\n      <td>[552077, 555224, 555528, 559744, 559855, 56029...</td>\n      <td>3</td>\n    </tr>\n    <tr>\n      <td>4</td>\n      <td>176</td>\n      <td>1317513300</td>\n      <td>4</td>\n      <td>1</td>\n      <td>[1, 0, 0, 0, 0, 0, 0, 0, 1, 0, 0, 1, 1, 1, 1, ...</td>\n      <td>[552077, 555224, 555528, 559744, 559855, 56029...</td>\n      <td>5</td>\n    </tr>\n  </tbody>\n</table>\n</div>"
     },
     "metadata": {},
     "execution_count": 19
    }
   ],
   "source": [
    "df['Cluster'] = kmeans.labels_\n",
    "df.head(5)"
   ]
  },
  {
   "cell_type": "code",
   "execution_count": 20,
   "metadata": {},
   "outputs": [
    {
     "output_type": "execute_result",
     "data": {
      "text/plain": "Clicked_Article  1    2     3     4     5    6    7    8     9    10   ...  \\\nCluster                                                                ...   \n0                  2   29    95   107   124    0  119   86   246   79  ...   \n1                151  340  1070  1015  1047   18  811  890  1737  527  ...   \n2                  0   31    81   128   108    0  107  115   184   56  ...   \n3                  1   27    96   102    77    1  113   97   138   65  ...   \n4                  0   31   164   188   215    1  125  180   263  116  ...   \n\nClicked_Article  643  644  645  646  647  648  649  650  651  652  \nCluster                                                            \n0                114   22   52   31   15   89   45   48   16    7  \n1                152   27   75   58   16  123   60   66   20   13  \n2                122   15   42   28   13  101   55   54   16    6  \n3                127   14   53   23    5  112   58   59   18    4  \n4                212   22   78   39   26  199   87  105   26   13  \n\n[5 rows x 652 columns]",
      "text/html": "<div>\n<style scoped>\n    .dataframe tbody tr th:only-of-type {\n        vertical-align: middle;\n    }\n\n    .dataframe tbody tr th {\n        vertical-align: top;\n    }\n\n    .dataframe thead th {\n        text-align: right;\n    }\n</style>\n<table border=\"1\" class=\"dataframe\">\n  <thead>\n    <tr style=\"text-align: right;\">\n      <th>Clicked_Article</th>\n      <th>1</th>\n      <th>2</th>\n      <th>3</th>\n      <th>4</th>\n      <th>5</th>\n      <th>6</th>\n      <th>7</th>\n      <th>8</th>\n      <th>9</th>\n      <th>10</th>\n      <th>...</th>\n      <th>643</th>\n      <th>644</th>\n      <th>645</th>\n      <th>646</th>\n      <th>647</th>\n      <th>648</th>\n      <th>649</th>\n      <th>650</th>\n      <th>651</th>\n      <th>652</th>\n    </tr>\n    <tr>\n      <th>Cluster</th>\n      <th></th>\n      <th></th>\n      <th></th>\n      <th></th>\n      <th></th>\n      <th></th>\n      <th></th>\n      <th></th>\n      <th></th>\n      <th></th>\n      <th></th>\n      <th></th>\n      <th></th>\n      <th></th>\n      <th></th>\n      <th></th>\n      <th></th>\n      <th></th>\n      <th></th>\n      <th></th>\n      <th></th>\n    </tr>\n  </thead>\n  <tbody>\n    <tr>\n      <td>0</td>\n      <td>2</td>\n      <td>29</td>\n      <td>95</td>\n      <td>107</td>\n      <td>124</td>\n      <td>0</td>\n      <td>119</td>\n      <td>86</td>\n      <td>246</td>\n      <td>79</td>\n      <td>...</td>\n      <td>114</td>\n      <td>22</td>\n      <td>52</td>\n      <td>31</td>\n      <td>15</td>\n      <td>89</td>\n      <td>45</td>\n      <td>48</td>\n      <td>16</td>\n      <td>7</td>\n    </tr>\n    <tr>\n      <td>1</td>\n      <td>151</td>\n      <td>340</td>\n      <td>1070</td>\n      <td>1015</td>\n      <td>1047</td>\n      <td>18</td>\n      <td>811</td>\n      <td>890</td>\n      <td>1737</td>\n      <td>527</td>\n      <td>...</td>\n      <td>152</td>\n      <td>27</td>\n      <td>75</td>\n      <td>58</td>\n      <td>16</td>\n      <td>123</td>\n      <td>60</td>\n      <td>66</td>\n      <td>20</td>\n      <td>13</td>\n    </tr>\n    <tr>\n      <td>2</td>\n      <td>0</td>\n      <td>31</td>\n      <td>81</td>\n      <td>128</td>\n      <td>108</td>\n      <td>0</td>\n      <td>107</td>\n      <td>115</td>\n      <td>184</td>\n      <td>56</td>\n      <td>...</td>\n      <td>122</td>\n      <td>15</td>\n      <td>42</td>\n      <td>28</td>\n      <td>13</td>\n      <td>101</td>\n      <td>55</td>\n      <td>54</td>\n      <td>16</td>\n      <td>6</td>\n    </tr>\n    <tr>\n      <td>3</td>\n      <td>1</td>\n      <td>27</td>\n      <td>96</td>\n      <td>102</td>\n      <td>77</td>\n      <td>1</td>\n      <td>113</td>\n      <td>97</td>\n      <td>138</td>\n      <td>65</td>\n      <td>...</td>\n      <td>127</td>\n      <td>14</td>\n      <td>53</td>\n      <td>23</td>\n      <td>5</td>\n      <td>112</td>\n      <td>58</td>\n      <td>59</td>\n      <td>18</td>\n      <td>4</td>\n    </tr>\n    <tr>\n      <td>4</td>\n      <td>0</td>\n      <td>31</td>\n      <td>164</td>\n      <td>188</td>\n      <td>215</td>\n      <td>1</td>\n      <td>125</td>\n      <td>180</td>\n      <td>263</td>\n      <td>116</td>\n      <td>...</td>\n      <td>212</td>\n      <td>22</td>\n      <td>78</td>\n      <td>39</td>\n      <td>26</td>\n      <td>199</td>\n      <td>87</td>\n      <td>105</td>\n      <td>26</td>\n      <td>13</td>\n    </tr>\n  </tbody>\n</table>\n<p>5 rows × 652 columns</p>\n</div>"
     },
     "metadata": {},
     "execution_count": 20
    }
   ],
   "source": [
    "pivot_table = df.pivot_table(index='Cluster', columns='Clicked_Article', values='Click', aggfunc=np.sum, fill_value=0)\n",
    "pivot_table.head(5)"
   ]
  },
  {
   "cell_type": "code",
   "execution_count": 21,
   "metadata": {},
   "outputs": [
    {
     "output_type": "execute_result",
     "data": {
      "text/plain": "(10, 652)"
     },
     "metadata": {},
     "execution_count": 21
    }
   ],
   "source": [
    "pivot_table.shape"
   ]
  },
  {
   "cell_type": "markdown",
   "metadata": {},
   "source": [
    "Converting the matrix into a numpy array"
   ]
  },
  {
   "cell_type": "code",
   "execution_count": 24,
   "metadata": {},
   "outputs": [
    {
     "output_type": "execute_result",
     "data": {
      "text/plain": "array([[2.00e+00, 2.90e+01, 9.50e+01, ..., 4.80e+01, 1.60e+01, 7.00e+00],\n       [1.51e+02, 3.40e+02, 1.07e+03, ..., 6.60e+01, 2.00e+01, 1.30e+01],\n       [0.00e+00, 3.10e+01, 8.10e+01, ..., 5.40e+01, 1.60e+01, 6.00e+00],\n       [1.00e+00, 2.70e+01, 9.60e+01, ..., 5.90e+01, 1.80e+01, 4.00e+00],\n       [0.00e+00, 3.10e+01, 1.64e+02, ..., 1.05e+02, 2.60e+01, 1.30e+01]])"
     },
     "metadata": {},
     "execution_count": 24
    }
   ],
   "source": [
    "pivot_matrix = np.asarray(pivot_table.values,dtype='float')\n",
    "pivot_matrix[:5]"
   ]
  },
  {
   "cell_type": "markdown",
   "metadata": {},
   "source": [
    "Each array inside this one is, therefore, the values for a cluster"
   ]
  },
  {
   "cell_type": "code",
   "execution_count": 25,
   "metadata": {},
   "outputs": [
    {
     "output_type": "execute_result",
     "data": {
      "text/plain": "[0, 1, 2, 3, 4, 5, 6, 7, 8, 9]"
     },
     "metadata": {},
     "execution_count": 25
    }
   ],
   "source": [
    "clusters = list(pivot_table.index)\n",
    "clusters[:10]"
   ]
  },
  {
   "cell_type": "markdown",
   "metadata": {},
   "source": [
    "Here we make the matrix sparse with `scipy.sparse.csr_matrix()` in order to input for factorization"
   ]
  },
  {
   "cell_type": "code",
   "execution_count": 26,
   "metadata": {},
   "outputs": [
    {
     "output_type": "execute_result",
     "data": {
      "text/plain": "<10x652 sparse matrix of type '<class 'numpy.float64'>'\n\twith 6454 stored elements in Compressed Sparse Row format>"
     },
     "metadata": {},
     "execution_count": 26
    }
   ],
   "source": [
    "sparse_matrix = csr_matrix(pivot_matrix)\n",
    "sparse_matrix"
   ]
  },
  {
   "cell_type": "markdown",
   "metadata": {},
   "source": [
    "With `from scipy.sparse.linalg.svds()` we compute the factorization"
   ]
  },
  {
   "cell_type": "code",
   "execution_count": 28,
   "metadata": {},
   "outputs": [],
   "source": [
    "FACTORS_MF = 5\n",
    "\n",
    "U, sigma, Vt = svds(sparse_matrix, k = FACTORS_MF)"
   ]
  },
  {
   "cell_type": "markdown",
   "metadata": {},
   "source": [
    "After this process, we can convert the output back into a dataframe, and then, a matrix as a numpy array"
   ]
  },
  {
   "cell_type": "code",
   "execution_count": 29,
   "metadata": {},
   "outputs": [
    {
     "output_type": "execute_result",
     "data": {
      "text/plain": "(10, 5)"
     },
     "metadata": {},
     "execution_count": 29
    }
   ],
   "source": [
    "U.shape"
   ]
  },
  {
   "cell_type": "code",
   "execution_count": 30,
   "metadata": {},
   "outputs": [
    {
     "output_type": "execute_result",
     "data": {
      "text/plain": "(5, 652)"
     },
     "metadata": {},
     "execution_count": 30
    }
   ],
   "source": [
    "Vt.shape"
   ]
  },
  {
   "cell_type": "code",
   "execution_count": 31,
   "metadata": {},
   "outputs": [
    {
     "output_type": "execute_result",
     "data": {
      "text/plain": "(5, 5)"
     },
     "metadata": {},
     "execution_count": 31
    }
   ],
   "source": [
    "sigma = np.diag(sigma)\n",
    "sigma.shape"
   ]
  },
  {
   "cell_type": "code",
   "execution_count": 32,
   "metadata": {},
   "outputs": [
    {
     "output_type": "execute_result",
     "data": {
      "text/plain": "(10, 652)"
     },
     "metadata": {},
     "execution_count": 32
    }
   ],
   "source": [
    "all_predicted_ratings = np.dot(np.dot(U, sigma), Vt) \n",
    "all_predicted_ratings.shape"
   ]
  },
  {
   "cell_type": "code",
   "execution_count": 33,
   "metadata": {},
   "outputs": [],
   "source": [
    "all_predicted_norm = (all_predicted_ratings - all_predicted_ratings.min()) / (all_predicted_ratings.max() - all_predicted_ratings.min())"
   ]
  },
  {
   "cell_type": "code",
   "execution_count": 34,
   "metadata": {},
   "outputs": [
    {
     "output_type": "execute_result",
     "data": {
      "text/plain": "                        0         1         2         3         4         5  \\\nClicked_Article                                                               \n1                0.002003  0.066163  0.001946  0.001929  0.001964  0.003924   \n2                0.017211  0.147088  0.011882  0.013097  0.016491  0.014215   \n3                0.040015  0.459106  0.044083  0.045017  0.068209  0.037849   \n4                0.052783  0.435620  0.057812  0.044613  0.085262  0.049740   \n5                0.048532  0.449419  0.054517  0.041418  0.084962  0.037688   \n6                0.001732  0.009334  0.001785  0.001791  0.001917  0.001824   \n7                0.053266  0.348325  0.043346  0.048334  0.059754  0.051503   \n8                0.036784  0.382116  0.050360  0.044092  0.079138  0.034513   \n9                0.099570  0.744129  0.082128  0.067881  0.118039  0.082485   \n10               0.033642  0.227032  0.032265  0.033032  0.048471  0.027457   \n\n                        6         7         8         9  \nClicked_Article                                          \n1                0.001978  0.001570  0.002707  0.002658  \n2                0.008212  0.016921  0.016470  0.011369  \n3                0.024035  0.044642  0.024806  0.052835  \n4                0.033646  0.050446  0.042994  0.076264  \n5                0.026240  0.062338  0.045521  0.051674  \n6                0.001660  0.001907  0.001799  0.001646  \n7                0.032110  0.037294  0.033900  0.069241  \n8                0.025232  0.044821  0.020496  0.061447  \n9                0.050657  0.094982  0.097390  0.092899  \n10               0.018918  0.034934  0.023023  0.037840  ",
      "text/html": "<div>\n<style scoped>\n    .dataframe tbody tr th:only-of-type {\n        vertical-align: middle;\n    }\n\n    .dataframe tbody tr th {\n        vertical-align: top;\n    }\n\n    .dataframe thead th {\n        text-align: right;\n    }\n</style>\n<table border=\"1\" class=\"dataframe\">\n  <thead>\n    <tr style=\"text-align: right;\">\n      <th></th>\n      <th>0</th>\n      <th>1</th>\n      <th>2</th>\n      <th>3</th>\n      <th>4</th>\n      <th>5</th>\n      <th>6</th>\n      <th>7</th>\n      <th>8</th>\n      <th>9</th>\n    </tr>\n    <tr>\n      <th>Clicked_Article</th>\n      <th></th>\n      <th></th>\n      <th></th>\n      <th></th>\n      <th></th>\n      <th></th>\n      <th></th>\n      <th></th>\n      <th></th>\n      <th></th>\n    </tr>\n  </thead>\n  <tbody>\n    <tr>\n      <td>1</td>\n      <td>0.002003</td>\n      <td>0.066163</td>\n      <td>0.001946</td>\n      <td>0.001929</td>\n      <td>0.001964</td>\n      <td>0.003924</td>\n      <td>0.001978</td>\n      <td>0.001570</td>\n      <td>0.002707</td>\n      <td>0.002658</td>\n    </tr>\n    <tr>\n      <td>2</td>\n      <td>0.017211</td>\n      <td>0.147088</td>\n      <td>0.011882</td>\n      <td>0.013097</td>\n      <td>0.016491</td>\n      <td>0.014215</td>\n      <td>0.008212</td>\n      <td>0.016921</td>\n      <td>0.016470</td>\n      <td>0.011369</td>\n    </tr>\n    <tr>\n      <td>3</td>\n      <td>0.040015</td>\n      <td>0.459106</td>\n      <td>0.044083</td>\n      <td>0.045017</td>\n      <td>0.068209</td>\n      <td>0.037849</td>\n      <td>0.024035</td>\n      <td>0.044642</td>\n      <td>0.024806</td>\n      <td>0.052835</td>\n    </tr>\n    <tr>\n      <td>4</td>\n      <td>0.052783</td>\n      <td>0.435620</td>\n      <td>0.057812</td>\n      <td>0.044613</td>\n      <td>0.085262</td>\n      <td>0.049740</td>\n      <td>0.033646</td>\n      <td>0.050446</td>\n      <td>0.042994</td>\n      <td>0.076264</td>\n    </tr>\n    <tr>\n      <td>5</td>\n      <td>0.048532</td>\n      <td>0.449419</td>\n      <td>0.054517</td>\n      <td>0.041418</td>\n      <td>0.084962</td>\n      <td>0.037688</td>\n      <td>0.026240</td>\n      <td>0.062338</td>\n      <td>0.045521</td>\n      <td>0.051674</td>\n    </tr>\n    <tr>\n      <td>6</td>\n      <td>0.001732</td>\n      <td>0.009334</td>\n      <td>0.001785</td>\n      <td>0.001791</td>\n      <td>0.001917</td>\n      <td>0.001824</td>\n      <td>0.001660</td>\n      <td>0.001907</td>\n      <td>0.001799</td>\n      <td>0.001646</td>\n    </tr>\n    <tr>\n      <td>7</td>\n      <td>0.053266</td>\n      <td>0.348325</td>\n      <td>0.043346</td>\n      <td>0.048334</td>\n      <td>0.059754</td>\n      <td>0.051503</td>\n      <td>0.032110</td>\n      <td>0.037294</td>\n      <td>0.033900</td>\n      <td>0.069241</td>\n    </tr>\n    <tr>\n      <td>8</td>\n      <td>0.036784</td>\n      <td>0.382116</td>\n      <td>0.050360</td>\n      <td>0.044092</td>\n      <td>0.079138</td>\n      <td>0.034513</td>\n      <td>0.025232</td>\n      <td>0.044821</td>\n      <td>0.020496</td>\n      <td>0.061447</td>\n    </tr>\n    <tr>\n      <td>9</td>\n      <td>0.099570</td>\n      <td>0.744129</td>\n      <td>0.082128</td>\n      <td>0.067881</td>\n      <td>0.118039</td>\n      <td>0.082485</td>\n      <td>0.050657</td>\n      <td>0.094982</td>\n      <td>0.097390</td>\n      <td>0.092899</td>\n    </tr>\n    <tr>\n      <td>10</td>\n      <td>0.033642</td>\n      <td>0.227032</td>\n      <td>0.032265</td>\n      <td>0.033032</td>\n      <td>0.048471</td>\n      <td>0.027457</td>\n      <td>0.018918</td>\n      <td>0.034934</td>\n      <td>0.023023</td>\n      <td>0.037840</td>\n    </tr>\n  </tbody>\n</table>\n</div>"
     },
     "metadata": {},
     "execution_count": 34
    }
   ],
   "source": [
    "cf_preds_df = pd.DataFrame(all_predicted_norm, columns = pivot_table.columns, index=clusters).transpose()\n",
    "cf_preds_df.head(10)"
   ]
  },
  {
   "cell_type": "code",
   "execution_count": 35,
   "metadata": {},
   "outputs": [
    {
     "output_type": "execute_result",
     "data": {
      "text/plain": "(652, 10)"
     },
     "metadata": {},
     "execution_count": 35
    }
   ],
   "source": [
    "matrix = np.asarray(cf_preds_df.values,dtype='float')\n",
    "matrix.shape # shape (items, clusters)"
   ]
  },
  {
   "cell_type": "markdown",
   "metadata": {},
   "source": [
    "### Saving Artifacts\n",
    "\n",
    "In order to pass our basic elements (matrix, index_map, clustering algorithm) to the model, we use BentoML. Thus, our recommender will load those in order to make its recommendations.\n",
    "\n",
    "The `pack()` function takes care of saving what we need."
   ]
  },
  {
   "cell_type": "code",
   "execution_count": 36,
   "metadata": {},
   "outputs": [],
   "source": [
    "model = ClusteredMatrixFactRecommender()"
   ]
  },
  {
   "cell_type": "code",
   "execution_count": 37,
   "metadata": {},
   "outputs": [
    {
     "output_type": "execute_result",
     "data": {
      "text/plain": "<matrix_fact.ClusteredMatrixFactRecommender at 0x7f0a92d6a208>"
     },
     "metadata": {},
     "execution_count": 37
    }
   ],
   "source": [
    "model.pack(\"index_map\", index_map)"
   ]
  },
  {
   "cell_type": "code",
   "execution_count": 38,
   "metadata": {},
   "outputs": [
    {
     "output_type": "execute_result",
     "data": {
      "text/plain": "<matrix_fact.ClusteredMatrixFactRecommender at 0x7f0a92d6a208>"
     },
     "metadata": {},
     "execution_count": 38
    }
   ],
   "source": [
    "model.pack(\"cluster_path\", kmeans)"
   ]
  },
  {
   "cell_type": "code",
   "execution_count": 39,
   "metadata": {},
   "outputs": [
    {
     "output_type": "execute_result",
     "data": {
      "text/plain": "<matrix_fact.ClusteredMatrixFactRecommender at 0x7f0a92d6a208>"
     },
     "metadata": {},
     "execution_count": 39
    }
   ],
   "source": [
    "model.pack(\"matrix\", matrix)"
   ]
  },
  {
   "cell_type": "markdown",
   "metadata": {},
   "source": [
    "After packing what our recommender will need, we can test it with a small sample"
   ]
  },
  {
   "cell_type": "code",
   "execution_count": 40,
   "metadata": {},
   "outputs": [],
   "source": [
    "test_articles = [565648, 563115, 552077, 564335, 565589, 563938, 560290, 563643, 560620, 565822, 563787, 555528, 565364, 559855, 560518]"
   ]
  },
  {
   "cell_type": "code",
   "execution_count": 49,
   "metadata": {},
   "outputs": [
    {
     "output_type": "execute_result",
     "data": {
      "text/plain": "array([1, 0, 0, 0, 0, 0, 1, 0, 0, 0, 1, 0, 1, 1, 1, 1, 1, 1, 0, 1, 1, 1,\n       1, 0, 0, 0, 1, 0, 0, 0, 0, 1, 0, 0, 0, 0, 0, 0, 0, 0, 0, 0, 0, 0,\n       0, 0, 1, 0, 0, 1, 0, 0, 0, 0, 0, 0, 1, 0, 0, 0, 0, 0, 0, 0, 0, 0,\n       0, 0, 0, 0, 0, 0, 0, 0, 0, 0, 0, 0, 0, 0, 0, 0, 0, 0, 0, 0, 0, 0,\n       0, 0, 0, 0, 0, 0, 0, 0, 0, 0, 0, 0, 0, 0, 0, 0, 0, 0, 0, 0, 0, 0,\n       0, 0, 0, 0, 0, 0, 0, 0, 0, 0, 0, 0, 0, 0, 0, 0, 0, 0, 0, 0, 0, 0,\n       0, 0, 0, 0])"
     },
     "metadata": {},
     "execution_count": 49
    }
   ],
   "source": [
    "sample_features[0]"
   ]
  },
  {
   "cell_type": "markdown",
   "metadata": {},
   "source": [
    "In this test, we will take the first set of features sampled randomly for the clustering tests `sample_features[0]`"
   ]
  },
  {
   "cell_type": "code",
   "execution_count": 41,
   "metadata": {},
   "outputs": [
    {
     "output_type": "execute_result",
     "data": {
      "text/plain": "[565822,\n 563643,\n 563115,\n 565589,\n 565648,\n 559855,\n 560290,\n 555528,\n 564335,\n 560518,\n 565364,\n 552077,\n 563787,\n 563938,\n 560620]"
     },
     "metadata": {},
     "execution_count": 41
    }
   ],
   "source": [
    "model.rank({'Timestamp': 123456789, 'Clicked_Article': 565822, 'Click': 1, 'User_Features': sample_features[0], 'Article_List': np.asarray(test_articles)})"
   ]
  },
  {
   "cell_type": "markdown",
   "metadata": {},
   "source": [
    "In order to check wether the recommendation is correct, we can do it ourselves\n",
    "\n",
    "First, we get the cluster for our features"
   ]
  },
  {
   "cell_type": "code",
   "execution_count": 42,
   "metadata": {},
   "outputs": [
    {
     "output_type": "execute_result",
     "data": {
      "text/plain": "7"
     },
     "metadata": {},
     "execution_count": 42
    }
   ],
   "source": [
    "test_cluster = kmeans.predict([sample_features[0]])[0]\n",
    "test_cluster"
   ]
  },
  {
   "cell_type": "markdown",
   "metadata": {},
   "source": [
    "Then acquiring the indexes for the item list"
   ]
  },
  {
   "cell_type": "code",
   "execution_count": 43,
   "metadata": {},
   "outputs": [
    {
     "output_type": "execute_result",
     "data": {
      "text/plain": "[10, 4, 25, 2, 8, 1, 14, 9, 24, 19, 6, 21, 13, 23, 11]"
     },
     "metadata": {},
     "execution_count": 43
    }
   ],
   "source": [
    "indexes = [index_map[art] for art in test_articles]\n",
    "indexes"
   ]
  },
  {
   "cell_type": "markdown",
   "metadata": {},
   "source": [
    "With the indexes and the cluster, we can get the scores for each item.\n",
    "\n",
    "Here, we subtract 1 from `idx` because the index 0 is is only used for items not found in the map; thus the matrix index 0 corresponds to the mapped index 1."
   ]
  },
  {
   "cell_type": "code",
   "execution_count": 44,
   "metadata": {},
   "outputs": [
    {
     "output_type": "execute_result",
     "data": {
      "text/plain": "[0.03493439180374096,\n 0.05044619287345377,\n 0.002669978503223864,\n 0.01692149248459763,\n 0.04482099128216789,\n 0.0015698378424824479,\n 0.02973536382094232,\n 0.09498165372155451,\n 0.0012883653835528376,\n 0.09883936018090379,\n 0.0019067136452041627,\n 0.02822560464822843,\n 0.003096438434984018,\n 0.034430103978424206,\n 0.016880185280996884]"
     },
     "metadata": {},
     "execution_count": 44
    }
   ],
   "source": [
    "scores = [matrix[idx-1, test_cluster] for idx in indexes] \n",
    "scores"
   ]
  },
  {
   "cell_type": "markdown",
   "metadata": {},
   "source": [
    "Finally we can sort the items by their scores"
   ]
  },
  {
   "cell_type": "code",
   "execution_count": 45,
   "metadata": {},
   "outputs": [
    {
     "output_type": "execute_result",
     "data": {
      "text/plain": "[(0.09883936018090379, 565822),\n (0.09498165372155451, 563643),\n (0.05044619287345377, 563115),\n (0.04482099128216789, 565589),\n (0.03493439180374096, 565648),\n (0.034430103978424206, 559855),\n (0.02973536382094232, 560290),\n (0.02822560464822843, 555528),\n (0.01692149248459763, 564335),\n (0.016880185280996884, 560518),\n (0.003096438434984018, 565364),\n (0.002669978503223864, 552077),\n (0.0019067136452041627, 563787),\n (0.0015698378424824479, 563938),\n (0.0012883653835528376, 560620)]"
     },
     "metadata": {},
     "execution_count": 45
    }
   ],
   "source": [
    "sorted(zip(scores, test_articles),reverse=True)"
   ]
  },
  {
   "cell_type": "code",
   "execution_count": 46,
   "metadata": {
    "tags": []
   },
   "outputs": [
    {
     "output_type": "stream",
     "name": "stdout",
     "text": "[2020-07-06 15:03:09,684] INFO - BentoService bundle 'ClusteredMatrixFactRecommender:1.0.20200706150251_E32098' saved to: /home/marlesson/bentoml/repository/ClusteredMatrixFactRecommender/1.0.20200706150251_E32098\n"
    },
    {
     "output_type": "execute_result",
     "data": {
      "text/plain": "'/home/marlesson/bentoml/repository/ClusteredMatrixFactRecommender/1.0.20200706150251_E32098'"
     },
     "metadata": {},
     "execution_count": 46
    }
   ],
   "source": [
    "model.save()"
   ]
  },
  {
   "cell_type": "code",
   "execution_count": null,
   "metadata": {},
   "outputs": [],
   "source": []
  }
 ],
 "metadata": {
  "kernelspec": {
   "display_name": "Python 3.7.3 64-bit ('base': conda)",
   "language": "python",
   "name": "python37364bitbaseconda71fa0390d2e947479e80d6476a063090"
  },
  "language_info": {
   "codemirror_mode": {
    "name": "ipython",
    "version": 3
   },
   "file_extension": ".py",
   "mimetype": "text/x-python",
   "name": "python",
   "nbconvert_exporter": "python",
   "pygments_lexer": "ipython3",
   "version": "3.7.3-final"
  }
 },
 "nbformat": 4,
 "nbformat_minor": 4
}