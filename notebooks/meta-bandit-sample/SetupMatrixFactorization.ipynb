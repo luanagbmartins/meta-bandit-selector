{
 "cells": [
  {
   "cell_type": "markdown",
   "metadata": {},
   "source": [
    "# Matrix Factorization\n",
    "\n",
    "The Matrix Factorization will require basically:\n",
    "\n",
    "* An **Index Map** to map an item_id into an index (e.g. 1, 2, 7, 45, etc.)\n",
    "* A **Matrix** with the predictions for items not yet visited\n",
    "\n",
    "Usually, in order to create the matrix for this recommender we would need the user_id or some equivalent information, so the matrix could be `users x items`. However, as you may have noticed from the dataset iteractions, the user_id is not available, but we do have an array of user features.\n",
    "\n",
    "To address this, we decided to use *clustering*. We create clusters from the users' features and use those for the matrix, making it `clusters x items`. This will add another element we'll need for recommending:\n",
    "\n",
    "* A **Clustering Algorithm** to map new user features to clusters\n",
    "\n",
    "In this notebook we will setup these elements. However, the actual recommendation happens in `matrix_fact.py` that will answer to the BentoML api when requested."
   ]
  },
  {
   "cell_type": "markdown",
   "metadata": {},
   "source": [
    "### Importing Libraries"
   ]
  },
  {
   "cell_type": "code",
   "execution_count": 1,
   "metadata": {},
   "outputs": [],
   "source": [
    "import random\n",
    "import pandas as pd\n",
    "import numpy as np\n",
    "\n",
    "from sklearn.cluster import KMeans\n",
    "from scipy.sparse import csr_matrix\n",
    "from scipy.sparse.linalg import svds\n",
    "\n",
    "from preprocessing import preprocess\n",
    "from matrix_fact import ClusteredMatrixFactRecommender"
   ]
  },
  {
   "cell_type": "markdown",
   "metadata": {},
   "source": [
    "### Acquire preprocessed Data"
   ]
  },
  {
   "cell_type": "code",
   "execution_count": 2,
   "metadata": {},
   "outputs": [],
   "source": [
    "df = preprocess(\"Sample\")"
   ]
  },
  {
   "cell_type": "code",
   "execution_count": 3,
   "metadata": {},
   "outputs": [
    {
     "data": {
      "text/html": [
       "<div>\n",
       "<style scoped>\n",
       "    .dataframe tbody tr th:only-of-type {\n",
       "        vertical-align: middle;\n",
       "    }\n",
       "\n",
       "    .dataframe tbody tr th {\n",
       "        vertical-align: top;\n",
       "    }\n",
       "\n",
       "    .dataframe thead th {\n",
       "        text-align: right;\n",
       "    }\n",
       "</style>\n",
       "<table border=\"1\" class=\"dataframe\">\n",
       "  <thead>\n",
       "    <tr style=\"text-align: right;\">\n",
       "      <th></th>\n",
       "      <th>Timestamp</th>\n",
       "      <th>Clicked_Article</th>\n",
       "      <th>Click</th>\n",
       "      <th>User_Features</th>\n",
       "      <th>Article_List</th>\n",
       "    </tr>\n",
       "  </thead>\n",
       "  <tbody>\n",
       "    <tr>\n",
       "      <td>0</td>\n",
       "      <td>1317513291</td>\n",
       "      <td>560620</td>\n",
       "      <td>0</td>\n",
       "      <td>[True, False, False, False, False, False, Fals...</td>\n",
       "      <td>[552077, 555224, 555528, 559744, 559855, 56029...</td>\n",
       "    </tr>\n",
       "    <tr>\n",
       "      <td>1</td>\n",
       "      <td>1317513291</td>\n",
       "      <td>565648</td>\n",
       "      <td>0</td>\n",
       "      <td>[True, False, False, False, False, False, Fals...</td>\n",
       "      <td>[552077, 555224, 555528, 559744, 559855, 56029...</td>\n",
       "    </tr>\n",
       "    <tr>\n",
       "      <td>2</td>\n",
       "      <td>1317513291</td>\n",
       "      <td>563115</td>\n",
       "      <td>0</td>\n",
       "      <td>[True, False, False, False, False, False, Fals...</td>\n",
       "      <td>[552077, 555224, 555528, 559744, 559855, 56029...</td>\n",
       "    </tr>\n",
       "    <tr>\n",
       "      <td>3</td>\n",
       "      <td>1317513292</td>\n",
       "      <td>552077</td>\n",
       "      <td>0</td>\n",
       "      <td>[True, False, False, False, False, False, True...</td>\n",
       "      <td>[552077, 555224, 555528, 559744, 559855, 56029...</td>\n",
       "    </tr>\n",
       "    <tr>\n",
       "      <td>4</td>\n",
       "      <td>1317513292</td>\n",
       "      <td>564335</td>\n",
       "      <td>0</td>\n",
       "      <td>[True, False, False, False, False, False, Fals...</td>\n",
       "      <td>[552077, 555224, 555528, 559744, 559855, 56029...</td>\n",
       "    </tr>\n",
       "    <tr>\n",
       "      <td>5</td>\n",
       "      <td>1317513292</td>\n",
       "      <td>565589</td>\n",
       "      <td>0</td>\n",
       "      <td>[True, False, False, False, True, False, False...</td>\n",
       "      <td>[552077, 555224, 555528, 559744, 559855, 56029...</td>\n",
       "    </tr>\n",
       "  </tbody>\n",
       "</table>\n",
       "</div>"
      ],
      "text/plain": [
       "    Timestamp Clicked_Article Click  \\\n",
       "0  1317513291          560620     0   \n",
       "1  1317513291          565648     0   \n",
       "2  1317513291          563115     0   \n",
       "3  1317513292          552077     0   \n",
       "4  1317513292          564335     0   \n",
       "5  1317513292          565589     0   \n",
       "\n",
       "                                       User_Features  \\\n",
       "0  [True, False, False, False, False, False, Fals...   \n",
       "1  [True, False, False, False, False, False, Fals...   \n",
       "2  [True, False, False, False, False, False, Fals...   \n",
       "3  [True, False, False, False, False, False, True...   \n",
       "4  [True, False, False, False, False, False, Fals...   \n",
       "5  [True, False, False, False, True, False, False...   \n",
       "\n",
       "                                        Article_List  \n",
       "0  [552077, 555224, 555528, 559744, 559855, 56029...  \n",
       "1  [552077, 555224, 555528, 559744, 559855, 56029...  \n",
       "2  [552077, 555224, 555528, 559744, 559855, 56029...  \n",
       "3  [552077, 555224, 555528, 559744, 559855, 56029...  \n",
       "4  [552077, 555224, 555528, 559744, 559855, 56029...  \n",
       "5  [552077, 555224, 555528, 559744, 559855, 56029...  "
      ]
     },
     "execution_count": 3,
     "metadata": {},
     "output_type": "execute_result"
    }
   ],
   "source": [
    "df.head(6)"
   ]
  },
  {
   "cell_type": "markdown",
   "metadata": {},
   "source": [
    "## Clustering\n",
    "\n",
    "For the cluster, we will need the users' features"
   ]
  },
  {
   "cell_type": "code",
   "execution_count": 4,
   "metadata": {},
   "outputs": [
    {
     "data": {
      "text/plain": [
       "(10447, 136)"
      ]
     },
     "execution_count": 4,
     "metadata": {},
     "output_type": "execute_result"
    }
   ],
   "source": [
    "users = np.asarray(df.loc[:,'User_Features']) # acquire only the features\n",
    "users = np.stack(users, axis=0) # stack them to make an array (iteractions, features)\n",
    "users.shape"
   ]
  },
  {
   "cell_type": "markdown",
   "metadata": {},
   "source": [
    "Now we can intialize the clustering algorithm, decide how many clusters we want and compute"
   ]
  },
  {
   "cell_type": "code",
   "execution_count": 5,
   "metadata": {},
   "outputs": [
    {
     "data": {
      "text/plain": [
       "KMeans(algorithm='auto', copy_x=True, init='k-means++', max_iter=300,\n",
       "       n_clusters=20, n_init=10, n_jobs=None, precompute_distances='auto',\n",
       "       random_state=None, tol=0.0001, verbose=0)"
      ]
     },
     "execution_count": 5,
     "metadata": {},
     "output_type": "execute_result"
    }
   ],
   "source": [
    "kmeans = KMeans(n_clusters=20)\n",
    "kmeans.fit(users)"
   ]
  },
  {
   "cell_type": "markdown",
   "metadata": {},
   "source": [
    "We can get some random samples and take a look into the clustering process"
   ]
  },
  {
   "cell_type": "code",
   "execution_count": 6,
   "metadata": {},
   "outputs": [
    {
     "data": {
      "text/plain": [
       "9424    [True, False, False, False, False, False, Fals...\n",
       "9875    [True, False, False, False, False, False, Fals...\n",
       "5896    [True, False, False, False, False, False, Fals...\n",
       "9918    [True, False, False, False, False, False, Fals...\n",
       "62      [True, False, False, False, False, False, Fals...\n",
       "Name: User_Features, dtype: object"
      ]
     },
     "execution_count": 6,
     "metadata": {},
     "output_type": "execute_result"
    }
   ],
   "source": [
    "samples = df.sample(5).loc[:,'User_Features']\n",
    "samples"
   ]
  },
  {
   "cell_type": "markdown",
   "metadata": {},
   "source": [
    "Stack the features again to make an array `(samples, features)`"
   ]
  },
  {
   "cell_type": "code",
   "execution_count": 7,
   "metadata": {},
   "outputs": [
    {
     "data": {
      "text/plain": [
       "(5, 136)"
      ]
     },
     "execution_count": 7,
     "metadata": {},
     "output_type": "execute_result"
    }
   ],
   "source": [
    "sample_features = np.stack(samples,axis=0)\n",
    "sample_features.shape"
   ]
  },
  {
   "cell_type": "markdown",
   "metadata": {},
   "source": [
    "Predict their clusters"
   ]
  },
  {
   "cell_type": "code",
   "execution_count": 8,
   "metadata": {},
   "outputs": [
    {
     "data": {
      "text/plain": [
       "array([1, 1, 1, 1, 6], dtype=int32)"
      ]
     },
     "execution_count": 8,
     "metadata": {},
     "output_type": "execute_result"
    }
   ],
   "source": [
    "kmeans.predict(sample_features)"
   ]
  },
  {
   "cell_type": "markdown",
   "metadata": {},
   "source": [
    "If you wish to check wether the predicted clusters are the same as the previously assigned clusters just run:"
   ]
  },
  {
   "cell_type": "code",
   "execution_count": 9,
   "metadata": {},
   "outputs": [
    {
     "data": {
      "text/plain": [
       "array([1, 1, 1, 1, 6], dtype=int32)"
      ]
     },
     "execution_count": 9,
     "metadata": {},
     "output_type": "execute_result"
    }
   ],
   "source": [
    "kmeans.labels_[samples.index]"
   ]
  },
  {
   "cell_type": "markdown",
   "metadata": {},
   "source": [
    "Now, we can look at the features to see what similarities and differences they share"
   ]
  },
  {
   "cell_type": "code",
   "execution_count": 10,
   "metadata": {
    "scrolled": true
   },
   "outputs": [
    {
     "data": {
      "text/plain": [
       "array([[ True, False, False, False, False, False, False, False, False,\n",
       "        False, False, False, False, False, False, False, False, False,\n",
       "        False, False, False, False, False, False, False, False, False,\n",
       "        False, False, False, False, False, False, False, False, False,\n",
       "        False, False, False, False, False, False, False, False, False,\n",
       "        False, False, False, False, False, False, False, False, False,\n",
       "        False, False, False, False, False, False, False, False, False,\n",
       "        False, False, False, False, False, False, False, False, False,\n",
       "        False, False, False, False, False, False, False, False, False,\n",
       "        False, False, False, False, False, False, False, False, False,\n",
       "        False, False, False, False, False, False, False, False, False,\n",
       "        False, False, False, False, False, False, False, False, False,\n",
       "        False, False, False, False, False, False, False, False, False,\n",
       "        False, False, False, False, False, False, False, False, False,\n",
       "        False, False, False, False, False, False, False, False, False,\n",
       "        False],\n",
       "       [ True, False, False, False, False, False, False, False, False,\n",
       "        False, False, False, False, False, False, False, False, False,\n",
       "        False, False, False, False, False, False, False, False, False,\n",
       "        False, False, False, False, False, False, False, False, False,\n",
       "        False, False, False, False, False, False, False, False, False,\n",
       "        False, False, False, False, False, False, False, False, False,\n",
       "        False, False, False, False, False, False, False, False, False,\n",
       "        False, False, False, False, False, False, False, False, False,\n",
       "        False, False, False, False, False, False, False, False, False,\n",
       "        False, False, False, False, False, False, False, False, False,\n",
       "        False, False, False, False, False, False, False, False, False,\n",
       "        False, False, False, False, False, False, False, False, False,\n",
       "        False, False, False, False, False, False, False, False, False,\n",
       "        False, False, False, False, False, False, False, False, False,\n",
       "        False, False, False, False, False, False, False, False, False,\n",
       "        False],\n",
       "       [ True, False, False, False, False, False, False, False, False,\n",
       "        False, False, False, False, False, False, False, False, False,\n",
       "        False, False, False, False, False, False, False, False, False,\n",
       "        False, False, False, False, False, False, False, False, False,\n",
       "        False, False, False, False, False, False, False, False, False,\n",
       "        False, False, False, False, False, False, False, False, False,\n",
       "        False, False, False, False, False, False, False, False, False,\n",
       "        False, False, False, False, False, False, False, False, False,\n",
       "        False, False, False, False, False, False, False, False, False,\n",
       "        False, False, False, False, False, False, False, False, False,\n",
       "        False, False, False, False, False, False, False, False, False,\n",
       "        False, False, False, False, False, False, False, False, False,\n",
       "        False, False, False, False, False, False, False, False, False,\n",
       "        False, False, False, False, False, False, False, False, False,\n",
       "        False, False, False, False, False, False, False, False, False,\n",
       "        False],\n",
       "       [ True, False, False, False, False, False, False, False, False,\n",
       "        False, False, False, False, False, False, False, False, False,\n",
       "        False, False, False, False, False, False, False, False, False,\n",
       "        False, False, False, False, False, False, False, False, False,\n",
       "        False, False, False, False, False, False, False, False, False,\n",
       "        False, False, False, False, False, False, False, False, False,\n",
       "        False, False, False, False, False, False, False, False, False,\n",
       "        False, False, False, False, False, False, False, False, False,\n",
       "        False, False, False, False, False, False, False, False, False,\n",
       "        False, False, False, False, False, False, False, False, False,\n",
       "        False, False, False, False, False, False, False, False, False,\n",
       "        False, False, False, False, False, False, False, False, False,\n",
       "        False, False, False, False, False, False, False, False, False,\n",
       "        False, False, False, False, False, False, False, False, False,\n",
       "        False, False, False, False, False, False, False, False, False,\n",
       "        False],\n",
       "       [ True, False, False, False, False, False, False, False, False,\n",
       "        False, False, False,  True,  True,  True,  True,  True,  True,\n",
       "         True, False,  True,  True,  True,  True,  True,  True, False,\n",
       "        False,  True,  True, False, False, False, False,  True, False,\n",
       "        False, False, False,  True, False, False, False, False, False,\n",
       "        False, False, False, False, False, False, False, False, False,\n",
       "        False, False, False, False, False, False, False, False, False,\n",
       "         True, False, False, False, False, False, False, False, False,\n",
       "        False, False, False, False, False, False, False, False, False,\n",
       "        False, False, False, False, False, False, False, False, False,\n",
       "        False, False, False, False, False, False, False, False, False,\n",
       "        False, False, False, False, False, False, False, False, False,\n",
       "        False, False, False, False, False, False, False, False, False,\n",
       "        False, False, False, False, False, False, False, False, False,\n",
       "        False, False, False, False, False, False, False, False, False,\n",
       "        False]])"
      ]
     },
     "execution_count": 10,
     "metadata": {},
     "output_type": "execute_result"
    }
   ],
   "source": [
    "sample_features"
   ]
  },
  {
   "cell_type": "markdown",
   "metadata": {},
   "source": [
    "## Index Map\n",
    "\n",
    "First, we get all articles in a list"
   ]
  },
  {
   "cell_type": "code",
   "execution_count": 11,
   "metadata": {},
   "outputs": [],
   "source": [
    "articles = df['Clicked_Article'].unique()"
   ]
  },
  {
   "cell_type": "markdown",
   "metadata": {},
   "source": [
    "Then, we iterate over them creating a dictionary for the index map."
   ]
  },
  {
   "cell_type": "code",
   "execution_count": 12,
   "metadata": {},
   "outputs": [],
   "source": [
    "index_map = {}\n",
    "idx = 1 # idx starts at 1 so that 0 is used for when the article is not found in the index map\n",
    "for art in articles:\n",
    "    index_map[art] = idx\n",
    "    idx+=1\n",
    "# index_map"
   ]
  },
  {
   "cell_type": "markdown",
   "metadata": {},
   "source": [
    "## Matrix\n",
    "\n",
    "Since our matrix will use indexes instead of the item_id we can replace them in the dataset"
   ]
  },
  {
   "cell_type": "code",
   "execution_count": 13,
   "metadata": {},
   "outputs": [
    {
     "data": {
      "text/html": [
       "<div>\n",
       "<style scoped>\n",
       "    .dataframe tbody tr th:only-of-type {\n",
       "        vertical-align: middle;\n",
       "    }\n",
       "\n",
       "    .dataframe tbody tr th {\n",
       "        vertical-align: top;\n",
       "    }\n",
       "\n",
       "    .dataframe thead th {\n",
       "        text-align: right;\n",
       "    }\n",
       "</style>\n",
       "<table border=\"1\" class=\"dataframe\">\n",
       "  <thead>\n",
       "    <tr style=\"text-align: right;\">\n",
       "      <th></th>\n",
       "      <th>Timestamp</th>\n",
       "      <th>Clicked_Article</th>\n",
       "      <th>Click</th>\n",
       "      <th>User_Features</th>\n",
       "      <th>Article_List</th>\n",
       "    </tr>\n",
       "  </thead>\n",
       "  <tbody>\n",
       "    <tr>\n",
       "      <td>0</td>\n",
       "      <td>1317513291</td>\n",
       "      <td>1</td>\n",
       "      <td>0</td>\n",
       "      <td>[True, False, False, False, False, False, Fals...</td>\n",
       "      <td>[552077, 555224, 555528, 559744, 559855, 56029...</td>\n",
       "    </tr>\n",
       "    <tr>\n",
       "      <td>1</td>\n",
       "      <td>1317513291</td>\n",
       "      <td>2</td>\n",
       "      <td>0</td>\n",
       "      <td>[True, False, False, False, False, False, Fals...</td>\n",
       "      <td>[552077, 555224, 555528, 559744, 559855, 56029...</td>\n",
       "    </tr>\n",
       "    <tr>\n",
       "      <td>2</td>\n",
       "      <td>1317513291</td>\n",
       "      <td>3</td>\n",
       "      <td>0</td>\n",
       "      <td>[True, False, False, False, False, False, Fals...</td>\n",
       "      <td>[552077, 555224, 555528, 559744, 559855, 56029...</td>\n",
       "    </tr>\n",
       "    <tr>\n",
       "      <td>3</td>\n",
       "      <td>1317513292</td>\n",
       "      <td>4</td>\n",
       "      <td>0</td>\n",
       "      <td>[True, False, False, False, False, False, True...</td>\n",
       "      <td>[552077, 555224, 555528, 559744, 559855, 56029...</td>\n",
       "    </tr>\n",
       "    <tr>\n",
       "      <td>4</td>\n",
       "      <td>1317513292</td>\n",
       "      <td>5</td>\n",
       "      <td>0</td>\n",
       "      <td>[True, False, False, False, False, False, Fals...</td>\n",
       "      <td>[552077, 555224, 555528, 559744, 559855, 56029...</td>\n",
       "    </tr>\n",
       "  </tbody>\n",
       "</table>\n",
       "</div>"
      ],
      "text/plain": [
       "    Timestamp  Clicked_Article Click  \\\n",
       "0  1317513291                1     0   \n",
       "1  1317513291                2     0   \n",
       "2  1317513291                3     0   \n",
       "3  1317513292                4     0   \n",
       "4  1317513292                5     0   \n",
       "\n",
       "                                       User_Features  \\\n",
       "0  [True, False, False, False, False, False, Fals...   \n",
       "1  [True, False, False, False, False, False, Fals...   \n",
       "2  [True, False, False, False, False, False, Fals...   \n",
       "3  [True, False, False, False, False, False, True...   \n",
       "4  [True, False, False, False, False, False, Fals...   \n",
       "\n",
       "                                        Article_List  \n",
       "0  [552077, 555224, 555528, 559744, 559855, 56029...  \n",
       "1  [552077, 555224, 555528, 559744, 559855, 56029...  \n",
       "2  [552077, 555224, 555528, 559744, 559855, 56029...  \n",
       "3  [552077, 555224, 555528, 559744, 559855, 56029...  \n",
       "4  [552077, 555224, 555528, 559744, 559855, 56029...  "
      ]
     },
     "execution_count": 13,
     "metadata": {},
     "output_type": "execute_result"
    }
   ],
   "source": [
    "df['Clicked_Article'].replace(index_map, inplace=True)\n",
    "df.head(5)"
   ]
  },
  {
   "cell_type": "markdown",
   "metadata": {},
   "source": [
    "Also, since our clusters will be the other dimension in the matrix, we'll add them to the dataset. \n",
    "All this will make the matrix creation process more straightforward"
   ]
  },
  {
   "cell_type": "code",
   "execution_count": 14,
   "metadata": {},
   "outputs": [
    {
     "data": {
      "text/html": [
       "<div>\n",
       "<style scoped>\n",
       "    .dataframe tbody tr th:only-of-type {\n",
       "        vertical-align: middle;\n",
       "    }\n",
       "\n",
       "    .dataframe tbody tr th {\n",
       "        vertical-align: top;\n",
       "    }\n",
       "\n",
       "    .dataframe thead th {\n",
       "        text-align: right;\n",
       "    }\n",
       "</style>\n",
       "<table border=\"1\" class=\"dataframe\">\n",
       "  <thead>\n",
       "    <tr style=\"text-align: right;\">\n",
       "      <th></th>\n",
       "      <th>Timestamp</th>\n",
       "      <th>Clicked_Article</th>\n",
       "      <th>Click</th>\n",
       "      <th>User_Features</th>\n",
       "      <th>Article_List</th>\n",
       "      <th>Cluster</th>\n",
       "    </tr>\n",
       "  </thead>\n",
       "  <tbody>\n",
       "    <tr>\n",
       "      <td>0</td>\n",
       "      <td>1317513291</td>\n",
       "      <td>1</td>\n",
       "      <td>0</td>\n",
       "      <td>[True, False, False, False, False, False, Fals...</td>\n",
       "      <td>[552077, 555224, 555528, 559744, 559855, 56029...</td>\n",
       "      <td>13</td>\n",
       "    </tr>\n",
       "    <tr>\n",
       "      <td>1</td>\n",
       "      <td>1317513291</td>\n",
       "      <td>2</td>\n",
       "      <td>0</td>\n",
       "      <td>[True, False, False, False, False, False, Fals...</td>\n",
       "      <td>[552077, 555224, 555528, 559744, 559855, 56029...</td>\n",
       "      <td>8</td>\n",
       "    </tr>\n",
       "    <tr>\n",
       "      <td>2</td>\n",
       "      <td>1317513291</td>\n",
       "      <td>3</td>\n",
       "      <td>0</td>\n",
       "      <td>[True, False, False, False, False, False, Fals...</td>\n",
       "      <td>[552077, 555224, 555528, 559744, 559855, 56029...</td>\n",
       "      <td>17</td>\n",
       "    </tr>\n",
       "    <tr>\n",
       "      <td>3</td>\n",
       "      <td>1317513292</td>\n",
       "      <td>4</td>\n",
       "      <td>0</td>\n",
       "      <td>[True, False, False, False, False, False, True...</td>\n",
       "      <td>[552077, 555224, 555528, 559744, 559855, 56029...</td>\n",
       "      <td>16</td>\n",
       "    </tr>\n",
       "    <tr>\n",
       "      <td>4</td>\n",
       "      <td>1317513292</td>\n",
       "      <td>5</td>\n",
       "      <td>0</td>\n",
       "      <td>[True, False, False, False, False, False, Fals...</td>\n",
       "      <td>[552077, 555224, 555528, 559744, 559855, 56029...</td>\n",
       "      <td>1</td>\n",
       "    </tr>\n",
       "  </tbody>\n",
       "</table>\n",
       "</div>"
      ],
      "text/plain": [
       "    Timestamp  Clicked_Article Click  \\\n",
       "0  1317513291                1     0   \n",
       "1  1317513291                2     0   \n",
       "2  1317513291                3     0   \n",
       "3  1317513292                4     0   \n",
       "4  1317513292                5     0   \n",
       "\n",
       "                                       User_Features  \\\n",
       "0  [True, False, False, False, False, False, Fals...   \n",
       "1  [True, False, False, False, False, False, Fals...   \n",
       "2  [True, False, False, False, False, False, Fals...   \n",
       "3  [True, False, False, False, False, False, True...   \n",
       "4  [True, False, False, False, False, False, Fals...   \n",
       "\n",
       "                                        Article_List  Cluster  \n",
       "0  [552077, 555224, 555528, 559744, 559855, 56029...       13  \n",
       "1  [552077, 555224, 555528, 559744, 559855, 56029...        8  \n",
       "2  [552077, 555224, 555528, 559744, 559855, 56029...       17  \n",
       "3  [552077, 555224, 555528, 559744, 559855, 56029...       16  \n",
       "4  [552077, 555224, 555528, 559744, 559855, 56029...        1  "
      ]
     },
     "execution_count": 14,
     "metadata": {},
     "output_type": "execute_result"
    }
   ],
   "source": [
    "df['Cluster'] = kmeans.labels_\n",
    "df.head(5)"
   ]
  },
  {
   "cell_type": "code",
   "execution_count": 15,
   "metadata": {},
   "outputs": [
    {
     "data": {
      "text/html": [
       "<div>\n",
       "<style scoped>\n",
       "    .dataframe tbody tr th:only-of-type {\n",
       "        vertical-align: middle;\n",
       "    }\n",
       "\n",
       "    .dataframe tbody tr th {\n",
       "        vertical-align: top;\n",
       "    }\n",
       "\n",
       "    .dataframe thead th {\n",
       "        text-align: right;\n",
       "    }\n",
       "</style>\n",
       "<table border=\"1\" class=\"dataframe\">\n",
       "  <thead>\n",
       "    <tr style=\"text-align: right;\">\n",
       "      <th>Clicked_Article</th>\n",
       "      <th>1</th>\n",
       "      <th>2</th>\n",
       "      <th>3</th>\n",
       "      <th>4</th>\n",
       "      <th>5</th>\n",
       "      <th>6</th>\n",
       "      <th>7</th>\n",
       "      <th>8</th>\n",
       "      <th>9</th>\n",
       "      <th>10</th>\n",
       "      <th>...</th>\n",
       "      <th>17</th>\n",
       "      <th>18</th>\n",
       "      <th>19</th>\n",
       "      <th>20</th>\n",
       "      <th>21</th>\n",
       "      <th>22</th>\n",
       "      <th>23</th>\n",
       "      <th>24</th>\n",
       "      <th>25</th>\n",
       "      <th>26</th>\n",
       "    </tr>\n",
       "    <tr>\n",
       "      <th>Cluster</th>\n",
       "      <th></th>\n",
       "      <th></th>\n",
       "      <th></th>\n",
       "      <th></th>\n",
       "      <th></th>\n",
       "      <th></th>\n",
       "      <th></th>\n",
       "      <th></th>\n",
       "      <th></th>\n",
       "      <th></th>\n",
       "      <th></th>\n",
       "      <th></th>\n",
       "      <th></th>\n",
       "      <th></th>\n",
       "      <th></th>\n",
       "      <th></th>\n",
       "      <th></th>\n",
       "      <th></th>\n",
       "      <th></th>\n",
       "      <th></th>\n",
       "      <th></th>\n",
       "    </tr>\n",
       "  </thead>\n",
       "  <tbody>\n",
       "    <tr>\n",
       "      <td>0</td>\n",
       "      <td>1</td>\n",
       "      <td>0</td>\n",
       "      <td>0</td>\n",
       "      <td>0</td>\n",
       "      <td>0</td>\n",
       "      <td>0</td>\n",
       "      <td>1</td>\n",
       "      <td>0</td>\n",
       "      <td>1</td>\n",
       "      <td>2</td>\n",
       "      <td>...</td>\n",
       "      <td>0</td>\n",
       "      <td>0</td>\n",
       "      <td>0</td>\n",
       "      <td>1</td>\n",
       "      <td>0</td>\n",
       "      <td>0</td>\n",
       "      <td>0</td>\n",
       "      <td>0</td>\n",
       "      <td>0</td>\n",
       "      <td>0</td>\n",
       "    </tr>\n",
       "    <tr>\n",
       "      <td>1</td>\n",
       "      <td>2</td>\n",
       "      <td>2</td>\n",
       "      <td>10</td>\n",
       "      <td>2</td>\n",
       "      <td>3</td>\n",
       "      <td>7</td>\n",
       "      <td>5</td>\n",
       "      <td>5</td>\n",
       "      <td>6</td>\n",
       "      <td>8</td>\n",
       "      <td>...</td>\n",
       "      <td>6</td>\n",
       "      <td>7</td>\n",
       "      <td>9</td>\n",
       "      <td>6</td>\n",
       "      <td>5</td>\n",
       "      <td>7</td>\n",
       "      <td>11</td>\n",
       "      <td>6</td>\n",
       "      <td>9</td>\n",
       "      <td>7</td>\n",
       "    </tr>\n",
       "    <tr>\n",
       "      <td>2</td>\n",
       "      <td>0</td>\n",
       "      <td>0</td>\n",
       "      <td>0</td>\n",
       "      <td>0</td>\n",
       "      <td>0</td>\n",
       "      <td>0</td>\n",
       "      <td>0</td>\n",
       "      <td>0</td>\n",
       "      <td>1</td>\n",
       "      <td>0</td>\n",
       "      <td>...</td>\n",
       "      <td>0</td>\n",
       "      <td>0</td>\n",
       "      <td>1</td>\n",
       "      <td>2</td>\n",
       "      <td>0</td>\n",
       "      <td>0</td>\n",
       "      <td>1</td>\n",
       "      <td>0</td>\n",
       "      <td>0</td>\n",
       "      <td>0</td>\n",
       "    </tr>\n",
       "    <tr>\n",
       "      <td>3</td>\n",
       "      <td>0</td>\n",
       "      <td>0</td>\n",
       "      <td>1</td>\n",
       "      <td>0</td>\n",
       "      <td>0</td>\n",
       "      <td>0</td>\n",
       "      <td>0</td>\n",
       "      <td>0</td>\n",
       "      <td>0</td>\n",
       "      <td>1</td>\n",
       "      <td>...</td>\n",
       "      <td>1</td>\n",
       "      <td>0</td>\n",
       "      <td>0</td>\n",
       "      <td>0</td>\n",
       "      <td>0</td>\n",
       "      <td>0</td>\n",
       "      <td>0</td>\n",
       "      <td>0</td>\n",
       "      <td>2</td>\n",
       "      <td>0</td>\n",
       "    </tr>\n",
       "    <tr>\n",
       "      <td>4</td>\n",
       "      <td>0</td>\n",
       "      <td>0</td>\n",
       "      <td>1</td>\n",
       "      <td>0</td>\n",
       "      <td>0</td>\n",
       "      <td>0</td>\n",
       "      <td>0</td>\n",
       "      <td>0</td>\n",
       "      <td>0</td>\n",
       "      <td>1</td>\n",
       "      <td>...</td>\n",
       "      <td>0</td>\n",
       "      <td>0</td>\n",
       "      <td>0</td>\n",
       "      <td>0</td>\n",
       "      <td>0</td>\n",
       "      <td>0</td>\n",
       "      <td>0</td>\n",
       "      <td>0</td>\n",
       "      <td>2</td>\n",
       "      <td>1</td>\n",
       "    </tr>\n",
       "  </tbody>\n",
       "</table>\n",
       "<p>5 rows × 26 columns</p>\n",
       "</div>"
      ],
      "text/plain": [
       "Clicked_Article  1   2   3   4   5   6   7   8   9   10  ...  17  18  19  20  \\\n",
       "Cluster                                                  ...                   \n",
       "0                 1   0   0   0   0   0   1   0   1   2  ...   0   0   0   1   \n",
       "1                 2   2  10   2   3   7   5   5   6   8  ...   6   7   9   6   \n",
       "2                 0   0   0   0   0   0   0   0   1   0  ...   0   0   1   2   \n",
       "3                 0   0   1   0   0   0   0   0   0   1  ...   1   0   0   0   \n",
       "4                 0   0   1   0   0   0   0   0   0   1  ...   0   0   0   0   \n",
       "\n",
       "Clicked_Article  21  22  23  24  25  26  \n",
       "Cluster                                  \n",
       "0                 0   0   0   0   0   0  \n",
       "1                 5   7  11   6   9   7  \n",
       "2                 0   0   1   0   0   0  \n",
       "3                 0   0   0   0   2   0  \n",
       "4                 0   0   0   0   2   1  \n",
       "\n",
       "[5 rows x 26 columns]"
      ]
     },
     "execution_count": 15,
     "metadata": {},
     "output_type": "execute_result"
    }
   ],
   "source": [
    "pivot_table = df.pivot_table(index='Cluster', columns='Clicked_Article', values='Click', aggfunc=np.sum, fill_value=0)\n",
    "pivot_table.head(5)"
   ]
  },
  {
   "cell_type": "markdown",
   "metadata": {},
   "source": [
    "Converting the matrix into a numpy array"
   ]
  },
  {
   "cell_type": "code",
   "execution_count": 16,
   "metadata": {},
   "outputs": [
    {
     "data": {
      "text/plain": [
       "array([[ 1.,  0.,  0.,  0.,  0.,  0.,  1.,  0.,  1.,  2.,  0.,  0.,  0.,\n",
       "         0.,  0.,  0.,  0.,  0.,  0.,  1.,  0.,  0.,  0.,  0.,  0.,  0.],\n",
       "       [ 2.,  2., 10.,  2.,  3.,  7.,  5.,  5.,  6.,  8.,  3.,  5.,  3.,\n",
       "         9.,  2.,  2.,  6.,  7.,  9.,  6.,  5.,  7., 11.,  6.,  9.,  7.],\n",
       "       [ 0.,  0.,  0.,  0.,  0.,  0.,  0.,  0.,  1.,  0.,  0.,  0.,  0.,\n",
       "         0.,  1.,  0.,  0.,  0.,  1.,  2.,  0.,  0.,  1.,  0.,  0.,  0.],\n",
       "       [ 0.,  0.,  1.,  0.,  0.,  0.,  0.,  0.,  0.,  1.,  0.,  0.,  1.,\n",
       "         0.,  0.,  0.,  1.,  0.,  0.,  0.,  0.,  0.,  0.,  0.,  2.,  0.],\n",
       "       [ 0.,  0.,  1.,  0.,  0.,  0.,  0.,  0.,  0.,  1.,  0.,  0.,  0.,\n",
       "         0.,  0.,  0.,  0.,  0.,  0.,  0.,  0.,  0.,  0.,  0.,  2.,  1.]])"
      ]
     },
     "execution_count": 16,
     "metadata": {},
     "output_type": "execute_result"
    }
   ],
   "source": [
    "pivot_matrix = np.asarray(pivot_table.values,dtype='float')\n",
    "pivot_matrix[:5]"
   ]
  },
  {
   "cell_type": "markdown",
   "metadata": {},
   "source": [
    "Each array inside this one is, therefore, the values for a cluster"
   ]
  },
  {
   "cell_type": "code",
   "execution_count": 17,
   "metadata": {},
   "outputs": [
    {
     "data": {
      "text/plain": [
       "[0, 1, 2, 3, 4, 5, 6, 7, 8, 9]"
      ]
     },
     "execution_count": 17,
     "metadata": {},
     "output_type": "execute_result"
    }
   ],
   "source": [
    "clusters = list(pivot_table.index)\n",
    "clusters[:10]"
   ]
  },
  {
   "cell_type": "markdown",
   "metadata": {},
   "source": [
    "Here we make the matrix sparse with `scipy.sparse.csr_matrix()` in order to input for factorization"
   ]
  },
  {
   "cell_type": "code",
   "execution_count": 18,
   "metadata": {},
   "outputs": [
    {
     "data": {
      "text/plain": [
       "<20x26 sparse matrix of type '<class 'numpy.float64'>'\n",
       "\twith 195 stored elements in Compressed Sparse Row format>"
      ]
     },
     "execution_count": 18,
     "metadata": {},
     "output_type": "execute_result"
    }
   ],
   "source": [
    "sparse_matrix = csr_matrix(pivot_matrix)\n",
    "sparse_matrix"
   ]
  },
  {
   "cell_type": "markdown",
   "metadata": {},
   "source": [
    "With `from scipy.sparse.linalg.svds()` we compute the factorization"
   ]
  },
  {
   "cell_type": "code",
   "execution_count": 19,
   "metadata": {},
   "outputs": [],
   "source": [
    "FACTORS_MF = 15\n",
    "\n",
    "U, sigma, Vt = svds(sparse_matrix, k = FACTORS_MF)"
   ]
  },
  {
   "cell_type": "markdown",
   "metadata": {},
   "source": [
    "After this process, we can convert the output back into a dataframe, and then, a matrix as a numpy array"
   ]
  },
  {
   "cell_type": "code",
   "execution_count": 20,
   "metadata": {},
   "outputs": [
    {
     "data": {
      "text/plain": [
       "(20, 15)"
      ]
     },
     "execution_count": 20,
     "metadata": {},
     "output_type": "execute_result"
    }
   ],
   "source": [
    "U.shape"
   ]
  },
  {
   "cell_type": "code",
   "execution_count": 21,
   "metadata": {},
   "outputs": [
    {
     "data": {
      "text/plain": [
       "(15, 26)"
      ]
     },
     "execution_count": 21,
     "metadata": {},
     "output_type": "execute_result"
    }
   ],
   "source": [
    "Vt.shape"
   ]
  },
  {
   "cell_type": "code",
   "execution_count": 22,
   "metadata": {},
   "outputs": [
    {
     "data": {
      "text/plain": [
       "(15, 15)"
      ]
     },
     "execution_count": 22,
     "metadata": {},
     "output_type": "execute_result"
    }
   ],
   "source": [
    "sigma = np.diag(sigma)\n",
    "sigma.shape"
   ]
  },
  {
   "cell_type": "code",
   "execution_count": 23,
   "metadata": {},
   "outputs": [
    {
     "data": {
      "text/plain": [
       "(20, 26)"
      ]
     },
     "execution_count": 23,
     "metadata": {},
     "output_type": "execute_result"
    }
   ],
   "source": [
    "all_predicted_ratings = np.dot(np.dot(U, sigma), Vt) \n",
    "all_predicted_ratings.shape"
   ]
  },
  {
   "cell_type": "code",
   "execution_count": 24,
   "metadata": {},
   "outputs": [],
   "source": [
    "all_predicted_norm = (all_predicted_ratings - all_predicted_ratings.min()) / (all_predicted_ratings.max() - all_predicted_ratings.min())"
   ]
  },
  {
   "cell_type": "code",
   "execution_count": 25,
   "metadata": {},
   "outputs": [
    {
     "data": {
      "text/html": [
       "<div>\n",
       "<style scoped>\n",
       "    .dataframe tbody tr th:only-of-type {\n",
       "        vertical-align: middle;\n",
       "    }\n",
       "\n",
       "    .dataframe tbody tr th {\n",
       "        vertical-align: top;\n",
       "    }\n",
       "\n",
       "    .dataframe thead th {\n",
       "        text-align: right;\n",
       "    }\n",
       "</style>\n",
       "<table border=\"1\" class=\"dataframe\">\n",
       "  <thead>\n",
       "    <tr style=\"text-align: right;\">\n",
       "      <th></th>\n",
       "      <th>0</th>\n",
       "      <th>1</th>\n",
       "      <th>2</th>\n",
       "      <th>3</th>\n",
       "      <th>4</th>\n",
       "      <th>5</th>\n",
       "      <th>6</th>\n",
       "      <th>7</th>\n",
       "      <th>8</th>\n",
       "      <th>9</th>\n",
       "      <th>10</th>\n",
       "      <th>11</th>\n",
       "      <th>12</th>\n",
       "      <th>13</th>\n",
       "      <th>14</th>\n",
       "      <th>15</th>\n",
       "      <th>16</th>\n",
       "      <th>17</th>\n",
       "      <th>18</th>\n",
       "      <th>19</th>\n",
       "    </tr>\n",
       "    <tr>\n",
       "      <th>Clicked_Article</th>\n",
       "      <th></th>\n",
       "      <th></th>\n",
       "      <th></th>\n",
       "      <th></th>\n",
       "      <th></th>\n",
       "      <th></th>\n",
       "      <th></th>\n",
       "      <th></th>\n",
       "      <th></th>\n",
       "      <th></th>\n",
       "      <th></th>\n",
       "      <th></th>\n",
       "      <th></th>\n",
       "      <th></th>\n",
       "      <th></th>\n",
       "      <th></th>\n",
       "      <th></th>\n",
       "      <th></th>\n",
       "      <th></th>\n",
       "      <th></th>\n",
       "    </tr>\n",
       "  </thead>\n",
       "  <tbody>\n",
       "    <tr>\n",
       "      <td>1</td>\n",
       "      <td>0.095983</td>\n",
       "      <td>0.209958</td>\n",
       "      <td>0.039053</td>\n",
       "      <td>0.017526</td>\n",
       "      <td>0.025699</td>\n",
       "      <td>0.037962</td>\n",
       "      <td>0.062812</td>\n",
       "      <td>0.119395</td>\n",
       "      <td>0.039000</td>\n",
       "      <td>0.035501</td>\n",
       "      <td>0.029552</td>\n",
       "      <td>0.031793</td>\n",
       "      <td>0.038981</td>\n",
       "      <td>0.035038</td>\n",
       "      <td>0.032129</td>\n",
       "      <td>0.124572</td>\n",
       "      <td>0.048208</td>\n",
       "      <td>0.039380</td>\n",
       "      <td>0.025410</td>\n",
       "      <td>0.030283</td>\n",
       "    </tr>\n",
       "    <tr>\n",
       "      <td>2</td>\n",
       "      <td>0.048449</td>\n",
       "      <td>0.209556</td>\n",
       "      <td>0.025393</td>\n",
       "      <td>0.040440</td>\n",
       "      <td>0.032689</td>\n",
       "      <td>0.036650</td>\n",
       "      <td>0.109413</td>\n",
       "      <td>0.034217</td>\n",
       "      <td>0.033420</td>\n",
       "      <td>0.034022</td>\n",
       "      <td>0.208070</td>\n",
       "      <td>0.036020</td>\n",
       "      <td>0.031068</td>\n",
       "      <td>0.032748</td>\n",
       "      <td>0.213938</td>\n",
       "      <td>0.031176</td>\n",
       "      <td>0.039820</td>\n",
       "      <td>0.119744</td>\n",
       "      <td>0.126012</td>\n",
       "      <td>0.038657</td>\n",
       "    </tr>\n",
       "    <tr>\n",
       "      <td>3</td>\n",
       "      <td>0.035703</td>\n",
       "      <td>0.913686</td>\n",
       "      <td>0.028571</td>\n",
       "      <td>0.117289</td>\n",
       "      <td>0.107867</td>\n",
       "      <td>0.128458</td>\n",
       "      <td>0.120776</td>\n",
       "      <td>0.115275</td>\n",
       "      <td>0.029593</td>\n",
       "      <td>0.035761</td>\n",
       "      <td>0.035054</td>\n",
       "      <td>0.210390</td>\n",
       "      <td>0.031435</td>\n",
       "      <td>0.036304</td>\n",
       "      <td>0.205119</td>\n",
       "      <td>0.120531</td>\n",
       "      <td>0.043071</td>\n",
       "      <td>0.203951</td>\n",
       "      <td>0.130363</td>\n",
       "      <td>0.027171</td>\n",
       "    </tr>\n",
       "    <tr>\n",
       "      <td>4</td>\n",
       "      <td>0.033165</td>\n",
       "      <td>0.212812</td>\n",
       "      <td>0.034898</td>\n",
       "      <td>0.027086</td>\n",
       "      <td>0.023253</td>\n",
       "      <td>0.038245</td>\n",
       "      <td>0.033462</td>\n",
       "      <td>0.027911</td>\n",
       "      <td>0.207879</td>\n",
       "      <td>0.036391</td>\n",
       "      <td>0.124860</td>\n",
       "      <td>0.034597</td>\n",
       "      <td>0.119744</td>\n",
       "      <td>0.038054</td>\n",
       "      <td>0.028593</td>\n",
       "      <td>0.031996</td>\n",
       "      <td>0.043327</td>\n",
       "      <td>0.033113</td>\n",
       "      <td>0.125135</td>\n",
       "      <td>0.110239</td>\n",
       "    </tr>\n",
       "    <tr>\n",
       "      <td>5</td>\n",
       "      <td>0.041765</td>\n",
       "      <td>0.298721</td>\n",
       "      <td>0.037317</td>\n",
       "      <td>0.035956</td>\n",
       "      <td>0.032558</td>\n",
       "      <td>0.208683</td>\n",
       "      <td>0.024225</td>\n",
       "      <td>0.295985</td>\n",
       "      <td>0.036603</td>\n",
       "      <td>0.035574</td>\n",
       "      <td>0.038128</td>\n",
       "      <td>0.035569</td>\n",
       "      <td>0.119113</td>\n",
       "      <td>0.124344</td>\n",
       "      <td>0.033277</td>\n",
       "      <td>0.030399</td>\n",
       "      <td>0.038901</td>\n",
       "      <td>0.037621</td>\n",
       "      <td>0.031856</td>\n",
       "      <td>0.027747</td>\n",
       "    </tr>\n",
       "    <tr>\n",
       "      <td>6</td>\n",
       "      <td>0.038842</td>\n",
       "      <td>0.651910</td>\n",
       "      <td>0.053236</td>\n",
       "      <td>0.036466</td>\n",
       "      <td>0.036791</td>\n",
       "      <td>0.202757</td>\n",
       "      <td>0.020160</td>\n",
       "      <td>0.119477</td>\n",
       "      <td>0.033473</td>\n",
       "      <td>0.037022</td>\n",
       "      <td>0.049542</td>\n",
       "      <td>0.298421</td>\n",
       "      <td>0.119487</td>\n",
       "      <td>0.130263</td>\n",
       "      <td>0.285413</td>\n",
       "      <td>0.295570</td>\n",
       "      <td>0.019995</td>\n",
       "      <td>0.125085</td>\n",
       "      <td>0.034128</td>\n",
       "      <td>0.013880</td>\n",
       "    </tr>\n",
       "    <tr>\n",
       "      <td>7</td>\n",
       "      <td>0.126278</td>\n",
       "      <td>0.470151</td>\n",
       "      <td>0.031507</td>\n",
       "      <td>0.038185</td>\n",
       "      <td>0.042102</td>\n",
       "      <td>0.032571</td>\n",
       "      <td>0.120300</td>\n",
       "      <td>0.126862</td>\n",
       "      <td>0.039913</td>\n",
       "      <td>0.033270</td>\n",
       "      <td>0.029931</td>\n",
       "      <td>0.122156</td>\n",
       "      <td>0.122890</td>\n",
       "      <td>0.031190</td>\n",
       "      <td>0.042625</td>\n",
       "      <td>0.032902</td>\n",
       "      <td>0.039143</td>\n",
       "      <td>0.039535</td>\n",
       "      <td>0.027215</td>\n",
       "      <td>0.043809</td>\n",
       "    </tr>\n",
       "    <tr>\n",
       "      <td>8</td>\n",
       "      <td>0.032613</td>\n",
       "      <td>0.471875</td>\n",
       "      <td>0.034533</td>\n",
       "      <td>0.049671</td>\n",
       "      <td>0.017769</td>\n",
       "      <td>0.036030</td>\n",
       "      <td>0.039339</td>\n",
       "      <td>0.124477</td>\n",
       "      <td>0.034529</td>\n",
       "      <td>0.034200</td>\n",
       "      <td>0.035531</td>\n",
       "      <td>0.038213</td>\n",
       "      <td>0.118078</td>\n",
       "      <td>0.031749</td>\n",
       "      <td>0.120946</td>\n",
       "      <td>0.036007</td>\n",
       "      <td>0.031726</td>\n",
       "      <td>0.031688</td>\n",
       "      <td>0.033752</td>\n",
       "      <td>0.040138</td>\n",
       "    </tr>\n",
       "    <tr>\n",
       "      <td>9</td>\n",
       "      <td>0.114326</td>\n",
       "      <td>0.557183</td>\n",
       "      <td>0.115270</td>\n",
       "      <td>0.032025</td>\n",
       "      <td>0.039393</td>\n",
       "      <td>0.298959</td>\n",
       "      <td>0.048075</td>\n",
       "      <td>0.126085</td>\n",
       "      <td>0.037005</td>\n",
       "      <td>0.120252</td>\n",
       "      <td>0.112934</td>\n",
       "      <td>0.120576</td>\n",
       "      <td>0.126243</td>\n",
       "      <td>0.029449</td>\n",
       "      <td>0.217598</td>\n",
       "      <td>0.300274</td>\n",
       "      <td>0.038900</td>\n",
       "      <td>0.123062</td>\n",
       "      <td>0.030838</td>\n",
       "      <td>0.048320</td>\n",
       "    </tr>\n",
       "    <tr>\n",
       "      <td>10</td>\n",
       "      <td>0.207890</td>\n",
       "      <td>0.737392</td>\n",
       "      <td>0.043765</td>\n",
       "      <td>0.118828</td>\n",
       "      <td>0.128674</td>\n",
       "      <td>0.118342</td>\n",
       "      <td>0.207013</td>\n",
       "      <td>0.033267</td>\n",
       "      <td>0.032171</td>\n",
       "      <td>0.210631</td>\n",
       "      <td>0.128544</td>\n",
       "      <td>0.121115</td>\n",
       "      <td>0.123552</td>\n",
       "      <td>0.038528</td>\n",
       "      <td>0.028190</td>\n",
       "      <td>0.211201</td>\n",
       "      <td>0.110684</td>\n",
       "      <td>0.122155</td>\n",
       "      <td>0.036590</td>\n",
       "      <td>0.112981</td>\n",
       "    </tr>\n",
       "  </tbody>\n",
       "</table>\n",
       "</div>"
      ],
      "text/plain": [
       "                       0         1         2         3         4         5   \\\n",
       "Clicked_Article                                                               \n",
       "1                0.095983  0.209958  0.039053  0.017526  0.025699  0.037962   \n",
       "2                0.048449  0.209556  0.025393  0.040440  0.032689  0.036650   \n",
       "3                0.035703  0.913686  0.028571  0.117289  0.107867  0.128458   \n",
       "4                0.033165  0.212812  0.034898  0.027086  0.023253  0.038245   \n",
       "5                0.041765  0.298721  0.037317  0.035956  0.032558  0.208683   \n",
       "6                0.038842  0.651910  0.053236  0.036466  0.036791  0.202757   \n",
       "7                0.126278  0.470151  0.031507  0.038185  0.042102  0.032571   \n",
       "8                0.032613  0.471875  0.034533  0.049671  0.017769  0.036030   \n",
       "9                0.114326  0.557183  0.115270  0.032025  0.039393  0.298959   \n",
       "10               0.207890  0.737392  0.043765  0.118828  0.128674  0.118342   \n",
       "\n",
       "                       6         7         8         9         10        11  \\\n",
       "Clicked_Article                                                               \n",
       "1                0.062812  0.119395  0.039000  0.035501  0.029552  0.031793   \n",
       "2                0.109413  0.034217  0.033420  0.034022  0.208070  0.036020   \n",
       "3                0.120776  0.115275  0.029593  0.035761  0.035054  0.210390   \n",
       "4                0.033462  0.027911  0.207879  0.036391  0.124860  0.034597   \n",
       "5                0.024225  0.295985  0.036603  0.035574  0.038128  0.035569   \n",
       "6                0.020160  0.119477  0.033473  0.037022  0.049542  0.298421   \n",
       "7                0.120300  0.126862  0.039913  0.033270  0.029931  0.122156   \n",
       "8                0.039339  0.124477  0.034529  0.034200  0.035531  0.038213   \n",
       "9                0.048075  0.126085  0.037005  0.120252  0.112934  0.120576   \n",
       "10               0.207013  0.033267  0.032171  0.210631  0.128544  0.121115   \n",
       "\n",
       "                       12        13        14        15        16        17  \\\n",
       "Clicked_Article                                                               \n",
       "1                0.038981  0.035038  0.032129  0.124572  0.048208  0.039380   \n",
       "2                0.031068  0.032748  0.213938  0.031176  0.039820  0.119744   \n",
       "3                0.031435  0.036304  0.205119  0.120531  0.043071  0.203951   \n",
       "4                0.119744  0.038054  0.028593  0.031996  0.043327  0.033113   \n",
       "5                0.119113  0.124344  0.033277  0.030399  0.038901  0.037621   \n",
       "6                0.119487  0.130263  0.285413  0.295570  0.019995  0.125085   \n",
       "7                0.122890  0.031190  0.042625  0.032902  0.039143  0.039535   \n",
       "8                0.118078  0.031749  0.120946  0.036007  0.031726  0.031688   \n",
       "9                0.126243  0.029449  0.217598  0.300274  0.038900  0.123062   \n",
       "10               0.123552  0.038528  0.028190  0.211201  0.110684  0.122155   \n",
       "\n",
       "                       18        19  \n",
       "Clicked_Article                      \n",
       "1                0.025410  0.030283  \n",
       "2                0.126012  0.038657  \n",
       "3                0.130363  0.027171  \n",
       "4                0.125135  0.110239  \n",
       "5                0.031856  0.027747  \n",
       "6                0.034128  0.013880  \n",
       "7                0.027215  0.043809  \n",
       "8                0.033752  0.040138  \n",
       "9                0.030838  0.048320  \n",
       "10               0.036590  0.112981  "
      ]
     },
     "execution_count": 25,
     "metadata": {},
     "output_type": "execute_result"
    }
   ],
   "source": [
    "cf_preds_df = pd.DataFrame(all_predicted_norm, columns = pivot_table.columns, index=clusters).transpose()\n",
    "cf_preds_df.head(10)"
   ]
  },
  {
   "cell_type": "code",
   "execution_count": 26,
   "metadata": {},
   "outputs": [
    {
     "data": {
      "text/plain": [
       "(26, 20)"
      ]
     },
     "execution_count": 26,
     "metadata": {},
     "output_type": "execute_result"
    }
   ],
   "source": [
    "matrix = np.asarray(cf_preds_df.values,dtype='float')\n",
    "matrix.shape # shape (items, clusters)"
   ]
  },
  {
   "cell_type": "markdown",
   "metadata": {},
   "source": [
    "### Saving Artifacts\n",
    "\n",
    "In order to pass our basic elements (matrix, index_map, clustering algorithm) to the model, we use BentoML. Thus, our recommender will load those in order to make its recommendations.\n",
    "\n",
    "The `pack()` function takes care of saving what we need."
   ]
  },
  {
   "cell_type": "code",
   "execution_count": 27,
   "metadata": {},
   "outputs": [],
   "source": [
    "model = ClusteredMatrixFactRecommender()"
   ]
  },
  {
   "cell_type": "code",
   "execution_count": 28,
   "metadata": {},
   "outputs": [
    {
     "data": {
      "text/plain": [
       "<matrix_fact.ClusteredMatrixFactRecommender at 0x7f119aae1240>"
      ]
     },
     "execution_count": 28,
     "metadata": {},
     "output_type": "execute_result"
    }
   ],
   "source": [
    "model.pack(\"index_map\", index_map)"
   ]
  },
  {
   "cell_type": "code",
   "execution_count": 29,
   "metadata": {},
   "outputs": [
    {
     "data": {
      "text/plain": [
       "<matrix_fact.ClusteredMatrixFactRecommender at 0x7f119aae1240>"
      ]
     },
     "execution_count": 29,
     "metadata": {},
     "output_type": "execute_result"
    }
   ],
   "source": [
    "model.pack(\"cluster_path\", kmeans)"
   ]
  },
  {
   "cell_type": "code",
   "execution_count": 30,
   "metadata": {},
   "outputs": [
    {
     "data": {
      "text/plain": [
       "<matrix_fact.ClusteredMatrixFactRecommender at 0x7f119aae1240>"
      ]
     },
     "execution_count": 30,
     "metadata": {},
     "output_type": "execute_result"
    }
   ],
   "source": [
    "model.pack(\"matrix\", matrix)"
   ]
  },
  {
   "cell_type": "markdown",
   "metadata": {},
   "source": [
    "After packing what our recommender will need, we can test it with a small sample"
   ]
  },
  {
   "cell_type": "code",
   "execution_count": 31,
   "metadata": {},
   "outputs": [],
   "source": [
    "test_articles = [565648, 563115, 552077, 564335, 565589, 563938, 560290, 563643, 560620, 565822, 563787, 555528, 565364, 559855, 560518]"
   ]
  },
  {
   "cell_type": "markdown",
   "metadata": {},
   "source": [
    "In this test, we will take the first set of features sampled randomly for the clustering tests `sample_features[0]`"
   ]
  },
  {
   "cell_type": "code",
   "execution_count": 32,
   "metadata": {},
   "outputs": [
    {
     "data": {
      "text/plain": [
       "[563115,\n",
       " 559855,\n",
       " 565822,\n",
       " 565589,\n",
       " 563643,\n",
       " 555528,\n",
       " 560290,\n",
       " 563938,\n",
       " 564335,\n",
       " 565364,\n",
       " 563787,\n",
       " 552077,\n",
       " 560620,\n",
       " 565648,\n",
       " 560518]"
      ]
     },
     "execution_count": 32,
     "metadata": {},
     "output_type": "execute_result"
    }
   ],
   "source": [
    "model.rank({'Timestamp': 123456789, 'Clicked_Article': 565822, 'Click': 1, 'User_Features': sample_features[0], 'Article_List': np.asarray(test_articles)})"
   ]
  },
  {
   "cell_type": "markdown",
   "metadata": {},
   "source": [
    "In order to check wether the recommendation is correct, we can do it ourselves\n",
    "\n",
    "First, we get the cluster for our features"
   ]
  },
  {
   "cell_type": "code",
   "execution_count": 33,
   "metadata": {},
   "outputs": [
    {
     "data": {
      "text/plain": [
       "1"
      ]
     },
     "execution_count": 33,
     "metadata": {},
     "output_type": "execute_result"
    }
   ],
   "source": [
    "test_cluster = kmeans.predict([sample_features[0]])[0]\n",
    "test_cluster"
   ]
  },
  {
   "cell_type": "markdown",
   "metadata": {},
   "source": [
    "Then acquiring the indexes for the item list"
   ]
  },
  {
   "cell_type": "code",
   "execution_count": 34,
   "metadata": {},
   "outputs": [
    {
     "data": {
      "text/plain": [
       "[2, 3, 4, 5, 6, 7, 8, 9, 1, 10, 11, 12, 13, 14, 15]"
      ]
     },
     "execution_count": 34,
     "metadata": {},
     "output_type": "execute_result"
    }
   ],
   "source": [
    "indexes = [index_map[art] for art in test_articles]\n",
    "indexes"
   ]
  },
  {
   "cell_type": "markdown",
   "metadata": {},
   "source": [
    "With the indexes and the cluster, we can get the scores for each item.\n",
    "\n",
    "Here, we subtract 1 from `idx` because the index 0 is is only used for items not found in the map; thus the matrix index 0 corresponds to the mapped index 1."
   ]
  },
  {
   "cell_type": "code",
   "execution_count": 35,
   "metadata": {},
   "outputs": [
    {
     "data": {
      "text/plain": [
       "[0.20955558290254883,\n",
       " 0.9136864273262162,\n",
       " 0.2128117256038242,\n",
       " 0.29872088718393625,\n",
       " 0.6519104658348439,\n",
       " 0.47015068742263794,\n",
       " 0.47187500815441596,\n",
       " 0.5571828219121022,\n",
       " 0.20995764839408318,\n",
       " 0.7373923134031024,\n",
       " 0.289645532185459,\n",
       " 0.4766124834800963,\n",
       " 0.2975338359800944,\n",
       " 0.8211201174380656,\n",
       " 0.20651483131551182]"
      ]
     },
     "execution_count": 35,
     "metadata": {},
     "output_type": "execute_result"
    }
   ],
   "source": [
    "scores = [matrix[idx-1, test_cluster] for idx in indexes] \n",
    "scores"
   ]
  },
  {
   "cell_type": "markdown",
   "metadata": {},
   "source": [
    "Finally we can sort the items by their scores"
   ]
  },
  {
   "cell_type": "code",
   "execution_count": 36,
   "metadata": {},
   "outputs": [
    {
     "data": {
      "text/plain": [
       "[(0.9136864273262162, 563115),\n",
       " (0.8211201174380656, 559855),\n",
       " (0.7373923134031024, 565822),\n",
       " (0.6519104658348439, 565589),\n",
       " (0.5571828219121022, 563643),\n",
       " (0.4766124834800963, 555528),\n",
       " (0.47187500815441596, 560290),\n",
       " (0.47015068742263794, 563938),\n",
       " (0.29872088718393625, 564335),\n",
       " (0.2975338359800944, 565364),\n",
       " (0.289645532185459, 563787),\n",
       " (0.2128117256038242, 552077),\n",
       " (0.20995764839408318, 560620),\n",
       " (0.20955558290254883, 565648),\n",
       " (0.20651483131551182, 560518)]"
      ]
     },
     "execution_count": 36,
     "metadata": {},
     "output_type": "execute_result"
    }
   ],
   "source": [
    "sorted(zip(scores, test_articles),reverse=True)"
   ]
  },
  {
   "cell_type": "code",
   "execution_count": null,
   "metadata": {},
   "outputs": [],
   "source": []
  }
 ],
 "metadata": {
  "kernelspec": {
   "display_name": "Python 3",
   "language": "python",
   "name": "python3"
  },
  "language_info": {
   "codemirror_mode": {
    "name": "ipython",
    "version": 3
   },
   "file_extension": ".py",
   "mimetype": "text/x-python",
   "name": "python",
   "nbconvert_exporter": "python",
   "pygments_lexer": "ipython3",
   "version": "3.6.7"
  }
 },
 "nbformat": 4,
 "nbformat_minor": 4
}
