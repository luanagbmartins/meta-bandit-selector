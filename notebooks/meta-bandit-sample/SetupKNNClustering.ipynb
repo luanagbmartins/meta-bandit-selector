{
 "cells": [
  {
   "cell_type": "markdown",
   "metadata": {},
   "source": [
    "# KNN with Clustering\n",
    "\n",
    "The K Nearest Neighbors approach for recommendation usually works by, given a certain user, finding similar ones and analyzing their iteraction history. However, since we do not have a `user_id` in the dataset we used a workaround. With *clusters*, we can find the most itnteracted items for each cluster instead of each user. Whenever we wish to find similar users, the KNN algorithm can provide similar *feature combinations* and we can match those to specific clusters. The iteraction list can then be used to create scores for each item. Therefore, we'll need to save through BentoML the following data:\n",
    "\n",
    "* An **Index Map** to map an item_id into an index (e.g. 1, 2, 7, 45, etc.)\n",
    "* A **Clustering Algorithm** to map new user features to clusters\n",
    "* A **Popularity Matrix** holding the amount of iteractions per cluster per item with shape (clusters, items)\n",
    "* A **KNN Algorithm** to provide the K nearest neighbors of a set of `user_features`\n",
    "\n",
    "In this notebook we will setup these elements. However, the actual recommendation happens in `knn_cluster.py` that will answer to the BentoML api when requested."
   ]
  },
  {
   "cell_type": "markdown",
   "metadata": {},
   "source": [
    "### Importing Libraries"
   ]
  },
  {
   "cell_type": "code",
   "execution_count": 1,
   "metadata": {},
   "outputs": [],
   "source": [
    "import pandas as pd\n",
    "import numpy as np\n",
    "\n",
    "from sklearn.cluster import KMeans\n",
    "from sklearn.neighbors import KNeighborsClassifier\n",
    "\n",
    "from preprocessing import preprocess\n",
    "from knn_cluster import ClusteredKNN"
   ]
  },
  {
   "cell_type": "markdown",
   "metadata": {},
   "source": [
    "### Acquire preprocessed Data"
   ]
  },
  {
   "cell_type": "code",
   "execution_count": 2,
   "metadata": {},
   "outputs": [],
   "source": [
    "df = preprocess(\"Sample\")"
   ]
  },
  {
   "cell_type": "code",
   "execution_count": 3,
   "metadata": {},
   "outputs": [
    {
     "data": {
      "text/html": [
       "<div>\n",
       "<style scoped>\n",
       "    .dataframe tbody tr th:only-of-type {\n",
       "        vertical-align: middle;\n",
       "    }\n",
       "\n",
       "    .dataframe tbody tr th {\n",
       "        vertical-align: top;\n",
       "    }\n",
       "\n",
       "    .dataframe thead th {\n",
       "        text-align: right;\n",
       "    }\n",
       "</style>\n",
       "<table border=\"1\" class=\"dataframe\">\n",
       "  <thead>\n",
       "    <tr style=\"text-align: right;\">\n",
       "      <th></th>\n",
       "      <th>Timestamp</th>\n",
       "      <th>Clicked_Article</th>\n",
       "      <th>Click</th>\n",
       "      <th>User_Features</th>\n",
       "      <th>Article_List</th>\n",
       "    </tr>\n",
       "  </thead>\n",
       "  <tbody>\n",
       "    <tr>\n",
       "      <td>0</td>\n",
       "      <td>1317513291</td>\n",
       "      <td>560620</td>\n",
       "      <td>0</td>\n",
       "      <td>[True, False, False, False, False, False, Fals...</td>\n",
       "      <td>[552077, 555224, 555528, 559744, 559855, 56029...</td>\n",
       "    </tr>\n",
       "    <tr>\n",
       "      <td>1</td>\n",
       "      <td>1317513291</td>\n",
       "      <td>565648</td>\n",
       "      <td>0</td>\n",
       "      <td>[True, False, False, False, False, False, Fals...</td>\n",
       "      <td>[552077, 555224, 555528, 559744, 559855, 56029...</td>\n",
       "    </tr>\n",
       "    <tr>\n",
       "      <td>2</td>\n",
       "      <td>1317513291</td>\n",
       "      <td>563115</td>\n",
       "      <td>0</td>\n",
       "      <td>[True, False, False, False, False, False, Fals...</td>\n",
       "      <td>[552077, 555224, 555528, 559744, 559855, 56029...</td>\n",
       "    </tr>\n",
       "    <tr>\n",
       "      <td>3</td>\n",
       "      <td>1317513292</td>\n",
       "      <td>552077</td>\n",
       "      <td>0</td>\n",
       "      <td>[True, False, False, False, False, False, True...</td>\n",
       "      <td>[552077, 555224, 555528, 559744, 559855, 56029...</td>\n",
       "    </tr>\n",
       "    <tr>\n",
       "      <td>4</td>\n",
       "      <td>1317513292</td>\n",
       "      <td>564335</td>\n",
       "      <td>0</td>\n",
       "      <td>[True, False, False, False, False, False, Fals...</td>\n",
       "      <td>[552077, 555224, 555528, 559744, 559855, 56029...</td>\n",
       "    </tr>\n",
       "    <tr>\n",
       "      <td>5</td>\n",
       "      <td>1317513292</td>\n",
       "      <td>565589</td>\n",
       "      <td>0</td>\n",
       "      <td>[True, False, False, False, True, False, False...</td>\n",
       "      <td>[552077, 555224, 555528, 559744, 559855, 56029...</td>\n",
       "    </tr>\n",
       "  </tbody>\n",
       "</table>\n",
       "</div>"
      ],
      "text/plain": [
       "    Timestamp Clicked_Article Click  \\\n",
       "0  1317513291          560620     0   \n",
       "1  1317513291          565648     0   \n",
       "2  1317513291          563115     0   \n",
       "3  1317513292          552077     0   \n",
       "4  1317513292          564335     0   \n",
       "5  1317513292          565589     0   \n",
       "\n",
       "                                       User_Features  \\\n",
       "0  [True, False, False, False, False, False, Fals...   \n",
       "1  [True, False, False, False, False, False, Fals...   \n",
       "2  [True, False, False, False, False, False, Fals...   \n",
       "3  [True, False, False, False, False, False, True...   \n",
       "4  [True, False, False, False, False, False, Fals...   \n",
       "5  [True, False, False, False, True, False, False...   \n",
       "\n",
       "                                        Article_List  \n",
       "0  [552077, 555224, 555528, 559744, 559855, 56029...  \n",
       "1  [552077, 555224, 555528, 559744, 559855, 56029...  \n",
       "2  [552077, 555224, 555528, 559744, 559855, 56029...  \n",
       "3  [552077, 555224, 555528, 559744, 559855, 56029...  \n",
       "4  [552077, 555224, 555528, 559744, 559855, 56029...  \n",
       "5  [552077, 555224, 555528, 559744, 559855, 56029...  "
      ]
     },
     "execution_count": 3,
     "metadata": {},
     "output_type": "execute_result"
    }
   ],
   "source": [
    "df.head(6)"
   ]
  },
  {
   "cell_type": "markdown",
   "metadata": {},
   "source": [
    "## Clustering\n",
    "\n",
    "For the cluster, we will need the users' features"
   ]
  },
  {
   "cell_type": "code",
   "execution_count": 4,
   "metadata": {},
   "outputs": [
    {
     "data": {
      "text/plain": [
       "(10447, 136)"
      ]
     },
     "execution_count": 4,
     "metadata": {},
     "output_type": "execute_result"
    }
   ],
   "source": [
    "users = np.asarray(df.loc[:,'User_Features']) # acquire only the features\n",
    "users = np.stack(users, axis=0) # stack them to make an array (iteractions, features)\n",
    "users.shape"
   ]
  },
  {
   "cell_type": "markdown",
   "metadata": {},
   "source": [
    "Now we can intialize the clustering algorithm, decide how many clusters we want, and compute"
   ]
  },
  {
   "cell_type": "code",
   "execution_count": 5,
   "metadata": {},
   "outputs": [
    {
     "data": {
      "text/plain": [
       "KMeans(algorithm='auto', copy_x=True, init='k-means++', max_iter=300,\n",
       "       n_clusters=20, n_init=10, n_jobs=None, precompute_distances='auto',\n",
       "       random_state=None, tol=0.0001, verbose=0)"
      ]
     },
     "execution_count": 5,
     "metadata": {},
     "output_type": "execute_result"
    }
   ],
   "source": [
    "N_CLUSTERS = 20\n",
    "kmeans = KMeans(n_clusters = N_CLUSTERS)\n",
    "kmeans.fit(users)"
   ]
  },
  {
   "cell_type": "markdown",
   "metadata": {},
   "source": [
    "## K Nearest Neighbors\n",
    "\n",
    "For the KNN algorithm, we will need the users' features, as well as their clusters, referred here as `labels`"
   ]
  },
  {
   "cell_type": "code",
   "execution_count": 6,
   "metadata": {},
   "outputs": [
    {
     "data": {
      "text/plain": [
       "KNeighborsClassifier(algorithm='auto', leaf_size=30, metric='minkowski',\n",
       "                     metric_params=None, n_jobs=None, n_neighbors=5, p=2,\n",
       "                     weights='uniform')"
      ]
     },
     "execution_count": 6,
     "metadata": {},
     "output_type": "execute_result"
    }
   ],
   "source": [
    "labels = kmeans.labels_\n",
    "knn = KNeighborsClassifier()\n",
    "knn.fit(users, labels)"
   ]
  },
  {
   "cell_type": "markdown",
   "metadata": {},
   "source": [
    "The KNN Algorithm will return a list of indexes of the k closest elements\n",
    "\n",
    "First, we take a sample from the dataset"
   ]
  },
  {
   "cell_type": "code",
   "execution_count": 7,
   "metadata": {},
   "outputs": [],
   "source": [
    "sample = df.sample(1).loc[:,'User_Features']\n",
    "sample_features = np.stack(sample,axis=0)"
   ]
  },
  {
   "cell_type": "markdown",
   "metadata": {},
   "source": [
    "Now we can run the KNN with the features sampled"
   ]
  },
  {
   "cell_type": "code",
   "execution_count": 8,
   "metadata": {},
   "outputs": [
    {
     "data": {
      "text/plain": [
       "array([[6471, 2584, 7027, 6046,  521, 1184,  786]])"
      ]
     },
     "execution_count": 8,
     "metadata": {},
     "output_type": "execute_result"
    }
   ],
   "source": [
    "idxs = knn.kneighbors(X=sample_features, n_neighbors=7, return_distance=False)\n",
    "idxs"
   ]
  },
  {
   "cell_type": "markdown",
   "metadata": {},
   "source": [
    "## Index Map\n",
    "\n",
    "First, we get all articles in a list"
   ]
  },
  {
   "cell_type": "code",
   "execution_count": 9,
   "metadata": {},
   "outputs": [],
   "source": [
    "articles = df['Clicked_Article'].unique()"
   ]
  },
  {
   "cell_type": "markdown",
   "metadata": {},
   "source": [
    "Then, we iterate over them creating a dictionary for the index map."
   ]
  },
  {
   "cell_type": "code",
   "execution_count": 10,
   "metadata": {},
   "outputs": [],
   "source": [
    "index_map = {}\n",
    "idx = 1 # idx starts at 1 so that 0 is used for when the article is not found in the index map\n",
    "for art in articles:\n",
    "    index_map[art] = idx\n",
    "    idx+=1\n",
    "# index_map"
   ]
  },
  {
   "cell_type": "markdown",
   "metadata": {},
   "source": [
    "## Popularity Matrix\n",
    "\n",
    "In order to get our Popularity Matrix, we need to replace the `article_id` by the index and add to which cluster an iteraction belongs to"
   ]
  },
  {
   "cell_type": "code",
   "execution_count": 11,
   "metadata": {},
   "outputs": [
    {
     "data": {
      "text/html": [
       "<div>\n",
       "<style scoped>\n",
       "    .dataframe tbody tr th:only-of-type {\n",
       "        vertical-align: middle;\n",
       "    }\n",
       "\n",
       "    .dataframe tbody tr th {\n",
       "        vertical-align: top;\n",
       "    }\n",
       "\n",
       "    .dataframe thead th {\n",
       "        text-align: right;\n",
       "    }\n",
       "</style>\n",
       "<table border=\"1\" class=\"dataframe\">\n",
       "  <thead>\n",
       "    <tr style=\"text-align: right;\">\n",
       "      <th></th>\n",
       "      <th>Timestamp</th>\n",
       "      <th>Clicked_Article</th>\n",
       "      <th>Click</th>\n",
       "      <th>User_Features</th>\n",
       "      <th>Article_List</th>\n",
       "      <th>Cluster</th>\n",
       "    </tr>\n",
       "  </thead>\n",
       "  <tbody>\n",
       "    <tr>\n",
       "      <td>0</td>\n",
       "      <td>1317513291</td>\n",
       "      <td>1</td>\n",
       "      <td>0</td>\n",
       "      <td>[True, False, False, False, False, False, Fals...</td>\n",
       "      <td>[552077, 555224, 555528, 559744, 559855, 56029...</td>\n",
       "      <td>13</td>\n",
       "    </tr>\n",
       "    <tr>\n",
       "      <td>1</td>\n",
       "      <td>1317513291</td>\n",
       "      <td>2</td>\n",
       "      <td>0</td>\n",
       "      <td>[True, False, False, False, False, False, Fals...</td>\n",
       "      <td>[552077, 555224, 555528, 559744, 559855, 56029...</td>\n",
       "      <td>8</td>\n",
       "    </tr>\n",
       "    <tr>\n",
       "      <td>2</td>\n",
       "      <td>1317513291</td>\n",
       "      <td>3</td>\n",
       "      <td>0</td>\n",
       "      <td>[True, False, False, False, False, False, Fals...</td>\n",
       "      <td>[552077, 555224, 555528, 559744, 559855, 56029...</td>\n",
       "      <td>0</td>\n",
       "    </tr>\n",
       "    <tr>\n",
       "      <td>3</td>\n",
       "      <td>1317513292</td>\n",
       "      <td>4</td>\n",
       "      <td>0</td>\n",
       "      <td>[True, False, False, False, False, False, True...</td>\n",
       "      <td>[552077, 555224, 555528, 559744, 559855, 56029...</td>\n",
       "      <td>16</td>\n",
       "    </tr>\n",
       "    <tr>\n",
       "      <td>4</td>\n",
       "      <td>1317513292</td>\n",
       "      <td>5</td>\n",
       "      <td>0</td>\n",
       "      <td>[True, False, False, False, False, False, Fals...</td>\n",
       "      <td>[552077, 555224, 555528, 559744, 559855, 56029...</td>\n",
       "      <td>1</td>\n",
       "    </tr>\n",
       "  </tbody>\n",
       "</table>\n",
       "</div>"
      ],
      "text/plain": [
       "    Timestamp  Clicked_Article Click  \\\n",
       "0  1317513291                1     0   \n",
       "1  1317513291                2     0   \n",
       "2  1317513291                3     0   \n",
       "3  1317513292                4     0   \n",
       "4  1317513292                5     0   \n",
       "\n",
       "                                       User_Features  \\\n",
       "0  [True, False, False, False, False, False, Fals...   \n",
       "1  [True, False, False, False, False, False, Fals...   \n",
       "2  [True, False, False, False, False, False, Fals...   \n",
       "3  [True, False, False, False, False, False, True...   \n",
       "4  [True, False, False, False, False, False, Fals...   \n",
       "\n",
       "                                        Article_List  Cluster  \n",
       "0  [552077, 555224, 555528, 559744, 559855, 56029...       13  \n",
       "1  [552077, 555224, 555528, 559744, 559855, 56029...        8  \n",
       "2  [552077, 555224, 555528, 559744, 559855, 56029...        0  \n",
       "3  [552077, 555224, 555528, 559744, 559855, 56029...       16  \n",
       "4  [552077, 555224, 555528, 559744, 559855, 56029...        1  "
      ]
     },
     "execution_count": 11,
     "metadata": {},
     "output_type": "execute_result"
    }
   ],
   "source": [
    "df['Clicked_Article'].replace(index_map, inplace=True)\n",
    "df['Cluster'] = kmeans.labels_\n",
    "df.head(5)"
   ]
  },
  {
   "cell_type": "markdown",
   "metadata": {},
   "source": [
    "Now we can locate the iteractions with clicks and group them by cluster and item."
   ]
  },
  {
   "cell_type": "code",
   "execution_count": 12,
   "metadata": {
    "scrolled": true
   },
   "outputs": [
    {
     "data": {
      "text/plain": [
       "Cluster  Clicked_Article\n",
       "1        23                 11\n",
       "         3                  10\n",
       "         19                  9\n",
       "         14                  9\n",
       "         25                  9\n",
       "                            ..\n",
       "11       12                  1\n",
       "10       23                  1\n",
       "         22                  1\n",
       "         16                  1\n",
       "0        1                   1\n",
       "Length: 193, dtype: int64"
      ]
     },
     "execution_count": 12,
     "metadata": {},
     "output_type": "execute_result"
    }
   ],
   "source": [
    "popular_by_cluster = df.loc[(df['Click']==1)].groupby(['Cluster','Clicked_Article']).size().sort_values(ascending=False)\n",
    "popular_by_cluster"
   ]
  },
  {
   "cell_type": "markdown",
   "metadata": {},
   "source": [
    "As this returns us with a pandas Series type, we need to create a matrix (numpy array) to hold these values. "
   ]
  },
  {
   "cell_type": "code",
   "execution_count": 13,
   "metadata": {
    "scrolled": true
   },
   "outputs": [
    {
     "data": {
      "text/plain": [
       "array([[ 0,  1,  1,  4,  0,  2,  2,  1,  1,  2,  1,  0,  1,  1,  1,  0,\n",
       "         1,  0,  1,  0,  1,  1,  0,  0,  0,  1,  0],\n",
       "       [ 0,  2,  2, 10,  2,  3,  7,  5,  5,  6,  8,  3,  5,  3,  9,  2,\n",
       "         2,  6,  7,  9,  6,  5,  7, 11,  6,  9,  7],\n",
       "       [ 0,  0,  1,  0,  1,  0,  0,  0,  0,  0,  2,  0,  0,  1,  0,  0,\n",
       "         1,  0,  0,  2,  0,  0,  1,  0,  0,  0,  1],\n",
       "       [ 0,  0,  0,  0,  0,  0,  0,  0,  0,  1,  0,  0,  0,  0,  0,  1,\n",
       "         0,  0,  0,  1,  2,  0,  0,  1,  0,  1,  0],\n",
       "       [ 0,  0,  0,  0,  0,  0,  0,  0,  0,  1,  3,  0,  1,  0,  0,  0,\n",
       "         1,  0,  0,  0,  0,  0,  2,  1,  0,  1,  2],\n",
       "       [ 0,  0,  0,  0,  0,  1,  0,  1,  1,  2,  1,  0,  0,  1,  0,  0,\n",
       "         0,  1,  0,  0,  1,  0,  2,  0,  0,  1,  0],\n",
       "       [ 0,  0,  0,  1,  0,  0,  1,  1,  0,  1,  0,  0,  0,  0,  0,  0,\n",
       "         0,  0,  0,  1,  1,  0,  0,  0,  0,  1,  0],\n",
       "       [ 0,  0,  0,  0,  0,  1,  2,  0,  0,  0,  1,  1,  0,  1,  0,  0,\n",
       "         0,  0,  1,  0,  1,  0,  1,  1,  0,  3,  0],\n",
       "       [ 0,  0,  0,  0,  2,  0,  1,  0,  0,  0,  0,  0,  0,  1,  0,  0,\n",
       "         0,  0,  1,  1,  2,  0,  0,  0,  0,  0,  0],\n",
       "       [ 0,  0,  2,  0,  1,  1,  0,  1,  0,  3,  3,  0,  0,  0,  0,  0,\n",
       "         0,  2,  0,  0,  0,  0,  0,  1,  0,  1,  3],\n",
       "       [ 0,  0,  0,  2,  0,  0,  3,  0,  0,  1,  1,  0,  0,  0,  0,  1,\n",
       "         1,  0,  0,  0,  0,  0,  1,  1,  0,  0,  2],\n",
       "       [ 0,  0,  2,  2,  0,  0,  2,  0,  0,  0,  0,  0,  1,  0,  0,  0,\n",
       "         0,  2,  0,  3,  0,  1,  0,  5,  0,  0,  0],\n",
       "       [ 0,  0,  0,  0,  1,  0,  0,  0,  0,  0,  1,  0,  1,  1,  2,  0,\n",
       "         0,  0,  0,  1,  2,  0,  1,  0,  1,  0,  2],\n",
       "       [ 0,  0,  0,  0,  0,  1,  1,  0,  0,  0,  0,  0,  0,  0,  1,  0,\n",
       "         1,  1,  0,  0,  0,  0,  0,  0,  0,  2,  0],\n",
       "       [ 0,  0,  0,  0,  1,  0,  0,  0,  1,  1,  0,  0,  1,  0,  0,  1,\n",
       "         1,  0,  1,  0,  0,  0,  0,  0,  0,  0,  1],\n",
       "       [ 0,  0,  0,  1,  0,  0,  0,  1,  0,  0,  1,  0,  0,  1,  0,  0,\n",
       "         0,  1,  0,  0,  0,  0,  0,  0,  0,  2,  0],\n",
       "       [ 0,  0,  0,  0,  0,  0,  0,  0,  0,  0,  0,  1,  0,  1,  0,  0,\n",
       "         1,  0,  0,  1,  0,  0,  1,  1,  1,  0,  1],\n",
       "       [ 0,  1,  1,  1,  0,  0,  0,  0,  0,  1,  0,  0,  0,  1,  0,  1,\n",
       "         0,  0,  0,  1,  2,  0,  0,  2,  0,  0,  4],\n",
       "       [ 0,  1,  0,  1,  0,  1,  3,  0,  0,  3,  2,  0,  0,  0,  1,  1,\n",
       "         1,  0,  3,  0,  1,  1,  1,  2,  2,  3,  0],\n",
       "       [ 0,  0,  0,  1,  0,  0,  0,  0,  0,  0,  1,  0,  0,  0,  0,  0,\n",
       "         0,  0,  0,  0,  0,  0,  0,  0,  0,  2,  1]])"
      ]
     },
     "execution_count": 13,
     "metadata": {},
     "output_type": "execute_result"
    }
   ],
   "source": [
    "pop_matrix = np.zeros((N_CLUSTERS,len(index_map)+1), dtype='int')\n",
    "\n",
    "for c in range(N_CLUSTERS):\n",
    "#     pop_matrix[c][0] = -1\n",
    "    for i in popular_by_cluster[c].index:\n",
    "        pop_matrix[c][i] = popular_by_cluster[c][i]\n",
    "\n",
    "pop_matrix"
   ]
  },
  {
   "cell_type": "markdown",
   "metadata": {},
   "source": [
    "### Saving Artifacts\n",
    "\n",
    "Now that we have all our elements to make recommendations, we can save them so our recommender can load them."
   ]
  },
  {
   "cell_type": "code",
   "execution_count": 14,
   "metadata": {},
   "outputs": [],
   "source": [
    "model = ClusteredKNN()"
   ]
  },
  {
   "cell_type": "code",
   "execution_count": 15,
   "metadata": {},
   "outputs": [
    {
     "data": {
      "text/plain": [
       "<knn_cluster.ClusteredKNN at 0x7f2ca26165f8>"
      ]
     },
     "execution_count": 15,
     "metadata": {},
     "output_type": "execute_result"
    }
   ],
   "source": [
    "model.pack(\"index_map\", index_map)"
   ]
  },
  {
   "cell_type": "code",
   "execution_count": 16,
   "metadata": {},
   "outputs": [
    {
     "data": {
      "text/plain": [
       "<knn_cluster.ClusteredKNN at 0x7f2ca26165f8>"
      ]
     },
     "execution_count": 16,
     "metadata": {},
     "output_type": "execute_result"
    }
   ],
   "source": [
    "model.pack(\"pop_matrix\", pop_matrix)"
   ]
  },
  {
   "cell_type": "code",
   "execution_count": 17,
   "metadata": {},
   "outputs": [
    {
     "data": {
      "text/plain": [
       "<knn_cluster.ClusteredKNN at 0x7f2ca26165f8>"
      ]
     },
     "execution_count": 17,
     "metadata": {},
     "output_type": "execute_result"
    }
   ],
   "source": [
    "model.pack(\"knn\", knn)"
   ]
  },
  {
   "cell_type": "code",
   "execution_count": 18,
   "metadata": {},
   "outputs": [
    {
     "data": {
      "text/plain": [
       "<knn_cluster.ClusteredKNN at 0x7f2ca26165f8>"
      ]
     },
     "execution_count": 18,
     "metadata": {},
     "output_type": "execute_result"
    }
   ],
   "source": [
    "model.pack(\"cluster_path\", kmeans)"
   ]
  },
  {
   "cell_type": "markdown",
   "metadata": {},
   "source": [
    "After packing what our recommender will need, we can test it with a small sample.\n",
    "\n",
    "Notice that, in this case, we must pass the number of neighbors to be used as `model.rank(sample, n_neighbors)`"
   ]
  },
  {
   "cell_type": "code",
   "execution_count": 19,
   "metadata": {},
   "outputs": [],
   "source": [
    "test_articles = [565648, 563115, 552077, 564335, 565589, 563938, 560290, 563643, 560620, 565822, 563787, 555528, 565364, 559855, 560518]"
   ]
  },
  {
   "cell_type": "code",
   "execution_count": 20,
   "metadata": {},
   "outputs": [
    {
     "data": {
      "text/plain": [
       "[565648,\n",
       " 565589,\n",
       " 563115,\n",
       " 563643,\n",
       " 565822,\n",
       " 555528,\n",
       " 564335,\n",
       " 563938,\n",
       " 565364,\n",
       " 560290,\n",
       " 552077,\n",
       " 563787,\n",
       " 560620,\n",
       " 560518,\n",
       " 559855]"
      ]
     },
     "execution_count": 20,
     "metadata": {},
     "output_type": "execute_result"
    }
   ],
   "source": [
    "model.rank({'Timestamp': 123456789, 'Clicked_Article': 565822, 'Click': 1, 'User_Features': sample_features[0], 'Article_List': np.asarray(test_articles)}, n_neighbors=10)"
   ]
  },
  {
   "cell_type": "markdown",
   "metadata": {},
   "source": [
    "In order to check wether the recommendation is correct, we can do it ourselves\n",
    "\n",
    "First, we get the neighbors for our feature set"
   ]
  },
  {
   "cell_type": "code",
   "execution_count": 21,
   "metadata": {},
   "outputs": [
    {
     "data": {
      "text/plain": [
       "array([[6471, 2584, 7027, 6046,  521, 1393, 4432, 1184, 6247, 2001]])"
      ]
     },
     "execution_count": 21,
     "metadata": {},
     "output_type": "execute_result"
    }
   ],
   "source": [
    "idxs = knn.kneighbors(X=sample_features, n_neighbors=10, return_distance=False)\n",
    "idxs"
   ]
  },
  {
   "cell_type": "markdown",
   "metadata": {},
   "source": [
    "Then, we get the clusters for each of these neighbors"
   ]
  },
  {
   "cell_type": "code",
   "execution_count": 22,
   "metadata": {},
   "outputs": [
    {
     "data": {
      "text/plain": [
       "array([[11, 11, 11,  5, 11,  9, 11,  5, 11,  5]], dtype=int32)"
      ]
     },
     "execution_count": 22,
     "metadata": {},
     "output_type": "execute_result"
    }
   ],
   "source": [
    "knclusters = kmeans.labels_[idxs]\n",
    "knclusters"
   ]
  },
  {
   "cell_type": "markdown",
   "metadata": {},
   "source": [
    "It is likely that most neighbors will belong to the same cluster, but it should not always be the case."
   ]
  },
  {
   "cell_type": "markdown",
   "metadata": {},
   "source": [
    "Now we can look at our popularity matrix and gather the clicks for each cluster"
   ]
  },
  {
   "cell_type": "code",
   "execution_count": 23,
   "metadata": {},
   "outputs": [
    {
     "data": {
      "text/plain": [
       "array([[0, 0, 2, 2, 0, 0, 2, 0, 0, 0, 0, 0, 1, 0, 0, 0, 0, 2, 0, 3, 0, 1,\n",
       "        0, 5, 0, 0, 0],\n",
       "       [0, 0, 2, 2, 0, 0, 2, 0, 0, 0, 0, 0, 1, 0, 0, 0, 0, 2, 0, 3, 0, 1,\n",
       "        0, 5, 0, 0, 0],\n",
       "       [0, 0, 2, 2, 0, 0, 2, 0, 0, 0, 0, 0, 1, 0, 0, 0, 0, 2, 0, 3, 0, 1,\n",
       "        0, 5, 0, 0, 0],\n",
       "       [0, 0, 0, 0, 0, 1, 0, 1, 1, 2, 1, 0, 0, 1, 0, 0, 0, 1, 0, 0, 1, 0,\n",
       "        2, 0, 0, 1, 0],\n",
       "       [0, 0, 2, 2, 0, 0, 2, 0, 0, 0, 0, 0, 1, 0, 0, 0, 0, 2, 0, 3, 0, 1,\n",
       "        0, 5, 0, 0, 0],\n",
       "       [0, 0, 2, 0, 1, 1, 0, 1, 0, 3, 3, 0, 0, 0, 0, 0, 0, 2, 0, 0, 0, 0,\n",
       "        0, 1, 0, 1, 3],\n",
       "       [0, 0, 2, 2, 0, 0, 2, 0, 0, 0, 0, 0, 1, 0, 0, 0, 0, 2, 0, 3, 0, 1,\n",
       "        0, 5, 0, 0, 0],\n",
       "       [0, 0, 0, 0, 0, 1, 0, 1, 1, 2, 1, 0, 0, 1, 0, 0, 0, 1, 0, 0, 1, 0,\n",
       "        2, 0, 0, 1, 0],\n",
       "       [0, 0, 2, 2, 0, 0, 2, 0, 0, 0, 0, 0, 1, 0, 0, 0, 0, 2, 0, 3, 0, 1,\n",
       "        0, 5, 0, 0, 0],\n",
       "       [0, 0, 0, 0, 0, 1, 0, 1, 1, 2, 1, 0, 0, 1, 0, 0, 0, 1, 0, 0, 1, 0,\n",
       "        2, 0, 0, 1, 0]])"
      ]
     },
     "execution_count": 23,
     "metadata": {},
     "output_type": "execute_result"
    }
   ],
   "source": [
    "clicks = [pop_matrix[c] for c in knclusters]\n",
    "clicks = np.asarray(clicks[0])\n",
    "clicks"
   ]
  },
  {
   "cell_type": "markdown",
   "metadata": {},
   "source": [
    "It is intended that clusters that appear more than once have their information added multiple times.\n",
    "\n",
    "This is because we will mean over these values. Therefore, the clusters that appear multiple times should be weighted differently."
   ]
  },
  {
   "cell_type": "code",
   "execution_count": 24,
   "metadata": {},
   "outputs": [
    {
     "data": {
      "text/plain": [
       "array([0. , 0. , 1.4, 1.2, 0.1, 0.4, 1.2, 0.4, 0.3, 0.9, 0.6, 0. , 0.6,\n",
       "       0.3, 0. , 0. , 0. , 1.7, 0. , 1.8, 0.3, 0.6, 0.6, 3.1, 0. , 0.4,\n",
       "       0.3])"
      ]
     },
     "execution_count": 24,
     "metadata": {},
     "output_type": "execute_result"
    }
   ],
   "source": [
    "mean_scores = np.mean(clicks, axis=0)\n",
    "mean_scores"
   ]
  },
  {
   "cell_type": "markdown",
   "metadata": {},
   "source": [
    "To get the scores specifically about the items in the recommended list, we need to translate the ids into indexes and look at those in the `mean_scores`"
   ]
  },
  {
   "cell_type": "code",
   "execution_count": 25,
   "metadata": {},
   "outputs": [
    {
     "data": {
      "text/plain": [
       "[1.4, 1.2, 0.1, 0.4, 1.2, 0.4, 0.3, 0.9, 0.0, 0.6, 0.0, 0.6, 0.3, 0.0, 0.0]"
      ]
     },
     "execution_count": 25,
     "metadata": {},
     "output_type": "execute_result"
    }
   ],
   "source": [
    "indexes = [index_map[art] for art in test_articles]\n",
    "scores = [mean_scores[idx] for idx in indexes] \n",
    "scores"
   ]
  },
  {
   "cell_type": "markdown",
   "metadata": {},
   "source": [
    "Sorting out the values we can check if the model functioned properly"
   ]
  },
  {
   "cell_type": "code",
   "execution_count": 26,
   "metadata": {},
   "outputs": [
    {
     "data": {
      "text/plain": [
       "[(1.4, 565648),\n",
       " (1.2, 565589),\n",
       " (1.2, 563115),\n",
       " (0.9, 563643),\n",
       " (0.6, 565822),\n",
       " (0.6, 555528),\n",
       " (0.4, 564335),\n",
       " (0.4, 563938),\n",
       " (0.3, 565364),\n",
       " (0.3, 560290),\n",
       " (0.1, 552077),\n",
       " (0.0, 563787),\n",
       " (0.0, 560620),\n",
       " (0.0, 560518),\n",
       " (0.0, 559855)]"
      ]
     },
     "execution_count": 26,
     "metadata": {},
     "output_type": "execute_result"
    }
   ],
   "source": [
    "sorted(zip(scores, test_articles),reverse=True)"
   ]
  }
 ],
 "metadata": {
  "kernelspec": {
   "display_name": "Python 3",
   "language": "python",
   "name": "python3"
  },
  "language_info": {
   "codemirror_mode": {
    "name": "ipython",
    "version": 3
   },
   "file_extension": ".py",
   "mimetype": "text/x-python",
   "name": "python",
   "nbconvert_exporter": "python",
   "pygments_lexer": "ipython3",
   "version": "3.6.7"
  }
 },
 "nbformat": 4,
 "nbformat_minor": 2
}
